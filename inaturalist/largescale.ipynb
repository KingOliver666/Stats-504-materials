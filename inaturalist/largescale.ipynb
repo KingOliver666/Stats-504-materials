{
 "cells": [
  {
   "cell_type": "markdown",
   "id": "9ef2cfcd",
   "metadata": {},
   "source": [
    "# iNaturalist data\n",
    "\n",
    "[iNaturalist](https://inaturalist.org) is a platform that records observations of living entities (we will be considering data for plants), annotated with their locations and taxonomic identifications. This notebook illustrates the concept of \"large scale inference\" to study the presence of systematic changes in species locations over time. "
   ]
  },
  {
   "cell_type": "code",
   "execution_count": null,
   "id": "25e87ae9",
   "metadata": {},
   "outputs": [],
   "source": [
    "import numpy as np\n",
    "import pandas as pd\n",
    "import statsmodels.api as sm\n",
    "from pathlib import Path\n",
    "import cartopy.crs as ccrs\n",
    "from scipy.stats.distributions import norm, chi2\n",
    "from scipy.stats.distributions import t as tdist\n",
    "from statsmodels.stats.multitest import local_fdr\n",
    "from statsmodels.nonparametric.smoothers_lowess import lowess\n",
    "import matplotlib.pyplot as plt"
   ]
  },
  {
   "cell_type": "markdown",
   "id": "949a7c37",
   "metadata": {},
   "source": [
    "Select a [class](https://en.wikipedia.org/wiki/Class_(biology)) of species to analyze.  A class is a taxonomic grouping that includes many species.  [Pinopsida](https://en.wikipedia.org/wiki/Conifer) are conifers and [polypodiopsida](https://en.wikipedia.org/wiki/Fern) are ferns."
   ]
  },
  {
   "cell_type": "code",
   "execution_count": null,
   "id": "8778ac1e",
   "metadata": {},
   "outputs": [],
   "source": [
    "#pclass = \"Pinopsida\"\n",
    "pclass = \"Polypodiopsida\""
   ]
  },
  {
   "cell_type": "markdown",
   "id": "970fac0c",
   "metadata": {},
   "source": [
    "The data are located at this path:"
   ]
  },
  {
   "cell_type": "code",
   "execution_count": null,
   "id": "704165e0",
   "metadata": {},
   "outputs": [],
   "source": [
    "pa = Path(\"/home/kshedden/data/Teaching/inaturalist\")"
   ]
  },
  {
   "cell_type": "code",
   "execution_count": null,
   "id": "7fa02a50",
   "metadata": {},
   "outputs": [],
   "source": [
    "fn = pa / (\"Plantae_%s.csv.gz\" % pclass)"
   ]
  },
  {
   "cell_type": "markdown",
   "id": "7295b016",
   "metadata": {},
   "source": [
    "Load the data and construct a time variable that starts on January 1, 2015 and counts in 1000's of days from that origin.  Below we will be interested in the evidence that for specific species, the average latitude changes linearly as a function of this 'day' variable. "
   ]
  },
  {
   "cell_type": "code",
   "execution_count": null,
   "id": "99945563",
   "metadata": {},
   "outputs": [],
   "source": [
    "df = pd.read_csv(fn, parse_dates=[\"eventDate\"])\n",
    "df[\"day\"] = (df[\"eventDate\"] - pd.to_datetime(\"2015-01-01\")).dt.days\n",
    "df = df.query(\"day >= 0\")\n",
    "df[\"day\"] /= 1000"
   ]
  },
  {
   "cell_type": "markdown",
   "id": "c89198b1",
   "metadata": {},
   "source": [
    "This is the number of observations (the number of plant occurrences in the dataset for the selected class):"
   ]
  },
  {
   "cell_type": "code",
   "execution_count": null,
   "id": "f18137f0",
   "metadata": {},
   "outputs": [],
   "source": [
    "df.shape"
   ]
  },
  {
   "cell_type": "markdown",
   "id": "8f4e0681",
   "metadata": {},
   "source": [
    "The next cell calculates the number of species."
   ]
  },
  {
   "cell_type": "code",
   "execution_count": null,
   "id": "b4b478bd",
   "metadata": {},
   "outputs": [],
   "source": [
    "df[\"species\"].value_counts().size"
   ]
  },
  {
   "cell_type": "code",
   "execution_count": null,
   "id": "4f8c9ee5",
   "metadata": {},
   "outputs": [],
   "source": [
    "df.head()"
   ]
  },
  {
   "cell_type": "markdown",
   "id": "a09f1221",
   "metadata": {},
   "source": [
    "Make a plot showing the distribution of the occurences."
   ]
  },
  {
   "cell_type": "code",
   "execution_count": null,
   "id": "46e1bff8",
   "metadata": {},
   "outputs": [],
   "source": [
    "plt.clf()\n",
    "plt.figure(figsize=(9, 7.25))\n",
    "ax = plt.axes([0.05, 0.05, 0.84, 0.88], projection=ccrs.PlateCarree(central_longitude=180))\n",
    "ax.coastlines()\n",
    "ax.set_extent([0, 310, -60, 80])\n",
    "\n",
    "plt.scatter(df[\"decimalLongitude\"], df[\"decimalLatitude\"], s=8, alpha=0.1, color=\"red\", \n",
    "            transform=ccrs.Geodetic(), rasterized=True)"
   ]
  },
  {
   "cell_type": "markdown",
   "id": "0da9457a",
   "metadata": {},
   "source": [
    "Make a plot showing the distribution of the 'day' variable."
   ]
  },
  {
   "cell_type": "code",
   "execution_count": null,
   "id": "c28f4886",
   "metadata": {},
   "outputs": [],
   "source": [
    "plt.hist(df[\"day\"])\n",
    "plt.xlabel(\"Day (1000s)\")\n",
    "plt.ylabel(\"Frequency\")"
   ]
  },
  {
   "cell_type": "markdown",
   "id": "dab02341",
   "metadata": {},
   "source": [
    "Get the mean latitude per species."
   ]
  },
  {
   "cell_type": "code",
   "execution_count": null,
   "id": "6d85a610",
   "metadata": {},
   "outputs": [],
   "source": [
    "meanLat = df.groupby(\"species\")[\"decimalLatitude\"].aggregate(np.mean)\n",
    "meanLat = meanLat.rename(\"meanLatitude\")"
   ]
  },
  {
   "cell_type": "markdown",
   "id": "6c0d198e",
   "metadata": {},
   "source": [
    "Treat longitude as a circular variable"
   ]
  },
  {
   "cell_type": "code",
   "execution_count": null,
   "id": "ec480002",
   "metadata": {},
   "outputs": [],
   "source": [
    "df[\"lonrad\"] = np.pi * df[\"decimalLongitude\"] / 180\n",
    "df[\"lonrad_sin\"] = np.sin(df[\"lonrad\"])\n",
    "df[\"lonrad_cos\"] = np.cos(df[\"lonrad\"])"
   ]
  },
  {
   "cell_type": "markdown",
   "id": "73748375",
   "metadata": {},
   "source": [
    "Create a variable that cannot contain any unique information about the outcome.  This is used to assess the validity of the analyses conducted below."
   ]
  },
  {
   "cell_type": "code",
   "execution_count": null,
   "id": "e04a96fd",
   "metadata": {},
   "outputs": [],
   "source": [
    "df[\"fake\"] = df[\"lonrad_cos\"] + np.random.normal(size=df.shape[0])"
   ]
  },
  {
   "cell_type": "markdown",
   "id": "8ee996bb",
   "metadata": {},
   "source": [
    "Below we fit a linear model predicting latitude from day and other variables, using OLS, for each species.  The main interest here is the relationship between \"day\" and the mean latitude.  If this coefficient is positive for a given species, this species is identified at more northernly locations as time progresses.  If the coefficient is negative the species is identified at more southernly locations as time progresses.  We assess these effects using two models.  The first model has only main effects and the second model allows the time trend in mean latitude to vary by longitude."
   ]
  },
  {
   "cell_type": "code",
   "execution_count": null,
   "id": "5fdf327f",
   "metadata": {},
   "outputs": [],
   "source": [
    "rr = []\n",
    "for (sp,dx) in df.groupby(\"species\"):\n",
    "\n",
    "    if dx.shape[0] < 10:\n",
    "        continue\n",
    "\n",
    "    md1 = sm.OLS.from_formula(\"decimalLatitude ~ day + lonrad_sin + lonrad_cos + fake\", data=dx)\n",
    "    mr1 = md1.fit()\n",
    "\n",
    "    md2 = sm.OLS.from_formula(\"decimalLatitude ~ day * (lonrad_sin + lonrad_cos + fake)\", data=dx)\n",
    "    mr2 = md2.fit()\n",
    "\n",
    "    # The likelihood ratio test statistic and its degrees of freedom.\n",
    "    lrt = 2 * (mr2.llf - mr1.llf)\n",
    "    dof = mr2.df_model - mr1.df_model\n",
    "\n",
    "    # Apply a normalizing transformation to the LRT statistics.\n",
    "    # This is called the Wilson-Hilferty transformation.\n",
    "    if dof == 3 and np.linalg.svd(md1.exog,0)[1].min() > 1e-5:\n",
    "        lrt_z = (lrt / dof)**(1/3)\n",
    "        lrt_z -= 1 - 2/(9*dof)\n",
    "        lrt_z /= np.sqrt(2/(9*dof))\n",
    "    else:\n",
    "        lrt_z = 0\n",
    "\n",
    "    rr.append([sp, dx.shape[0], mr1.params[\"day\"], mr1.bse[\"day\"], mr1.params[\"fake\"], mr1.bse[\"fake\"], lrt_z])\n",
    " \n",
    "rr = pd.DataFrame(rr, columns=[\"species\", \"n\", \"day_slope\", \"day_slope_se\", \"fake_slope\", \"fake_slope_se\", \"lrt_z\"])\n",
    "rr = rr.loc[rr[\"day_slope_se\"] > 0]\n",
    "rr.head()"
   ]
  },
  {
   "cell_type": "markdown",
   "id": "2089722f",
   "metadata": {},
   "source": [
    "Construct T-scores for parameters of interest. For species with large sample sizes these should be approximate Z-scores (they follow a standard normal distribution under the null hypothesis that the day slope is zero).  For smaller sample sizes we need to account for the uncertainty in the scale parameter estimate. "
   ]
  },
  {
   "cell_type": "code",
   "execution_count": null,
   "id": "3b359def",
   "metadata": {},
   "outputs": [],
   "source": [
    "rr[\"day_slope_t\"] = rr[\"day_slope\"] / rr[\"day_slope_se\"]\n",
    "rr[\"fake_slope_t\"] = rr[\"fake_slope\"] / rr[\"fake_slope_se\"]\n",
    "rr.head()"
   ]
  },
  {
   "cell_type": "code",
   "execution_count": null,
   "id": "918a6d51",
   "metadata": {
    "lines_to_next_cell": 1
   },
   "outputs": [],
   "source": [
    "rr = pd.merge(rr, meanLat, left_on=\"species\", right_index=True)\n",
    "rr.head()"
   ]
  },
  {
   "cell_type": "markdown",
   "id": "902396f8",
   "metadata": {},
   "source": [
    "Account for finite group sizes, by mapping the t-distributed statistics to normally distributed statistics."
   ]
  },
  {
   "cell_type": "code",
   "execution_count": null,
   "id": "865e002d",
   "metadata": {
    "lines_to_next_cell": 1
   },
   "outputs": [],
   "source": [
    "def t_adjust(rr, vn, dof=5):\n",
    "    x = tdist.cdf(rr[vn], rr[\"n\"] - dof)\n",
    "    x = np.clip(x, 1e-12, 1-1e-12)\n",
    "    return norm.ppf(x)\n",
    "\n",
    "rr[\"day_slope_z\"] = t_adjust(rr, \"day_slope_t\")\n",
    "rr[\"fake_slope_z\"] = t_adjust(rr, \"fake_slope_t\")"
   ]
  },
  {
   "cell_type": "markdown",
   "id": "a3d3f0f9",
   "metadata": {},
   "source": [
    "The plot below illustrates the conversion from t-scores to z-scores."
   ]
  },
  {
   "cell_type": "code",
   "execution_count": null,
   "id": "e3e9eae4",
   "metadata": {},
   "outputs": [],
   "source": [
    "plt.clf()\n",
    "plt.grid(True)\n",
    "plt.plot(rr[\"day_slope_t\"], rr[\"day_slope_z\"], \"o\", alpha=0.2)\n",
    "plt.xlabel(\"T-statistic\", size=15)\n",
    "plt.ylabel(\"Z-statistic\", size=15)"
   ]
  },
  {
   "cell_type": "markdown",
   "id": "8c597652",
   "metadata": {},
   "source": [
    "Below we have a quantile-quantile plot comparing the Z-scores observed for the data to the reference Z-scores.  \n",
    "\n",
    "When analyzing the \"polypodiopsida\" (fern) class, we see that the observed Z-scores are substantially inflated relative to the reference Z-scores, suggesting that many of the day slope parameters are substantially different from zero.  The z-scores for the \"fake\" variable are almost perfectly standard normal, as expected.  The third plot below shows the normalized likelihood ratio test statistic comparing the base model with additive day and longitude effects to the model with day and longitude interactions."
   ]
  },
  {
   "cell_type": "code",
   "execution_count": null,
   "id": "ecc13750",
   "metadata": {},
   "outputs": [],
   "source": [
    "n = rr.shape[0]\n",
    "xx = np.linspace(1/n, 1-1/n, n)\n",
    "yy = norm.ppf(xx)\n",
    "for vn in [\"day_slope\", \"fake_slope\", \"lrt\"]:\n",
    "    zs = np.sort(rr[\"%s_z\" % vn])\n",
    "    plt.clf()\n",
    "    plt.grid(True)\n",
    "    plt.plot(zs, yy, \"-\")\n",
    "    ii = np.ceil(np.linspace(0.1, 0.9, 9) * len(yy)).astype(int)\n",
    "    plt.plot(zs[ii], yy[ii], \"o\", color=\"red\")\n",
    "    plt.axline((0, 0), slope=1, color=\"grey\")\n",
    "    plt.xlabel(\"Observed %s quantiles\" % vn, size=15)\n",
    "    plt.ylabel(\"Normal quantiles\", size=15)\n",
    "    plt.show()"
   ]
  },
  {
   "cell_type": "markdown",
   "id": "0e91e3e5",
   "metadata": {},
   "source": [
    "To control family-wise error rates at 0.05 using the Bonferroni approach, the Z-scores must exceed this value in magnitude."
   ]
  },
  {
   "cell_type": "code",
   "execution_count": null,
   "id": "02428bc0",
   "metadata": {},
   "outputs": [],
   "source": [
    "n = rr[\"day_slope_z\"].dropna().size\n",
    "bonf_z = norm.ppf(1 - 0.025 / n)\n",
    "np.sum(np.abs(rr[\"day_slope_z\"]) > bonf_z)\n",
    "\n",
    "z = np.abs(rr[\"day_slope_z\"].dropna())\n",
    "z = np.sort(z)[::-1]\n",
    "plt.clf()\n",
    "plt.grid(True)\n",
    "plt.plot(z)\n",
    "plt.axhline(bonf_z, color=\"purple\")\n",
    "plt.xlabel(\"Number of species\")\n",
    "plt.ylabel(\"Z-score\")"
   ]
  },
  {
   "cell_type": "markdown",
   "id": "03f1346a",
   "metadata": {},
   "source": [
    "Calculate the local False Discovery Rate (local FDR)."
   ]
  },
  {
   "cell_type": "code",
   "execution_count": null,
   "id": "643cfae4",
   "metadata": {},
   "outputs": [],
   "source": [
    "rr[\"locfdr\"] = local_fdr(rr[\"day_slope_z\"])\n",
    "lfdr = np.sort(rr[\"locfdr\"])\n",
    "lfdr = lfdr[lfdr < 1]\n",
    "\n",
    "plt.clf()\n",
    "plt.grid(True)\n",
    "plt.plot(lfdr)\n",
    "plt.xlabel(\"Number of species\")\n",
    "plt.ylabel(\"local FDR\")"
   ]
  },
  {
   "cell_type": "markdown",
   "id": "b650b423",
   "metadata": {},
   "source": [
    "Plot the day slope Z-score against the mean latitude, to assess whether there are systematic trends in the Z-scores relative to distance from the equator.  The orange curves are empirical estimates of the 10th and 90th percentiles of the Z-scores at each fixed latitude.  The purple lines are the corresponding reference values under the null hypothesis.  \n",
    "\n",
    "When analyzing the data for \"polypodiopsida\" (ferns), this plot reveals several points of interest.  There is an excess of large Z-scores at every latitude, suggesting that plants are changing their distributions (in latitude terms), and this is happening at all latidues.  Second, there is a symmetry between large positive and large negative Z-scores, suggesting that plants are as likely to move toward the poles as they are to move toward the equator.  Third, there may be slightly stronger evidence for changes in the northern part of the northern hemisphere compared to other regions."
   ]
  },
  {
   "cell_type": "code",
   "execution_count": null,
   "id": "95d1702a",
   "metadata": {},
   "outputs": [],
   "source": [
    "rr = rr.sort_values(by=\"meanLatitude\")    \n",
    "plt.clf()\n",
    "plt.grid(True)\n",
    "plt.plot(rr[\"meanLatitude\"], rr[\"day_slope_z\"], \"o\", alpha=0.5)\n",
    "y1 = rr[\"day_slope_z\"].rolling(200).quantile(0.05)\n",
    "y2 = rr[\"day_slope_z\"].rolling(200).quantile(0.95)\n",
    "plt.plot(rr[\"meanLatitude\"], y1, color=\"orange\")\n",
    "plt.plot(rr[\"meanLatitude\"], y2, color=\"orange\")\n",
    "z = norm.ppf(0.95)\n",
    "plt.axhline(z, color=\"purple\")\n",
    "plt.axhline(-z, color=\"purple\")\n",
    "plt.xlabel(\"Mean latitude\", size=15)\n",
    "plt.ylabel(\"Day slope (Z)\", size=15)"
   ]
  },
  {
   "cell_type": "markdown",
   "id": "881f5ba3",
   "metadata": {},
   "source": [
    "Next we plot the local FDR against the day slope Z-score.  This plot shows that small FDRs (<0.1) are obtained for Z-scores exceeding 3 in magnitude."
   ]
  },
  {
   "cell_type": "code",
   "execution_count": null,
   "id": "38a3add5",
   "metadata": {},
   "outputs": [],
   "source": [
    "plt.clf()\n",
    "plt.grid(True)\n",
    "plt.plot(rr[\"day_slope_z\"], rr[\"locfdr\"], \"o\", alpha=0.5)\n",
    "plt.xlabel(\"Day slope (Z)\", size=15)\n",
    "plt.ylabel(\"Local FDR\", size=15)"
   ]
  },
  {
   "cell_type": "markdown",
   "id": "dd845f29",
   "metadata": {},
   "source": [
    "Next we plot the day slope Z-score against the sample size.  If we are mainly limited by power then the larger Z-scores will be concentrated where the sample size is larger.  This plot makes it clear that there are some Z-scores falling far outside the likely range for a standard normal variable, and these values can be either positive or negative.  Most of the largest Z-scores (in magnitude) occur with the larger sample sizes."
   ]
  },
  {
   "cell_type": "code",
   "execution_count": null,
   "id": "944c0d46",
   "metadata": {},
   "outputs": [],
   "source": [
    "rr = rr.sort_values(by=\"n\")\n",
    "rr[\"logn\"] = np.log(rr[\"n\"])\n",
    "plt.clf()\n",
    "plt.grid(True)\n",
    "plt.plot(rr[\"logn\"], rr[\"day_slope_z\"], \"o\", alpha=0.5)\n",
    "y1 = rr[\"day_slope_z\"].rolling(200).quantile(0.05)\n",
    "y2 = rr[\"day_slope_z\"].rolling(200).quantile(0.95)\n",
    "plt.plot(rr[\"logn\"], y1, color=\"orange\")\n",
    "plt.plot(rr[\"logn\"], y2, color=\"orange\")\n",
    "z = norm.ppf(0.95)\n",
    "plt.axhline(z, color=\"purple\")\n",
    "plt.axhline(-z, color=\"purple\")\n",
    "plt.xlabel(\"Log n\", size=15)\n",
    "plt.ylabel(\"Day slope (Z)\", size=15)"
   ]
  },
  {
   "cell_type": "markdown",
   "id": "85294844",
   "metadata": {},
   "source": [
    "We can also smooth the absolute Z-scores against log sample size.  Under the null hypothesis the Z-scores follow a standard normal distribution, and the expectation of the absolute value of a standard normal variate is $\\sqrt{2/\\pi}$, which is plotted below as the purple line.  It appears that there is some overdispersion of the Z-scores for the smaller sample sizes, but the extent of overdispersion (evidence for a relationship between mean latitude and time) is primarily present for the species with more than around $\\exp(6) \\approx 400$ observations."
   ]
  },
  {
   "cell_type": "code",
   "execution_count": null,
   "id": "ee1e913c",
   "metadata": {},
   "outputs": [],
   "source": [
    "plt.clf()\n",
    "plt.grid(True)\n",
    "x = np.log(rr[\"n\"])\n",
    "y = np.abs(rr[\"day_slope_z\"])\n",
    "plt.plot(x, y, \"o\", alpha=0.5)\n",
    "xy = lowess(y, x)\n",
    "plt.plot(xy[:, 0], xy[:, 1], \"-\", color=\"orange\")\n",
    "plt.axhline(np.sqrt(2/np.pi), color=\"purple\")\n",
    "plt.xlabel(\"Log n\", size=15)\n",
    "plt.ylabel(\"Absolute day slope (|Z|)\", size=15)"
   ]
  },
  {
   "cell_type": "markdown",
   "id": "a8aa673f",
   "metadata": {},
   "source": []
  }
 ],
 "metadata": {
  "jupytext": {
   "cell_metadata_filter": "-all",
   "main_language": "python",
   "notebook_metadata_filter": "-all"
  },
  "kernelspec": {
   "display_name": "Python 3 (ipykernel)",
   "language": "python",
   "name": "python3"
  },
  "language_info": {
   "codemirror_mode": {
    "name": "ipython",
    "version": 3
   },
   "file_extension": ".py",
   "mimetype": "text/x-python",
   "name": "python",
   "nbconvert_exporter": "python",
   "pygments_lexer": "ipython3",
   "version": "3.10.9"
  }
 },
 "nbformat": 4,
 "nbformat_minor": 5
}
