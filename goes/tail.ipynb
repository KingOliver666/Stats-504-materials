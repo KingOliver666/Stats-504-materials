{
 "cells": [
  {
   "cell_type": "code",
   "execution_count": null,
   "id": "ad7a449c",
   "metadata": {},
   "outputs": [],
   "source": [
    "import pandas as pd\n",
    "import numpy as np\n",
    "import matplotlib.pyplot as plt\n",
    "from matplotlib.backends.backend_pdf import PdfPages\n",
    "from scipy import stats\n",
    "from read import get_goes"
   ]
  },
  {
   "cell_type": "code",
   "execution_count": null,
   "id": "08d4d1e0",
   "metadata": {
    "lines_to_next_cell": 1
   },
   "outputs": [],
   "source": [
    "df = get_goes(2017)"
   ]
  },
  {
   "cell_type": "code",
   "execution_count": null,
   "id": "91a6ad88",
   "metadata": {
    "lines_to_next_cell": 1
   },
   "outputs": [],
   "source": [
    "# Estimate the tail index.  If P(X > t) ~ 1/x^a, then\n",
    "# the Hill estimator estimates a.\n",
    "def hill(x, p=0.001):\n",
    "    x = np.sort(x)\n",
    "    n = len(x)\n",
    "    k = int(p*n)\n",
    "    m = n - k\n",
    "    lx = np.log(x[m:])\n",
    "    lx -= lx[0]\n",
    "    alpha = 1 / np.mean(lx)\n",
    "    return alpha"
   ]
  },
  {
   "cell_type": "code",
   "execution_count": null,
   "id": "e38e1b22",
   "metadata": {
    "lines_to_next_cell": 1
   },
   "outputs": [],
   "source": [
    "# Make a Pareto plot using the upper p proportion\n",
    "# of the data in x.\n",
    "def pareto_plot(x, title, p=0.01):\n",
    "\n",
    "    # Probability points corresponding to the upper\n",
    "    # p fraction of the data.\n",
    "    n = len(x[0])\n",
    "    k = int((1 - p) * n)\n",
    "    q = np.arange(1, n+1) / (n+2)\n",
    "    q = q[k:]\n",
    "\n",
    "    plt.clf()\n",
    "    plt.title(\"%s (n=%d observations)\" % (title, len(x[0])))\n",
    "    plt.grid(True)\n",
    "    for y in x:\n",
    "        y = np.sort(y)\n",
    "        y = y[k:]\n",
    "        plt.plot(np.log(y), np.log(1 - q), color=\"grey\", alpha=0.8)\n",
    "    plt.xlabel(\"Observed log quantile\", size=15)\n",
    "    plt.ylabel(\"Log complementary probability\", size=15)\n",
    "    pdf.savefig()"
   ]
  },
  {
   "cell_type": "code",
   "execution_count": null,
   "id": "80f474e1",
   "metadata": {},
   "outputs": [],
   "source": [
    "pdf = PdfPages(\"tail_py.pdf\")"
   ]
  },
  {
   "cell_type": "code",
   "execution_count": null,
   "id": "358c4a55",
   "metadata": {},
   "outputs": [],
   "source": [
    "# Check the Hill estimator using Pareto data\n",
    "for n in [int(1e4), int(1e5), int(1e6)]:\n",
    "    print(\"Hill slopes for Pareto data (n=%d):\" % n)\n",
    "    for b in [1, 2, 3, 4]:\n",
    "        pareto_plot([stats.pareto.rvs(b, size=n) for _ in range(10)], \"Pareto data with b=%.1f\" % b)\n",
    "\n",
    "        # Equivalent: f1 = np.exp(-np.log(np.random.uniform(size=n)) / b)\n",
    "        f1 = stats.pareto.rvs(b, size=n)\n",
    "        for p in [1e-5, 1e-4, 1e-3, 1e-2]:\n",
    "            if p*n > 10:\n",
    "                alpha = hill(f1, p)\n",
    "                print(\"%5d    %8.6f %8d %12.2f\" % (b, p, int(p*len(f1)), alpha))"
   ]
  },
  {
   "cell_type": "code",
   "execution_count": null,
   "id": "50f10461",
   "metadata": {},
   "outputs": [],
   "source": [
    "# Check the Hill estimator using non-Pareto data with a Pareto tail\n",
    "n = int(1e6)\n",
    "print(\"\\nHill slopes for non-Pareto data with Pareto tail (n=%d):\" % n)\n",
    "for b in [1, 2, 3, 4]:\n",
    "    x = []\n",
    "    for _ in range(10):\n",
    "        f1 = stats.pareto.rvs(b, size=n)\n",
    "        ii = np.random.choice(range(n), n//2)\n",
    "        f1[ii] = -np.log(np.random.uniform(len(ii)))\n",
    "        x.append(f1)\n",
    "    pareto_plot(x, \"Pareto/exponential mixture with b=%.1f\" % b)\n",
    "    f1 = x[0]\n",
    "    for p in [1e-5, 1e-4, 1e-3, 1e-2]:\n",
    "        alpha = hill(f1, p)\n",
    "        print(\"%5d    %8.6f %8d %12.2f\" % (b, p, int(p*len(f1)), alpha))"
   ]
  },
  {
   "cell_type": "code",
   "execution_count": null,
   "id": "e659f9af",
   "metadata": {},
   "outputs": [],
   "source": [
    "# What does the Hill estimator do when the tail is not heavy?\n",
    "n = int(1e6)\n",
    "x = [np.random.normal(size=n) for _ in range(10)]\n",
    "pareto_plot(x, \"Gaussian data\")\n",
    "f1 = x[0]\n",
    "print(\"\\nGaussian (light-tailed) data:\")\n",
    "for p in [1e-5, 1e-4, 1e-3, 1e-2]:\n",
    "    alpha = hill(f1, p)\n",
    "    print(\"%8.6f %8d %12.2f\" % (p, int(p*len(f1)), alpha))"
   ]
  },
  {
   "cell_type": "code",
   "execution_count": null,
   "id": "fb63a750",
   "metadata": {},
   "outputs": [],
   "source": [
    "# Make Pareto plots of the GOES-flux data and first differences.\n",
    "pareto_plot([df[\"Flux1\"].values], \"GOES Flux-1 data\")\n",
    "pareto_plot([df[\"Flux2\"].values], \"GOES Flux-2 data\")\n",
    "pareto_plot([np.diff(df[\"Flux1\"].values)], \"GOES Flux-1 data (differenced)\")\n",
    "pareto_plot([np.diff(df[\"Flux2\"].values)], \"GOES Flux-2 data (differenced)\")"
   ]
  },
  {
   "cell_type": "code",
   "execution_count": null,
   "id": "5a8019cf",
   "metadata": {},
   "outputs": [],
   "source": [
    "# Estimate tail parameters for the GOES-flux data and first differences.\n",
    "for d in [False, True]:\n",
    "    f1 = df[\"Flux1\"].values\n",
    "    if d:\n",
    "        print(\"\\nX-ray flux data (differenced):\")\n",
    "        f1 = np.diff(f1)\n",
    "    else:\n",
    "        print(\"\\nX-ray flux data:\")\n",
    "    for p in [1e-6, 1e-5, 1e-4, 1e-3, 1e-2]:\n",
    "        alpha = hill(f1, p)\n",
    "        print(\"%8.6f %8d %12.2f\" % (p, int(p*len(f1)), alpha))"
   ]
  },
  {
   "cell_type": "code",
   "execution_count": null,
   "id": "e75fed31",
   "metadata": {},
   "outputs": [],
   "source": [
    "pdf.close()"
   ]
  }
 ],
 "metadata": {
  "jupytext": {
   "cell_metadata_filter": "-all",
   "main_language": "python",
   "notebook_metadata_filter": "-all"
  }
 },
 "nbformat": 4,
 "nbformat_minor": 5
}
