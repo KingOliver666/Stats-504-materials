{
 "cells": [
  {
   "cell_type": "markdown",
   "id": "7d537429",
   "metadata": {},
   "source": [
    "# Long range dependence in the GOES data\n",
    "\n",
    "A time series exhibits long range dependence if its autocorrelation function is not absolutely summable.  Any time series that we observe in practice is finite and therefore the sample autocorrelation function will always be absolutely summable.  Therefore, we need a more indirect way to assess whether a time series has long range dependence.  There are many approaches for doing this and it remains an area of active research.  Below we illustrate two methods for estimating the Hurst parameter using the GOES data."
   ]
  },
  {
   "cell_type": "code",
   "execution_count": 31,
   "id": "057cbdf1",
   "metadata": {},
   "outputs": [],
   "source": [
    "import numpy as np\n",
    "import matplotlib.pyplot as plt\n",
    "from read import *"
   ]
  },
  {
   "cell_type": "code",
   "execution_count": 2,
   "id": "0c483374",
   "metadata": {},
   "outputs": [],
   "source": [
    "df = get_goes(2017)"
   ]
  },
  {
   "cell_type": "markdown",
   "id": "cebca141",
   "metadata": {
    "lines_to_next_cell": 1
   },
   "source": [
    "A basic fact from elementary statistics is that the variance of the sample mean of $m$ iid observations is $\\sigma^2/m$, where $\\sigma^2$ is the variance of one observation.  If instead of iid data we have short range dependent stationary data, the variance of the sample mean of $m$ consecutive values is $k/m$, for a constant $k$ that depends on the autocovariances.  However if the data are long-range dependent, the variance of $m$ consecutive values has the form $km^{2(H-1)}$.  This gives rise to a means for estimating $H$ -- we can partition the observed series into blocks of size $m$, take the sample mean of each block, then take the variance of these sample means.  We can then do this for various values of $m$ and view the log variance in relation to the logarithm of the block size $m$."
   ]
  },
  {
   "cell_type": "code",
   "execution_count": 40,
   "id": "41d72980",
   "metadata": {
    "lines_to_next_cell": 1
   },
   "outputs": [],
   "source": [
    "def hurst_vs(df, nn, d):\n",
    "    \"\"\"Estimate the Hurst parameter using the variance scaling method.\"\"\"\n",
    "\n",
    "    r = np.zeros((len(nn), 2))\n",
    "    for j, m in enumerate(nn):\n",
    "\n",
    "        # Generate a matrix of non-overlapping blocks of\n",
    "        # size m.\n",
    "        _, flx = make_blocks(df, m, d)\n",
    "\n",
    "        # Calculate the sample mean of each block.\n",
    "        bm = flx.mean(1)\n",
    "\n",
    "        # Take the sample variance of the block means.\n",
    "        r[j, :] = [m, bm.var()]\n",
    "\n",
    "    # Estimate the Hurst exponent from the variances of\n",
    "    # the sample means.\n",
    "    rl = np.log(r)\n",
    "    cc = np.cov(rl[:, 0], rl[:, 1])\n",
    "    b = cc[0, 1] / cc[0, 0]\n",
    "\n",
    "    return 1 + b/2"
   ]
  },
  {
   "cell_type": "markdown",
   "id": "0ee94b37",
   "metadata": {},
   "source": [
    "Another more recent method for estimating the Hurst parameter is the [triangle total areas method](https://www.sciencedirect.com/science/article/pii/S0378437121005616)."
   ]
  },
  {
   "cell_type": "code",
   "execution_count": 80,
   "id": "d2e56969",
   "metadata": {},
   "outputs": [],
   "source": [
    "def hurst_tta(z, nn):\n",
    "    \"\"\"Estimate the Hurst parameter using the triangle total areas method.\"\"\"\n",
    "    z = z - np.median(z)\n",
    "    z = z / (np.quantile(z, 0.75) - np.quantile(z, 0.25))\n",
    "    z = np.cumsum(z)\n",
    "    def h(d):\n",
    "        u = np.mean(np.abs(z[2*d::d] - 2*z[d:-d:d] + z[0:-2*d:d])) * d / 2\n",
    "        return u\n",
    "    f = np.asarray([h(x) for x in nn])\n",
    "    cc = np.cov(np.log(f), np.log(nn))\n",
    "    return cc[0, 1] / cc[1, 1] - 1"
   ]
  },
  {
   "cell_type": "markdown",
   "id": "c6dcb492",
   "metadata": {},
   "source": [
    "As a check, estimate the Hurst parameter for IID normal data (the true value of the Hurst parameter here is 1/2)."
   ]
  },
  {
   "cell_type": "code",
   "execution_count": 72,
   "id": "fc3a4e99",
   "metadata": {},
   "outputs": [
    {
     "name": "stdout",
     "output_type": "stream",
     "text": [
      "Estimated Hurst parameter for IID standard normal data:\n",
      "0.5127082459510877\n",
      "0.49806627583130636\n"
     ]
    }
   ],
   "source": [
    "nn = [4, 8, 16, 32, 64, 128, 256, 512, 1024, 2048]\n",
    "dx = df.iloc[0:100000, :].copy()\n",
    "dx[\"Flux1\"] = np.random.normal(size=100000)\n",
    "h_vs = hurst_vs(dx, nn, 0)\n",
    "h_tta = hurst_tta(dx[\"Flux1\"].values, nn)\n",
    "print(\"Estimated Hurst parameter for IID standard normal data:\")\n",
    "print(h_vs)\n",
    "print(h_tta)"
   ]
  },
  {
   "cell_type": "markdown",
   "id": "562a41c3",
   "metadata": {},
   "source": [
    "As another check, simulate correlated data with short-range dependence (the true value of the Hurst parameter is stil 1/2)."
   ]
  },
  {
   "cell_type": "code",
   "execution_count": 75,
   "id": "530378b3",
   "metadata": {},
   "outputs": [
    {
     "name": "stdout",
     "output_type": "stream",
     "text": [
      "Estimated Hurst parameter for short-range dependent normal data:\n",
      "0.5243773239692604\n",
      "0.5349938181036027\n"
     ]
    }
   ],
   "source": [
    "fx = np.random.normal(size=dx.shape[0])\n",
    "r = 0.5\n",
    "for i in range(1, len(fx)):\n",
    "    fx[i] = r*fx[i-1] + np.sqrt(1 - r**2)*fx[i]\n",
    "dx[\"Flux1\"] = fx\n",
    "h_vs = hurst_vs(dx, nn, 0)\n",
    "h_tta = hurst_tta(dx[\"Flux1\"].values, nn)\n",
    "print(\"Estimated Hurst parameter for short-range dependent normal data:\")\n",
    "print(h_vs)\n",
    "print(h_tta)"
   ]
  },
  {
   "cell_type": "markdown",
   "id": "42509f70",
   "metadata": {},
   "source": [
    "Now we can estimate the Hurst Parameter for the GOES data."
   ]
  },
  {
   "cell_type": "code",
   "execution_count": 79,
   "id": "60b34778",
   "metadata": {},
   "outputs": [
    {
     "name": "stdout",
     "output_type": "stream",
     "text": [
      "[0.9778270987722548, 0.5196674034404193, 1.2420009129883933]\n",
      "[0.8912463473510525, 0.6510102930429091, 1.3233700649876634]\n",
      "[0.9802905382681019, 0.29094045399919444, 1.2039557835192882]\n",
      "[0.9667239658373004, 0.3072446674824568, 1.2892720074847102]\n",
      "[0.9306275488528947, 0.29564660958413624, 1.2038526591794478]\n",
      "[0.9601706443409916, 0.5981678999578515, 1.6953697476924026]\n",
      "[0.9959012516468735, 0.5967863834857363, 1.4694011595646308]\n",
      "[0.9703234814806254, 0.22204507376017968, 1.1166292275250873]\n",
      "[0.9505855474495754, 0.6238847954422448, 1.5262430112466827]\n",
      "[0.9890559168636999, 0.4465411616195243, 1.328129730249905]\n",
      "[0.9565269302802407, 0.520319821113014, 1.528406641361495]\n",
      "[0.9983730290503291, 0.7459550207412781, 1.633180965930995]\n",
      "[0.9671044387243106, 0.44967616035244395, 1.306578901938161]\n",
      "[0.9634517642697236, 0.6618973061124249, 1.6512776047598186]\n",
      "[0.9674286999825638, 0.7071515445353753, 1.7971107005130045]\n",
      "[0.9650587873596843, 0.36972159780774017, 1.3464045214506641]\n",
      "[0.8673461085965534, 0.7111451826576058, 1.3647788824941989]\n",
      "[0.9593908816156343, 0.1035562048988673, 0.950677265692137]\n",
      "[0.9510942283115316, 0.1798675740379978, 1.0440034428267766]\n",
      "[0.9064434796652033, 0.12644521407437304, 0.9794241220895841]\n"
     ]
    }
   ],
   "source": [
    "for dx in np.array_split(df, 20):\n",
    "    h0 = hurst_vs(dx, nn, 0)\n",
    "    h1 = hurst_vs(dx, nn, 1)\n",
    "    h2 = hurst_tta(dx[\"Flux1\"].values, nn)\n",
    "    print([h0, h1, h2])"
   ]
  }
 ],
 "metadata": {
  "jupytext": {
   "cell_metadata_filter": "-all",
   "main_language": "python",
   "notebook_metadata_filter": "-all"
  },
  "kernelspec": {
   "display_name": "Python 3 (ipykernel)",
   "language": "python",
   "name": "python3"
  },
  "language_info": {
   "codemirror_mode": {
    "name": "ipython",
    "version": 3
   },
   "file_extension": ".py",
   "mimetype": "text/x-python",
   "name": "python",
   "nbconvert_exporter": "python",
   "pygments_lexer": "ipython3",
   "version": "3.10.9"
  }
 },
 "nbformat": 4,
 "nbformat_minor": 5
}
