{
 "cells": [
  {
   "cell_type": "markdown",
   "id": "c7ff7b2f",
   "metadata": {},
   "source": [
    "## Examine factors associated with birth count variation among US counties using Principal Components Regression and Poisson GLM/GEE."
   ]
  },
  {
   "cell_type": "code",
   "execution_count": null,
   "id": "3582d73e",
   "metadata": {},
   "outputs": [],
   "source": [
    "import pandas as pd\n",
    "import numpy as np\n",
    "from prep import births, demog, pop, na, age_groups, rucc\n",
    "import statsmodels.api as sm\n",
    "import matplotlib.pyplot as plt"
   ]
  },
  {
   "cell_type": "markdown",
   "id": "3e700551",
   "metadata": {},
   "source": [
    "View some of the raw data:"
   ]
  },
  {
   "cell_type": "code",
   "execution_count": null,
   "id": "85383b84",
   "metadata": {},
   "outputs": [],
   "source": [
    "births.head()"
   ]
  },
  {
   "cell_type": "code",
   "execution_count": null,
   "id": "63ebe752",
   "metadata": {},
   "outputs": [],
   "source": [
    "pop.head()"
   ]
  },
  {
   "cell_type": "code",
   "execution_count": null,
   "id": "57cc2c2a",
   "metadata": {},
   "outputs": [],
   "source": [
    "rucc.head()"
   ]
  },
  {
   "cell_type": "code",
   "execution_count": null,
   "id": "b83ef9c9",
   "metadata": {},
   "outputs": [],
   "source": [
    "demog.head()"
   ]
  },
  {
   "cell_type": "markdown",
   "id": "a12dd976",
   "metadata": {},
   "source": [
    "Create a dataframe for modeling.  Merge the birth data with population and RUCC data."
   ]
  },
  {
   "cell_type": "code",
   "execution_count": null,
   "id": "cf1445a9",
   "metadata": {},
   "outputs": [],
   "source": [
    "da = pd.merge(births, pop, on=\"FIPS\", how=\"left\")\n",
    "da = pd.merge(da, rucc, on=\"FIPS\", how=\"left\")"
   ]
  },
  {
   "cell_type": "markdown",
   "id": "a7d6d8b2",
   "metadata": {},
   "source": [
    "Population will be used as an offset below."
   ]
  },
  {
   "cell_type": "code",
   "execution_count": null,
   "id": "3fd019eb",
   "metadata": {},
   "outputs": [],
   "source": [
    "da[\"logPop\"] = np.log(da[\"Population\"])\n",
    "da = da.dropna()\n",
    "da = da.sort_values([\"FIPS\", \"year\"])\n",
    "da.head()"
   ]
  },
  {
   "cell_type": "markdown",
   "id": "355836ff",
   "metadata": {},
   "source": [
    "Create centered versions of some variables."
   ]
  },
  {
   "cell_type": "code",
   "execution_count": null,
   "id": "9208945c",
   "metadata": {},
   "outputs": [],
   "source": [
    "da[\"yearc\"] = da[\"year\"] - da[\"year\"].mean()\n",
    "da[\"logPopc\"] = da[\"logPop\"] - da[\"logPop\"].mean()\n",
    "da[\"RUCC_2013c\"] = da[\"RUCC_2013\"] - da[\"RUCC_2013\"].mean()"
   ]
  },
  {
   "cell_type": "markdown",
   "id": "90247478",
   "metadata": {},
   "source": [
    "Calculate the mean and variance within each county to assess the mean/variance relationship."
   ]
  },
  {
   "cell_type": "code",
   "execution_count": null,
   "id": "d2b9cbf2",
   "metadata": {},
   "outputs": [],
   "source": [
    "mv = births.groupby(\"FIPS\")[\"Births\"].agg([np.mean, np.var])\n",
    "lmv = np.log(mv)"
   ]
  },
  {
   "cell_type": "markdown",
   "id": "e4daf8d9",
   "metadata": {},
   "source": [
    "Regress log variance on log mean"
   ]
  },
  {
   "cell_type": "code",
   "execution_count": null,
   "id": "8a2f8eea",
   "metadata": {},
   "outputs": [],
   "source": [
    "mr = sm.OLS.from_formula(\"var ~ mean\", lmv).fit()\n",
    "print(mr.summary())"
   ]
  },
  {
   "cell_type": "markdown",
   "id": "97a3dfc3",
   "metadata": {},
   "source": [
    "Plot the log variance against the log mean.  If variance = phi * mean, then log(variance) = log(phi) + log(mean), i.e. the slope is 1 and the intercept is log(phi).  If variance = phi * mean^a then log(variance) = log(phi) + a * log(mean)."
   ]
  },
  {
   "cell_type": "code",
   "execution_count": null,
   "id": "1e5e4ac3",
   "metadata": {},
   "outputs": [],
   "source": [
    "plt.clf()\n",
    "plt.grid(True)\n",
    "plt.plot(lmv[\"mean\"], lmv[\"var\"], \"o\", alpha=0.2, rasterized=True)\n",
    "plt.axline((8, 8), slope=1, color=\"grey\")\n",
    "plt.axline((lmv[\"mean\"].mean(0), lmv[\"var\"].mean(0)), slope=1, color=\"purple\")\n",
    "plt.axline((8, mr.params[0]+8*mr.params[1]), slope=mr.params[1], color=\"orange\")\n",
    "plt.xlabel(\"Log mean\", size=16)\n",
    "plt.ylabel(\"Log variance\", size=16)"
   ]
  },
  {
   "cell_type": "markdown",
   "id": "1d866159",
   "metadata": {},
   "source": [
    "GLM, not appropriate since we have repeated measures on counties"
   ]
  },
  {
   "cell_type": "code",
   "execution_count": null,
   "id": "77ad61f1",
   "metadata": {},
   "outputs": [],
   "source": [
    "fml = \"Births ~ logPop + RUCC_2013\"\n",
    "m0 = sm.GLM.from_formula(fml, family=sm.families.Poisson(), data=da)\n",
    "r0 = m0.fit() # Poisson\n",
    "r0x = m0.fit(scale=\"X2\") # Quasi-Poisson\n",
    "r0x.summary()"
   ]
  },
  {
   "cell_type": "markdown",
   "id": "0e999780",
   "metadata": {},
   "source": [
    "GEE accounts for the correlated data"
   ]
  },
  {
   "cell_type": "code",
   "execution_count": null,
   "id": "9e2801a4",
   "metadata": {},
   "outputs": [],
   "source": [
    "m1 = sm.GEE.from_formula(fml, groups=\"FIPS\", family=sm.families.Poisson(), data=da)\n",
    "r1 = m1.fit() # Poisson and quasi-Poisson are the same for GEE\n",
    "r1x = m1.fit(scale=\"X2\")\n",
    "r1x.summary()"
   ]
  },
  {
   "cell_type": "markdown",
   "id": "c311d568",
   "metadata": {},
   "source": [
    "Use log population as an offset instead of a covariate"
   ]
  },
  {
   "cell_type": "code",
   "execution_count": null,
   "id": "993c2a9a",
   "metadata": {},
   "outputs": [],
   "source": [
    "m2 = sm.GEE.from_formula(\"Births ~ RUCC_2013\", groups=\"FIPS\", offset=\"logPop\",\n",
    "                         family=sm.families.Poisson(), data=da)\n",
    "r2 = m2.fit(scale=\"X2\")\n",
    "r2.summary()"
   ]
  },
  {
   "cell_type": "markdown",
   "id": "a197dad5",
   "metadata": {},
   "source": [
    "A diagnostic plot for the variance structure that does not require there to be replicates."
   ]
  },
  {
   "cell_type": "code",
   "execution_count": null,
   "id": "63e00adc",
   "metadata": {},
   "outputs": [],
   "source": [
    "plt.clf()\n",
    "plt.grid(True)\n",
    "lfv = np.log(r2.fittedvalues).values\n",
    "apr = np.abs(r2.resid_pearson)\n",
    "ii = np.argsort(lfv)\n",
    "lfv = lfv[ii]\n",
    "apr = apr[ii]\n",
    "ff = sm.nonparametric.lowess(apr, lfv)\n",
    "plt.plot(lfv, apr, \"o\", alpha=0.2, rasterized=True)\n",
    "plt.plot(ff[:, 0], ff[:, 1], \"-\", color=\"orange\")\n",
    "plt.title(\"Poisson mean/variance model\")\n",
    "plt.xlabel(\"Log predicted mean\", size=16)\n",
    "plt.ylabel(\"Absolute Pearson residual\", size=16)"
   ]
  },
  {
   "cell_type": "markdown",
   "id": "24f64258",
   "metadata": {},
   "source": [
    "Use Gamma family to better match the mean/variance relationship."
   ]
  },
  {
   "cell_type": "code",
   "execution_count": null,
   "id": "a7e0f4fc",
   "metadata": {},
   "outputs": [],
   "source": [
    "m3 = sm.GEE.from_formula(\"Births ~ RUCC_2013\", groups=\"FIPS\", offset=\"logPop\",\n",
    "                         family=sm.families.Gamma(link=sm.families.links.log()), data=da)\n",
    "r3 = m3.fit(scale=\"X2\")\n",
    "r3.summary()"
   ]
  },
  {
   "cell_type": "markdown",
   "id": "d8708340",
   "metadata": {},
   "source": [
    "Diagnostic plot for mean/variance relationship with gamma model."
   ]
  },
  {
   "cell_type": "code",
   "execution_count": null,
   "id": "e1d8a09e",
   "metadata": {},
   "outputs": [],
   "source": [
    "plt.clf()\n",
    "plt.grid(True)\n",
    "lfv = np.log(r3.fittedvalues).values\n",
    "apr = np.abs(r3.resid_pearson)\n",
    "ii = np.argsort(lfv)\n",
    "lfv = lfv[ii]\n",
    "apr = apr[ii]\n",
    "ff = sm.nonparametric.lowess(apr, lfv)\n",
    "plt.plot(lfv, apr, \"o\", alpha=0.2, rasterized=True)\n",
    "plt.plot(ff[:, 0], ff[:, 1], \"-\", color=\"orange\")\n",
    "plt.title(\"Gamma mean/variance model\")\n",
    "plt.xlabel(\"Log predicted mean\", size=16)\n",
    "plt.ylabel(\"Absolute Pearson residual\", size=16)"
   ]
  },
  {
   "cell_type": "markdown",
   "id": "0d0c5d07",
   "metadata": {},
   "source": [
    "Use exchangeable correlation structure.  Since RUCC is constant within groups the parameter estimates and standard errors are the same as with the independence model."
   ]
  },
  {
   "cell_type": "code",
   "execution_count": null,
   "id": "405984ce",
   "metadata": {},
   "outputs": [],
   "source": [
    "m4 = sm.GEE.from_formula(\"Births ~ RUCC_2013\", groups=\"FIPS\", offset=\"logPop\",\n",
    "                         cov_struct=sm.cov_struct.Exchangeable(),\n",
    "                         family=sm.families.Gamma(link=sm.families.links.log()), data=da)\n",
    "r4 = m4.fit(scale=\"X2\")\n",
    "r4.summary()"
   ]
  },
  {
   "cell_type": "code",
   "execution_count": null,
   "id": "f2419f10",
   "metadata": {},
   "outputs": [],
   "source": [
    "m5 = sm.GEE.from_formula(\"Births ~ RUCC_2013 + year\", groups=\"FIPS\", offset=\"logPop\",\n",
    "                         cov_struct=sm.cov_struct.Exchangeable(),\n",
    "                         family=sm.families.Gamma(link=sm.families.links.log()), data=da)\n",
    "r5 = m5.fit(scale=\"X2\")\n",
    "r5.summary()"
   ]
  },
  {
   "cell_type": "code",
   "execution_count": null,
   "id": "01f4f116",
   "metadata": {},
   "outputs": [],
   "source": [
    "m6 = sm.GEE.from_formula(\"Births ~ RUCC_2013c * yearc\", groups=\"FIPS\", offset=\"logPop\",\n",
    "                         cov_struct=sm.cov_struct.Exchangeable(),\n",
    "                         family=sm.families.Gamma(link=sm.families.links.log()), data=da)\n",
    "r6 = m6.fit(scale=\"X2\")\n",
    "r6.summary()"
   ]
  },
  {
   "cell_type": "markdown",
   "id": "08f1a307",
   "metadata": {},
   "source": [
    "Score tests comparing pairs of nested models:"
   ]
  },
  {
   "cell_type": "code",
   "execution_count": null,
   "id": "6aa3df4b",
   "metadata": {},
   "outputs": [],
   "source": [
    "print(r5.model.compare_score_test(r4))\n",
    "print(r6.model.compare_score_test(r5))"
   ]
  },
  {
   "cell_type": "markdown",
   "id": "2a492b8e",
   "metadata": {},
   "source": [
    "Double center the demographic data."
   ]
  },
  {
   "cell_type": "code",
   "execution_count": null,
   "id": "db339584",
   "metadata": {
    "lines_to_next_cell": 1
   },
   "outputs": [],
   "source": [
    "demogx = np.asarray(demog)\n",
    "demogx = np.power(demogx, 0.25)\n",
    "demogx -= demogx.mean()\n",
    "demogx -= demogx.mean(0)\n",
    "demogx -= demogx.mean(1)[:, None]\n",
    "demog"
   ]
  },
  {
   "cell_type": "markdown",
   "id": "be0196eb",
   "metadata": {},
   "source": [
    "Get factors (principal components) from the demographic data."
   ]
  },
  {
   "cell_type": "code",
   "execution_count": null,
   "id": "ecd87f6b",
   "metadata": {},
   "outputs": [],
   "source": [
    "u, s, vt = np.linalg.svd(demogx, 0)\n",
    "v = vt.T"
   ]
  },
  {
   "cell_type": "markdown",
   "id": "bfe6beff",
   "metadata": {},
   "source": [
    "Convert the coefficients back to the original coordinates"
   ]
  },
  {
   "cell_type": "code",
   "execution_count": null,
   "id": "7a72a33f",
   "metadata": {
    "lines_to_next_cell": 1
   },
   "outputs": [],
   "source": [
    "def convert_coef(c, npc):\n",
    "    return np.dot(v[:, 0:npc], c/s[0:npc])"
   ]
  },
  {
   "cell_type": "markdown",
   "id": "ac8a29ed",
   "metadata": {},
   "source": [
    "Put the demographic factors into a dataframe"
   ]
  },
  {
   "cell_type": "code",
   "execution_count": null,
   "id": "d4642f24",
   "metadata": {},
   "outputs": [],
   "source": [
    "m = {(\"pc%02d\" % k) : u[:, k] for k in range(100)}\n",
    "m[\"FIPS\"] = demog.index\n",
    "demog_f = pd.DataFrame(m)"
   ]
  },
  {
   "cell_type": "markdown",
   "id": "261567eb",
   "metadata": {},
   "source": [
    "Merge demographic information into the births data"
   ]
  },
  {
   "cell_type": "code",
   "execution_count": null,
   "id": "1ed25ad3",
   "metadata": {},
   "outputs": [],
   "source": [
    "da = pd.merge(da, demog_f, on=\"FIPS\", how=\"left\")"
   ]
  },
  {
   "cell_type": "markdown",
   "id": "b8c64dcc",
   "metadata": {},
   "source": [
    "Include this number of factors in subsequent models"
   ]
  },
  {
   "cell_type": "code",
   "execution_count": null,
   "id": "5b5a4db4",
   "metadata": {},
   "outputs": [],
   "source": [
    "npc = 10"
   ]
  },
  {
   "cell_type": "markdown",
   "id": "8a4b2522",
   "metadata": {},
   "source": [
    "A GLM, not appropriate since we have repeated measures on counties"
   ]
  },
  {
   "cell_type": "code",
   "execution_count": null,
   "id": "9ace8f70",
   "metadata": {},
   "outputs": [],
   "source": [
    "fml = \"Births ~ (logPopc + RUCC_2013c) * yearc + \" + \" + \".join([\"pc%02d\" % j for j in range(npc)])\n",
    "m7 = sm.GLM.from_formula(fml, family=sm.families.Poisson(), data=da)\n",
    "r7 = m7.fit(scale=\"X2\")\n",
    "r7.summary()"
   ]
  },
  {
   "cell_type": "markdown",
   "id": "834a086e",
   "metadata": {},
   "source": [
    "GEE accounts for the correlated data"
   ]
  },
  {
   "cell_type": "code",
   "execution_count": null,
   "id": "09c161a6",
   "metadata": {},
   "outputs": [],
   "source": [
    "m8 = sm.GEE.from_formula(fml, groups=\"FIPS\",\n",
    "         family=sm.families.Gamma(link=sm.families.links.log()), data=da)\n",
    "r8 = m8.fit(scale=\"X2\")\n",
    "r8.summary()"
   ]
  },
  {
   "cell_type": "markdown",
   "id": "e34d0e51",
   "metadata": {},
   "source": [
    "Use log population as an offset instead of a covariate"
   ]
  },
  {
   "cell_type": "code",
   "execution_count": null,
   "id": "f109f80f",
   "metadata": {
    "lines_to_next_cell": 1
   },
   "outputs": [],
   "source": [
    "fml = \"Births ~ \" + \" + \".join([\"pc%02d\" % j for j in range(npc)])\n",
    "m9 = sm.GEE.from_formula(fml, groups=\"FIPS\", offset=\"logPop\",\n",
    "         family=sm.families.Gamma(link=sm.families.links.log()), data=da)\n",
    "r9 = m9.fit(scale=\"X2\")\n",
    "r9.summary()"
   ]
  },
  {
   "cell_type": "markdown",
   "id": "fe1170b3",
   "metadata": {},
   "source": [
    "Restructure the coefficients so that the age bands are in the columns."
   ]
  },
  {
   "cell_type": "code",
   "execution_count": null,
   "id": "31b8b2bf",
   "metadata": {
    "lines_to_next_cell": 1
   },
   "outputs": [],
   "source": [
    "def restructure(c):\n",
    "    ii = pd.MultiIndex.from_tuples(na)\n",
    "    c = pd.Series(c, index=ii)\n",
    "    c = c.unstack()\n",
    "    return c"
   ]
  },
  {
   "cell_type": "markdown",
   "id": "000b6b7b",
   "metadata": {},
   "source": [
    "This function fits a Gamma GLM to the data using 'npc' principal components as explanatory variables (using GEE to account for non-independence), then converts the coefficients back to the original variables."
   ]
  },
  {
   "cell_type": "code",
   "execution_count": null,
   "id": "539062ca",
   "metadata": {
    "lines_to_next_cell": 1
   },
   "outputs": [],
   "source": [
    "def fitmodel(npc):\n",
    "    # A GEE using log population as an offset\n",
    "    fml = \"Births ~ 1\" if npc == 0 else \"Births ~ RUCC_2013c*yearc + \" + \" + \".join([\"pc%02d\" % j for j in range(npc)])\n",
    "    m = sm.GEE.from_formula(fml, groups=\"FIPS\", family=sm.families.Gamma(link=sm.families.links.log()),\n",
    "                            offset=da[\"logPop\"], data=da)\n",
    "    r = m.fit(scale=\"X2\")\n",
    "\n",
    "    # Convert the coefficients back to the original coordinates\n",
    "    c = convert_coef(r.params[4:], npc)\n",
    "\n",
    "    # Restructure the coefficients so that the age bands are\n",
    "    # in the columns.\n",
    "    c = restructure(c)\n",
    "\n",
    "    return c, m, r"
   ]
  },
  {
   "cell_type": "markdown",
   "id": "9791d455",
   "metadata": {},
   "source": [
    "Plot styling information"
   ]
  },
  {
   "cell_type": "code",
   "execution_count": null,
   "id": "6df51c40",
   "metadata": {},
   "outputs": [],
   "source": [
    "colors = {\"A\": \"purple\", \"B\": \"orange\", \"N\": \"lime\", \"W\": \"red\"}\n",
    "lt = {\"F\": \"-\", \"M\": \":\"}\n",
    "sym = {\"H\": \"s\", \"N\": \"o\"}\n",
    "ages = range(0, 19)"
   ]
  },
  {
   "cell_type": "markdown",
   "id": "efb0d57b",
   "metadata": {},
   "source": [
    "Fit models with these numbers of PCs."
   ]
  },
  {
   "cell_type": "code",
   "execution_count": null,
   "id": "4bbda292",
   "metadata": {},
   "outputs": [],
   "source": [
    "pcs = [0, 5, 10, 20, 30, 40, 50, 60, 70, 80, 90, 100]"
   ]
  },
  {
   "cell_type": "code",
   "execution_count": null,
   "id": "5240a2a1",
   "metadata": {},
   "outputs": [],
   "source": [
    "models = []\n",
    "for npc in pcs:\n",
    "\n",
    "    c, m, r = fitmodel(npc)\n",
    "    models.append((m, r))\n",
    "\n",
    "    plt.clf()\n",
    "    plt.figure(figsize=(9, 7))\n",
    "    ax = plt.axes([0.14, 0.18, 0.7, 0.75])\n",
    "    ax.grid(True)\n",
    "    for i in range(c.shape[0]):\n",
    "        a = c.index[i]\n",
    "        la = \"/\".join(a)\n",
    "        ax.plot(ages, c.iloc[i, :], lt[a[2]] + sym[a[1]], color=colors[a[0]],\n",
    "                label=la)\n",
    "\n",
    "    # Setup the horizontal axis labels\n",
    "    ax.set_xticks(ages)\n",
    "    ax.set_xticklabels(age_groups)\n",
    "    for x in plt.gca().get_xticklabels():\n",
    "        x.set_rotation(-90)\n",
    "\n",
    "    ha, lb = plt.gca().get_legend_handles_labels()\n",
    "    leg = plt.figlegend(ha, lb, loc=\"center right\")\n",
    "    leg.draw_frame(False)\n",
    "\n",
    "    plt.xlabel(\"Age group\", size=17)\n",
    "    plt.ylabel(\"Coefficient\", size=17)\n",
    "    plt.title(\"%d factors\" % npc)\n",
    "    plt.show()"
   ]
  },
  {
   "cell_type": "markdown",
   "id": "99af0d1e",
   "metadata": {},
   "source": [
    "Use score tests to get a sense of the number of PC factors to include; also consider the PVEs calculated above."
   ]
  },
  {
   "cell_type": "code",
   "execution_count": null,
   "id": "5d051808",
   "metadata": {},
   "outputs": [],
   "source": [
    "for k in range(10):\n",
    "    st = models[k+1][0].compare_score_test(models[k][1])\n",
    "    print(\"%d versus %d: p=%f\" % (pcs[k+1], pcs[k], st[\"p-value\"]))"
   ]
  }
 ],
 "metadata": {
  "jupytext": {
   "cell_metadata_filter": "-all",
   "main_language": "python",
   "notebook_metadata_filter": "-all"
  },
  "kernelspec": {
   "display_name": "Python 3 (ipykernel)",
   "language": "python",
   "name": "python3"
  },
  "language_info": {
   "codemirror_mode": {
    "name": "ipython",
    "version": 3
   },
   "file_extension": ".py",
   "mimetype": "text/x-python",
   "name": "python",
   "nbconvert_exporter": "python",
   "pygments_lexer": "ipython3",
   "version": "3.10.9"
  }
 },
 "nbformat": 4,
 "nbformat_minor": 5
}
