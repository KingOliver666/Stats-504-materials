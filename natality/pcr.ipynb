{
 "cells": [
  {
   "cell_type": "markdown",
   "id": "c7ff7b2f",
   "metadata": {},
   "source": [
    "Examine factors associated with birth count variation among US\n",
    "counties using Principal Components Regression and Poisson GLM/GEE."
   ]
  },
  {
   "cell_type": "code",
   "execution_count": null,
   "id": "3582d73e",
   "metadata": {},
   "outputs": [],
   "source": [
    "import pandas as pd\n",
    "import numpy as np\n",
    "from prep import births, demog, pop, na, age_groups, rucc\n",
    "import statsmodels.api as sm\n",
    "import matplotlib.pyplot as plt\n",
    "from matplotlib.backends.backend_pdf import PdfPages"
   ]
  },
  {
   "cell_type": "code",
   "execution_count": null,
   "id": "cf1445a9",
   "metadata": {},
   "outputs": [],
   "source": [
    "# Create a dataframe for modeling.  Merge the birth data with\n",
    "# population and RUCC data.\n",
    "da = pd.merge(births, pop, on=\"FIPS\", how=\"left\")\n",
    "da = pd.merge(da, rucc, on=\"FIPS\", how=\"left\")"
   ]
  },
  {
   "cell_type": "code",
   "execution_count": null,
   "id": "3fd019eb",
   "metadata": {},
   "outputs": [],
   "source": [
    "da[\"logPop\"] = np.log(da[\"Population\"])\n",
    "da = da.dropna()\n",
    "da = da.sort_values([\"FIPS\", \"year\"])"
   ]
  },
  {
   "cell_type": "code",
   "execution_count": null,
   "id": "9208945c",
   "metadata": {},
   "outputs": [],
   "source": [
    "da[\"yearc\"] = da[\"year\"] - da[\"year\"].mean()\n",
    "da[\"logPopc\"] = da[\"logPop\"] - da[\"logPop\"].mean()\n",
    "da[\"RUCC_2013c\"] = da[\"RUCC_2013\"] - da[\"RUCC_2013\"].mean()"
   ]
  },
  {
   "cell_type": "code",
   "execution_count": null,
   "id": "fb30826d",
   "metadata": {},
   "outputs": [],
   "source": [
    "pdf = PdfPages(\"pcr_py.pdf\")"
   ]
  },
  {
   "cell_type": "code",
   "execution_count": null,
   "id": "d2b9cbf2",
   "metadata": {},
   "outputs": [],
   "source": [
    "# Calculate the mean and variance within each county to\n",
    "# assess the mean/variance relationship.\n",
    "mv = births.groupby(\"FIPS\")[\"Births\"].agg([np.mean, np.var])\n",
    "lmv = np.log(mv)"
   ]
  },
  {
   "cell_type": "code",
   "execution_count": null,
   "id": "8a2f8eea",
   "metadata": {},
   "outputs": [],
   "source": [
    "# Regress log variance on log mean\n",
    "mr = sm.OLS.from_formula(\"var ~ mean\", lmv).fit()\n",
    "print(mr.summary())"
   ]
  },
  {
   "cell_type": "code",
   "execution_count": null,
   "id": "1e5e4ac3",
   "metadata": {},
   "outputs": [],
   "source": [
    "# Plot the log variance against the log mean.  If variance = phi*mean,\n",
    "# then log(variance) = log(phi) + log(mean), i.e. the slope is 1 and\n",
    "# the intercept is log(phi).\n",
    "plt.clf()\n",
    "plt.grid(True)\n",
    "plt.plot(lmv[\"mean\"], lmv[\"var\"], \"o\", alpha=0.2, rasterized=True)\n",
    "plt.axline((8, 8), slope=1, color=\"grey\")\n",
    "plt.axline((lmv[\"mean\"].mean(0), lmv[\"var\"].mean(0)), slope=1, color=\"purple\")\n",
    "plt.axline((8, mr.params[0]+8*mr.params[1]), slope=mr.params[1], color=\"orange\")\n",
    "plt.xlabel(\"Log mean\", size=16)\n",
    "plt.ylabel(\"Log variance\", size=16)\n",
    "pdf.savefig()"
   ]
  },
  {
   "cell_type": "code",
   "execution_count": null,
   "id": "77ad61f1",
   "metadata": {},
   "outputs": [],
   "source": [
    "# GLM, not appropriate since we have repeated measures on counties\n",
    "fml = \"Births ~ logPop + RUCC_2013\"\n",
    "m0 = sm.GLM.from_formula(fml, family=sm.families.Poisson(), data=da)\n",
    "r0 = m0.fit() # Poisson\n",
    "r0x = m0.fit(scale=\"X2\") # Quasi-Poisson"
   ]
  },
  {
   "cell_type": "code",
   "execution_count": null,
   "id": "9e2801a4",
   "metadata": {},
   "outputs": [],
   "source": [
    "# GEE accounts for the correlated data\n",
    "m1 = sm.GEE.from_formula(fml, groups=\"FIPS\", family=sm.families.Poisson(), data=da)\n",
    "r1 = m1.fit() # Poisson and quasi-Poisson are the same for GEE\n",
    "r1x = m1.fit(scale=\"X2\")"
   ]
  },
  {
   "cell_type": "code",
   "execution_count": null,
   "id": "993c2a9a",
   "metadata": {},
   "outputs": [],
   "source": [
    "# Use log population as an offset instead of a covariate\n",
    "m2 = sm.GEE.from_formula(\"Births ~ RUCC_2013\", groups=\"FIPS\", offset=\"logPop\",\n",
    "                         family=sm.families.Poisson(), data=da)\n",
    "r2 = m2.fit(scale=\"X2\")"
   ]
  },
  {
   "cell_type": "code",
   "execution_count": null,
   "id": "63e00adc",
   "metadata": {},
   "outputs": [],
   "source": [
    "# A diagnostic plot for the variance structure that does not require\n",
    "# there to be replicates.\n",
    "plt.clf()\n",
    "plt.grid(True)\n",
    "lfv = np.log(r2.fittedvalues).values\n",
    "apr = np.abs(r2.resid_pearson)\n",
    "ii = np.argsort(lfv)\n",
    "lfv = lfv[ii]\n",
    "apr = apr[ii]\n",
    "ff = sm.nonparametric.lowess(apr, lfv)\n",
    "plt.plot(lfv, apr, \"o\", alpha=0.2, rasterized=True)\n",
    "plt.plot(ff[:, 0], ff[:, 1], \"-\", color=\"orange\")\n",
    "plt.title(\"Poisson mean/variance model\")\n",
    "plt.xlabel(\"Log predicted mean\", size=16)\n",
    "plt.ylabel(\"Absolute Pearson residual\", size=16)\n",
    "pdf.savefig()"
   ]
  },
  {
   "cell_type": "code",
   "execution_count": null,
   "id": "a7e0f4fc",
   "metadata": {},
   "outputs": [],
   "source": [
    "# Use Gamma family to better match the mean/variance relationship.\n",
    "m3 = sm.GEE.from_formula(\"Births ~ RUCC_2013\", groups=\"FIPS\", offset=\"logPop\",\n",
    "                         family=sm.families.Gamma(link=sm.families.links.log()), data=da)\n",
    "r3 = m3.fit(scale=\"X2\")"
   ]
  },
  {
   "cell_type": "code",
   "execution_count": null,
   "id": "e1d8a09e",
   "metadata": {},
   "outputs": [],
   "source": [
    "# Diagnostic plot for mean/variance relationship with gamma model.\n",
    "plt.clf()\n",
    "plt.grid(True)\n",
    "lfv = np.log(r3.fittedvalues).values\n",
    "apr = np.abs(r3.resid_pearson)\n",
    "ii = np.argsort(lfv)\n",
    "lfv = lfv[ii]\n",
    "apr = apr[ii]\n",
    "ff = sm.nonparametric.lowess(apr, lfv)\n",
    "plt.plot(lfv, apr, \"o\", alpha=0.2, rasterized=True)\n",
    "plt.plot(ff[:, 0], ff[:, 1], \"-\", color=\"orange\")\n",
    "plt.title(\"Gamma mean/variance model\")\n",
    "plt.xlabel(\"Log predicted mean\", size=16)\n",
    "plt.ylabel(\"Absolute Pearson residual\", size=16)\n",
    "pdf.savefig()"
   ]
  },
  {
   "cell_type": "code",
   "execution_count": null,
   "id": "405984ce",
   "metadata": {},
   "outputs": [],
   "source": [
    "# Use exchangeable correlation structure.  Since RUCC is constant within\n",
    "# groups the parameter estimates and standard errors are the same\n",
    "# as with the independence model.\n",
    "m4 = sm.GEE.from_formula(\"Births ~ RUCC_2013\", groups=\"FIPS\", offset=\"logPop\",\n",
    "                         cov_struct=sm.cov_struct.Exchangeable(),\n",
    "                         family=sm.families.Gamma(link=sm.families.links.log()), data=da)\n",
    "r4 = m4.fit(scale=\"X2\")"
   ]
  },
  {
   "cell_type": "code",
   "execution_count": null,
   "id": "f2419f10",
   "metadata": {},
   "outputs": [],
   "source": [
    "m5 = sm.GEE.from_formula(\"Births ~ RUCC_2013 + year\", groups=\"FIPS\", offset=\"logPop\",\n",
    "                         cov_struct=sm.cov_struct.Exchangeable(),\n",
    "                         family=sm.families.Gamma(link=sm.families.links.log()), data=da)\n",
    "r5 = m5.fit(scale=\"X2\")"
   ]
  },
  {
   "cell_type": "code",
   "execution_count": null,
   "id": "01f4f116",
   "metadata": {},
   "outputs": [],
   "source": [
    "m6 = sm.GEE.from_formula(\"Births ~ RUCC_2013c * yearc\", groups=\"FIPS\", offset=\"logPop\",\n",
    "                         cov_struct=sm.cov_struct.Exchangeable(),\n",
    "                         family=sm.families.Gamma(link=sm.families.links.log()), data=da)\n",
    "r6 = m6.fit(scale=\"X2\")"
   ]
  },
  {
   "cell_type": "code",
   "execution_count": null,
   "id": "6aa3df4b",
   "metadata": {},
   "outputs": [],
   "source": [
    "print(\"Score tests:\")\n",
    "print(r5.model.compare_score_test(r4))\n",
    "print(r6.model.compare_score_test(r5))"
   ]
  },
  {
   "cell_type": "code",
   "execution_count": null,
   "id": "db339584",
   "metadata": {
    "lines_to_next_cell": 1
   },
   "outputs": [],
   "source": [
    "# Get factors (principal components) from the demographic data\n",
    "demog -= demog.mean(0)\n",
    "u, s, vt = np.linalg.svd(demog)\n",
    "v = vt.T"
   ]
  },
  {
   "cell_type": "code",
   "execution_count": null,
   "id": "7a72a33f",
   "metadata": {
    "lines_to_next_cell": 1
   },
   "outputs": [],
   "source": [
    "# Convert the coefficients back to the original coordinates\n",
    "def convert_coef(c, npc):\n",
    "    return np.dot(v[:, 0:npc], c/s[0:npc])"
   ]
  },
  {
   "cell_type": "code",
   "execution_count": null,
   "id": "025fa2c1",
   "metadata": {},
   "outputs": [],
   "source": [
    "# The proportion of explained variance.\n",
    "pve = s**2\n",
    "pve /= sum(pve)"
   ]
  },
  {
   "cell_type": "code",
   "execution_count": null,
   "id": "b47293a8",
   "metadata": {},
   "outputs": [],
   "source": [
    "plt.clf()\n",
    "plt.grid(True)\n",
    "plt.plot(range(1, len(pve)+1), pve, \"-\")\n",
    "plt.xlabel(\"Component\", size=18)\n",
    "plt.ylabel(\"Proportion of explained variance\")\n",
    "pdf.savefig()"
   ]
  },
  {
   "cell_type": "code",
   "execution_count": null,
   "id": "c5c2ab79",
   "metadata": {},
   "outputs": [],
   "source": [
    "plt.clf()\n",
    "plt.grid(True)\n",
    "plt.plot(np.log(range(1, len(pve)+1)), np.log(pve), \"-\")\n",
    "plt.xlabel(\"Log component\", size=18)\n",
    "plt.ylabel(\"Log proportion of explained variance\")\n",
    "pdf.savefig()"
   ]
  },
  {
   "cell_type": "code",
   "execution_count": null,
   "id": "b8d76f34",
   "metadata": {},
   "outputs": [],
   "source": [
    "plt.clf()\n",
    "plt.grid(True)\n",
    "plt.plot(range(1, len(pve)+1), np.cumsum(pve), \"-\")\n",
    "plt.xlabel(\"Component\", size=18)\n",
    "plt.ylabel(\"Cumulative roportion of explained variance\")\n",
    "pdf.savefig()"
   ]
  },
  {
   "cell_type": "code",
   "execution_count": null,
   "id": "d4642f24",
   "metadata": {},
   "outputs": [],
   "source": [
    "# Put the demographic factors into a dataframe\n",
    "m = {(\"pc%02d\" % k) : u[:, k] for k in range(100)}\n",
    "m[\"FIPS\"] = demog.index\n",
    "demog_f = pd.DataFrame(m)"
   ]
  },
  {
   "cell_type": "code",
   "execution_count": null,
   "id": "1ed25ad3",
   "metadata": {},
   "outputs": [],
   "source": [
    "# Merge demographic information into the births data\n",
    "da = pd.merge(da, demog_f, on=\"FIPS\", how=\"left\")"
   ]
  },
  {
   "cell_type": "code",
   "execution_count": null,
   "id": "5b5a4db4",
   "metadata": {},
   "outputs": [],
   "source": [
    "# Include this number of factors in subsequent models\n",
    "npc = 10"
   ]
  },
  {
   "cell_type": "code",
   "execution_count": null,
   "id": "9ace8f70",
   "metadata": {},
   "outputs": [],
   "source": [
    "# A GLM, not appropriate since we have repeated measures on counties\n",
    "fml = \"Births ~ (logPopc + RUCC_2013c) * yearc + \" + \" + \".join([\"pc%02d\" % j for j in range(npc)])\n",
    "m7 = sm.GLM.from_formula(fml, family=sm.families.Poisson(), data=da)\n",
    "r7 = m7.fit(scale=\"X2\")"
   ]
  },
  {
   "cell_type": "code",
   "execution_count": null,
   "id": "09c161a6",
   "metadata": {},
   "outputs": [],
   "source": [
    "# GEE accounts for the correlated data\n",
    "m8 = sm.GEE.from_formula(fml, groups=\"FIPS\",\n",
    "         family=sm.families.Gamma(link=sm.families.links.log()), data=da)\n",
    "r8 = m8.fit(scale=\"X2\")"
   ]
  },
  {
   "cell_type": "code",
   "execution_count": null,
   "id": "f109f80f",
   "metadata": {
    "lines_to_next_cell": 1
   },
   "outputs": [],
   "source": [
    "# Use log population as an offset instead of a covariate\n",
    "fml = \"Births ~ \" + \" + \".join([\"pc%02d\" % j for j in range(npc)])\n",
    "m9 = sm.GEE.from_formula(fml, groups=\"FIPS\", offset=\"logPop\",\n",
    "         family=sm.families.Gamma(link=sm.families.links.log()), data=da)\n",
    "r9 = m9.fit(scale=\"X2\")"
   ]
  },
  {
   "cell_type": "code",
   "execution_count": null,
   "id": "31b8b2bf",
   "metadata": {
    "lines_to_next_cell": 1
   },
   "outputs": [],
   "source": [
    "# Restructure the coefficients so that the age bands are\n",
    "# in the columns.\n",
    "def restructure(c):\n",
    "    ii = pd.MultiIndex.from_tuples(na)\n",
    "    c = pd.Series(c, index=ii)\n",
    "    c = c.unstack()\n",
    "    return c"
   ]
  },
  {
   "cell_type": "code",
   "execution_count": null,
   "id": "539062ca",
   "metadata": {
    "lines_to_next_cell": 1
   },
   "outputs": [],
   "source": [
    "# This function fits a Poisson GLM to the data using 'npc' principal components\n",
    "# as explanatory variables.\n",
    "def fitmodel(npc):\n",
    "    # A GEE using log population as an offset\n",
    "    fml = \"Births ~ 1\" if npc == 0 else \"Births ~ RUCC_2013*year + \" + \" + \".join([\"pc%02d\" % j for j in range(npc)])\n",
    "    m = sm.GEE.from_formula(fml, groups=\"FIPS\", family=sm.families.Gamma(link=sm.families.links.log()),\n",
    "                            offset=da[\"logPop\"], data=da)\n",
    "    r = m.fit(scale=\"X2\")\n",
    "\n",
    "    # Convert the coefficients back to the original coordinates\n",
    "    c = convert_coef(r.params[4:], npc)\n",
    "\n",
    "    # Restructure the coefficients so that the age bands are\n",
    "    # in the columns.\n",
    "    c = restructure(c)\n",
    "\n",
    "    return c, m, r"
   ]
  },
  {
   "cell_type": "code",
   "execution_count": null,
   "id": "6df51c40",
   "metadata": {},
   "outputs": [],
   "source": [
    "# Plot styling information\n",
    "colors = {\"A\": \"purple\", \"B\": \"orange\", \"N\": \"lime\", \"W\": \"red\"}\n",
    "lt = {\"F\": \"-\", \"M\": \":\"}\n",
    "sym = {\"H\": \"s\", \"N\": \"o\"}\n",
    "ages = range(0, 19)"
   ]
  },
  {
   "cell_type": "code",
   "execution_count": null,
   "id": "4bbda292",
   "metadata": {},
   "outputs": [],
   "source": [
    "# Fit models with these numbers of PCs.\n",
    "pcs = [0, 5, 10, 20, 30, 40, 50, 60, 70, 80, 90, 100]"
   ]
  },
  {
   "cell_type": "code",
   "execution_count": null,
   "id": "5240a2a1",
   "metadata": {},
   "outputs": [],
   "source": [
    "models = []\n",
    "for npc in pcs:\n",
    "\n",
    "    c, m, r = fitmodel(npc)\n",
    "    models.append((m, r))\n",
    "\n",
    "    plt.clf()\n",
    "    plt.figure(figsize=(9, 7))\n",
    "    ax = plt.axes([0.14, 0.18, 0.7, 0.75])\n",
    "    ax.grid(True)\n",
    "    for i in range(c.shape[0]):\n",
    "        a = c.index[i]\n",
    "        la = \"/\".join(a)\n",
    "        ax.plot(ages, c.iloc[i, :], lt[a[2]] + sym[a[1]], color=colors[a[0]],\n",
    "                label=la)\n",
    "\n",
    "    # Setup the horizontal axis labels\n",
    "    ax.set_xticks(ages)\n",
    "    ax.set_xticklabels(age_groups)\n",
    "    for x in plt.gca().get_xticklabels():\n",
    "        x.set_rotation(-90)\n",
    "\n",
    "    ha, lb = plt.gca().get_legend_handles_labels()\n",
    "    leg = plt.figlegend(ha, lb, loc=\"center right\")\n",
    "    leg.draw_frame(False)\n",
    "\n",
    "    plt.xlabel(\"Age group\", size=17)\n",
    "    plt.ylabel(\"Coefficient\", size=17)\n",
    "    plt.title(\"%d factors\" % npc)\n",
    "    pdf.savefig()\n",
    "    plt.show()"
   ]
  },
  {
   "cell_type": "code",
   "execution_count": null,
   "id": "9151b867",
   "metadata": {},
   "outputs": [],
   "source": [
    "pdf.close()"
   ]
  },
  {
   "cell_type": "code",
   "execution_count": null,
   "id": "5d051808",
   "metadata": {},
   "outputs": [],
   "source": [
    "# Use score tests to get a sense of the number of PC factors\n",
    "# to include; also consider the PVEs calculated above.\n",
    "print(\"Score tests for PC's:\")\n",
    "for k in range(10):\n",
    "    st = models[k+1][0].compare_score_test(models[k][1])\n",
    "    print(\"%d versus %d: p=%f\" % (pcs[k+1], pcs[k], st[\"p-value\"]))"
   ]
  }
 ],
 "metadata": {
  "jupytext": {
   "cell_metadata_filter": "-all",
   "main_language": "python",
   "notebook_metadata_filter": "-all"
  }
 },
 "nbformat": 4,
 "nbformat_minor": 5
}
