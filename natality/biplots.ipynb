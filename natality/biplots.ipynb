{
 "cells": [
  {
   "cell_type": "markdown",
   "id": "23addcc1",
   "metadata": {},
   "source": [
    "# Analyzing demographic variation among US counties using biplots"
   ]
  },
  {
   "cell_type": "markdown",
   "id": "908a8d75",
   "metadata": {},
   "source": [
    "The data considered here are a single year of population counts for US counties.  The population within each county is partitioned into 2 x 2 x 4 x 19 = 304 demographic cells (sex ⨯ Hispanic ethnicity status ⨯ race ⨯ age).  See the prep.py script for more information."
   ]
  },
  {
   "cell_type": "code",
   "execution_count": null,
   "id": "4d9386d0",
   "metadata": {},
   "outputs": [],
   "source": [
    "import numpy as np\n",
    "import pandas as pd\n",
    "from prep import demog, births\n",
    "import matplotlib.pyplot as plt\n",
    "from matplotlib.backends.backend_pdf import PdfPages"
   ]
  },
  {
   "cell_type": "markdown",
   "id": "6d40c88d",
   "metadata": {},
   "source": [
    "Use only the counties for which we have natality data."
   ]
  },
  {
   "cell_type": "code",
   "execution_count": null,
   "id": "b32f88bf",
   "metadata": {},
   "outputs": [],
   "source": [
    "fips = np.asarray(births[\"FIPS\"].unique())\n",
    "demogx = demog.reindex(fips)"
   ]
  },
  {
   "cell_type": "markdown",
   "id": "f058eff0",
   "metadata": {},
   "source": [
    "Get the population counts in each race ⨯ ethnicity ⨯ sex cell, aggregating over age groups."
   ]
  },
  {
   "cell_type": "code",
   "execution_count": null,
   "id": "c2cf5d5e",
   "metadata": {},
   "outputs": [],
   "source": [
    "demogy = demogx.copy()\n",
    "demogy.columns = pd.MultiIndex.from_tuples([tuple(x.split(\"_\")) for x in demogy.columns])\n",
    "demogy = demogy.unstack()\n",
    "demogy = demogy.reset_index()\n",
    "demogy.columns = [\"race\", \"ethnicity\", \"sex\", \"age\", \"FIPS\", \"pop\"]\n",
    "demogy.groupby([\"race\", \"ethnicity\", \"sex\"])[\"pop\"].agg(np.sum)"
   ]
  },
  {
   "cell_type": "markdown",
   "id": "e2784f5f",
   "metadata": {},
   "source": [
    "Convert the demographic data to an array, save the county totals for use below."
   ]
  },
  {
   "cell_type": "code",
   "execution_count": null,
   "id": "0e7faecf",
   "metadata": {},
   "outputs": [],
   "source": [
    "demogz = np.asarray(demogx)\n",
    "totpop = demogz.sum(1)"
   ]
  },
  {
   "cell_type": "markdown",
   "id": "92d50f56",
   "metadata": {},
   "source": [
    "Take the fourth root of the data to stabilize variance and symmetrize the data."
   ]
  },
  {
   "cell_type": "code",
   "execution_count": null,
   "id": "06c7dcc3",
   "metadata": {},
   "outputs": [],
   "source": [
    "demogz = np.power(demogz, 0.25)\n",
    "totpopx = np.power(totpop, 0.25)"
   ]
  },
  {
   "cell_type": "markdown",
   "id": "1dc16809",
   "metadata": {},
   "source": [
    "Double center the data, save the mean parameters so that we can standardize passive variables below."
   ]
  },
  {
   "cell_type": "code",
   "execution_count": null,
   "id": "d5c880a1",
   "metadata": {},
   "outputs": [],
   "source": [
    "gm = demogz.mean()\n",
    "demogz -= gm\n",
    "totpopx -= gm\n",
    "colmn = demogz.mean(0)\n",
    "demogz -= colmn\n",
    "totpopx -= totpopx.mean()\n",
    "rowmn = demogz.mean(1)\n",
    "demogz -= rowmn[:, None]\n",
    "totpopx -= rowmn"
   ]
  },
  {
   "cell_type": "markdown",
   "id": "0a57dace",
   "metadata": {},
   "source": [
    "Factor the data matrix"
   ]
  },
  {
   "cell_type": "code",
   "execution_count": null,
   "id": "001a51cd",
   "metadata": {},
   "outputs": [],
   "source": [
    "u,s,vt = np.linalg.svd(demogz, 0)\n",
    "v = vt.T"
   ]
  },
  {
   "cell_type": "markdown",
   "id": "643a98a7",
   "metadata": {},
   "source": [
    "To understand how many dimensions are contributing variation, we can consider the singular values.  A plot of the raw singular values is not that informative:"
   ]
  },
  {
   "cell_type": "code",
   "execution_count": null,
   "id": "9ea625df",
   "metadata": {},
   "outputs": [],
   "source": [
    "plt.clf()\n",
    "plt.grid(True)\n",
    "plt.plot(s)\n",
    "plt.ylabel(\"Singular value\")\n",
    "plt.xlabel(\"Position\")\n",
    "plt.show()"
   ]
  },
  {
   "cell_type": "markdown",
   "id": "161035d8",
   "metadata": {},
   "source": [
    "Now we can consider some simple models for the singular values, including an exponential model $\\lambda_i = a\\exp(-bi)$ or a powerlaw model $\\lambda_i = a/i^b$.  These models can be assessed by plotting the singular values in semi-log space or in log space, as shown below.  These plots suggest a \"multiphasic\" relationship which is not strictly speaking either exponential or powerlaw.  One interpretation is that there are 10-12 large singular values followed by an exponentially decreasing pattern of \"tail singular values\"."
   ]
  },
  {
   "cell_type": "code",
   "execution_count": null,
   "id": "55a3bca1",
   "metadata": {},
   "outputs": [],
   "source": [
    "# Semi-log space plot\n",
    "plt.clf()\n",
    "plt.grid(True)\n",
    "ii = np.arange(1, len(s) + 1)\n",
    "plt.plot(ii[0:-1], np.log(s[0:-1]), \"-o\", alpha=0.4)\n",
    "plt.xlabel(\"Position\")\n",
    "plt.ylabel(\"Log singular value\")\n",
    "plt.title(\"Assess fit of exponential model\")\n",
    "plt.show()\n",
    "\n",
    "# Log space plot\n",
    "plt.clf()\n",
    "plt.grid(True)\n",
    "ii = np.arange(1, len(s) + 1)\n",
    "plt.plot(np.log(ii[0:-1]), np.log(s[0:-1]), \"-o\", alpha=0.4)\n",
    "plt.xlabel(\"Log position\")\n",
    "plt.ylabel(\"Log singular value\")\n",
    "plt.title(\"Assess fit of powerlaw model\")\n",
    "plt.show()"
   ]
  },
  {
   "cell_type": "markdown",
   "id": "bf7cbc09",
   "metadata": {},
   "source": [
    "For biplots, the singular values are partitioned between the left\n",
    "and right singular vectors. alpha = 1 gives a distance\n",
    "interpretation for rows (counties), alpha = 0 gives a distance\n",
    "interpretation for columns (demographic categories), alpha = 0.5\n",
    "does not have a strict distance interpretation."
   ]
  },
  {
   "cell_type": "code",
   "execution_count": null,
   "id": "a51110f0",
   "metadata": {},
   "outputs": [],
   "source": [
    "alpha = 0.5\n",
    "uu = np.dot(u, np.diag(s**alpha))\n",
    "vv = np.dot(v, np.diag(s**(1-alpha)))"
   ]
  },
  {
   "cell_type": "markdown",
   "id": "6c7b8237",
   "metadata": {},
   "source": [
    "Specify some parameters for plotting."
   ]
  },
  {
   "cell_type": "code",
   "execution_count": null,
   "id": "940398e8",
   "metadata": {},
   "outputs": [],
   "source": [
    "colors = {\"A\": \"purple\", \"B\": \"orange\", \"N\": \"lime\", \"W\": \"red\"}\n",
    "lt = {\"F\": \"-\", \"M\": \":\"}\n",
    "sym = {\"H\": \"s\", \"N\": \"o\"}\n",
    "ages = range(0, 19)"
   ]
  },
  {
   "cell_type": "code",
   "execution_count": null,
   "id": "1fbb936d",
   "metadata": {
    "lines_to_next_cell": 1
   },
   "outputs": [],
   "source": [
    "pdf = PdfPages(\"biplots_py.pdf\")"
   ]
  },
  {
   "cell_type": "code",
   "execution_count": null,
   "id": "2c6f72aa",
   "metadata": {
    "lines_to_next_cell": 1
   },
   "outputs": [],
   "source": [
    "def generate_biplot(uu, vv, sex, c, fips, j0=0, j1=1, highlight={}):\n",
    "    \"\"\"\n",
    "    Produce a biplot of components 'j1' versus 'j0' (zero-based positions)\n",
    "    based on the row scores in 'uu' and the column scores in vv.  The column \n",
    "    labels are in 'c' and the plot is given the title 'title'.  The dictionary\n",
    "    'highlight' contains key/value pairs mapping FIPS codes to letters that\n",
    "    are plotted to indicate the locations of specific counties.\n",
    "    \"\"\"\n",
    "\n",
    "    # Map FIPS codes to row positions in the data\n",
    "    fipsm = {v:i for i,v in enumerate(fips)}\n",
    "\n",
    "    plt.clf()\n",
    "    plt.figure(figsize=(10, 8))\n",
    "    ax = plt.axes([0.1, 0.1, 0.76, 0.8])\n",
    "    ax.grid(True)\n",
    "\n",
    "    # Plot the counties as grey points\n",
    "    plt.plot(uu[:, j0], uu[:, j1], 'o', color=\"grey\", alpha=0.3)\n",
    "\n",
    "    # Plot letters corresponding to the seletected counties.\n",
    "    for k,v in highlight.items():\n",
    "        jj = fipsm[k]   \n",
    "        plt.text(uu[jj, j0], uu[jj, j1], v, color=\"blue\", size=20)\n",
    "    \n",
    "    # Plot the demographic categories as colored points, joined\n",
    "    # by lines connecting the age groups in order.\n",
    "    for race in [\"A\", \"B\", \"N\", \"W\"]:\n",
    "        for eth in [\"H\", \"N\"]:\n",
    "            la = \"%s_%s_%s\" % (race, eth, sex)\n",
    "            ii = [i for (i,x) in enumerate(c) if x.startswith(la)]\n",
    "            ax.plot(vv[ii, j0], vv[ii, j1], \"-o\", color=colors[race], label=la, ms=3)\n",
    "            ax.text(vv[ii[-1], j0], vv[ii[-1], j1], eth, ha=\"left\", va=\"top\", color=colors[race])\n",
    "\n",
    "    # Plot the total population as a passive variable\n",
    "    px = np.linalg.solve(np.diag(s), np.dot(uu.T, totpopx))\n",
    "    pt = px[[j0, j1]]\n",
    "    pt /= np.linalg.norm(pt)\n",
    "    pt *= 2\n",
    "    ax.annotate(\"Pop\", xy=(0, 0), xytext=(pt[0], pt[1]), \n",
    "                arrowprops=dict(facecolor='black', arrowstyle=\"<-\"))\n",
    "            \n",
    "    ax.set_xlabel(\"Component %d\" % (j0+1), size=18)\n",
    "    ax.set_ylabel(\"Component %d\" % (j1+1), size=18)\n",
    "\n",
    "    ha, lb = ax.get_legend_handles_labels()\n",
    "    leg = plt.figlegend(ha, lb, loc=\"center right\")\n",
    "    leg.draw_frame(False)\n",
    "    ax.set_title(\"Female\" if sex == \"F\" else \"Male\")\n",
    "\n",
    "    pdf.savefig()\n",
    "    plt.show()"
   ]
  },
  {
   "cell_type": "markdown",
   "id": "0c4388b8",
   "metadata": {},
   "source": [
    "To reduce overplotting, produce separate biplots for females and for\n",
    "males."
   ]
  },
  {
   "cell_type": "code",
   "execution_count": null,
   "id": "85760214",
   "metadata": {},
   "outputs": [],
   "source": [
    "def make_biplots(j0, j1, highlight={}):\n",
    "    c = demog.columns.to_list()\n",
    "    for sex in [\"F\", \"M\"]:\n",
    "        cx = [x.split(\"_\") for x in c]\n",
    "        ii = [i for (i,x) in enumerate(cx) if x[2] == sex]\n",
    "        ii = np.asarray(ii, dtype=int)\n",
    "        generate_biplot(uu, vv[ii, :], sex, [c[i] for i in ii], fips, j0=j0, j1=j1, highlight=highlight)"
   ]
  },
  {
   "cell_type": "markdown",
   "id": "691130a5",
   "metadata": {},
   "source": [
    "Annotate these counties in the biplots"
   ]
  },
  {
   "cell_type": "code",
   "execution_count": null,
   "id": "3e56c4e2",
   "metadata": {},
   "outputs": [],
   "source": [
    "highlight = {\"26163\": \"W\", # Wayne County MI\n",
    "             \"06085\": \"S\", # Santa Clara CA\n",
    "             \"25005\": \"B\", # Bristol MA\n",
    "             \"17031\": \"C\", # Cook IL\n",
    "             \"46103\": \"P\", # Pennington SD\n",
    "             \"06037\": \"L\", # Los Angeles, CA\n",
    "            }"
   ]
  },
  {
   "cell_type": "code",
   "execution_count": null,
   "id": "ec0b78e0",
   "metadata": {},
   "outputs": [],
   "source": [
    "make_biplots(0, 1, highlight=highlight)"
   ]
  },
  {
   "cell_type": "code",
   "execution_count": null,
   "id": "55101aeb",
   "metadata": {},
   "outputs": [],
   "source": [
    "make_biplots(2, 3, highlight=highlight)"
   ]
  },
  {
   "cell_type": "code",
   "execution_count": null,
   "id": "40e80435",
   "metadata": {},
   "outputs": [],
   "source": [
    "pdf.close()"
   ]
  }
 ],
 "metadata": {
  "jupytext": {
   "cell_metadata_filter": "-all",
   "main_language": "python",
   "notebook_metadata_filter": "-all"
  },
  "kernelspec": {
   "display_name": "Python 3 (ipykernel)",
   "language": "python",
   "name": "python3"
  },
  "language_info": {
   "codemirror_mode": {
    "name": "ipython",
    "version": 3
   },
   "file_extension": ".py",
   "mimetype": "text/x-python",
   "name": "python",
   "nbconvert_exporter": "python",
   "pygments_lexer": "ipython3",
   "version": "3.10.9"
  }
 },
 "nbformat": 4,
 "nbformat_minor": 5
}
