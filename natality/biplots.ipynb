{
 "cells": [
  {
   "cell_type": "markdown",
   "id": "23addcc1",
   "metadata": {},
   "source": [
    "# Analyzing demographic variation among US counties using biplots"
   ]
  },
  {
   "cell_type": "markdown",
   "id": "908a8d75",
   "metadata": {},
   "source": [
    "The data considered here are a single year of population counts for\n",
    "US counties.  The population within each county is partitioned into\n",
    "2 x 2 x 4 x 19 = 304 demographic cells (sex x Hispanic ethnicity\n",
    "status x race x age).  See the prep.py script for more information."
   ]
  },
  {
   "cell_type": "code",
   "execution_count": null,
   "id": "4d9386d0",
   "metadata": {},
   "outputs": [],
   "source": [
    "import numpy as np\n",
    "import pandas as pd\n",
    "from prep import demog, births, pop, rucc\n",
    "import matplotlib.pyplot as plt\n",
    "from matplotlib.backends.backend_pdf import PdfPages"
   ]
  },
  {
   "cell_type": "markdown",
   "id": "6d40c88d",
   "metadata": {},
   "source": [
    "Get the FIPS codes that are used in the principal components\n",
    "regression (PCR). These are the larger counties."
   ]
  },
  {
   "cell_type": "code",
   "execution_count": null,
   "id": "b32f88bf",
   "metadata": {},
   "outputs": [],
   "source": [
    "da = pd.merge(births, pop, on=\"FIPS\", how=\"left\")\n",
    "da = pd.merge(da, rucc, on=\"FIPS\", how=\"left\")\n",
    "da[\"logPop\"] = np.log(da[\"Population\"])\n",
    "da = da.dropna()\n",
    "fips = da.FIPS.dropna().unique()"
   ]
  },
  {
   "cell_type": "markdown",
   "id": "e2784f5f",
   "metadata": {},
   "source": [
    "Restrict the demographics data to the larger counties."
   ]
  },
  {
   "cell_type": "code",
   "execution_count": null,
   "id": "0e7faecf",
   "metadata": {},
   "outputs": [],
   "source": [
    "demogx = demog.loc[demog.index.isin(fips)]\n",
    "demogx = np.asarray(demogx)"
   ]
  },
  {
   "cell_type": "markdown",
   "id": "92d50f56",
   "metadata": {},
   "source": [
    "The population counts have already been square root transformed.\n",
    "Square root transform again to better symmetrize the data."
   ]
  },
  {
   "cell_type": "code",
   "execution_count": null,
   "id": "06c7dcc3",
   "metadata": {},
   "outputs": [],
   "source": [
    "demogx = np.sqrt(demogx)"
   ]
  },
  {
   "cell_type": "markdown",
   "id": "1dc16809",
   "metadata": {},
   "source": [
    "Double center the data."
   ]
  },
  {
   "cell_type": "code",
   "execution_count": null,
   "id": "d5c880a1",
   "metadata": {},
   "outputs": [],
   "source": [
    "demogx -= demogx.mean()\n",
    "demogx -= demogx.mean(0)\n",
    "demogx -= demogx.mean(1)[:, None]"
   ]
  },
  {
   "cell_type": "markdown",
   "id": "0a57dace",
   "metadata": {},
   "source": [
    "Factor the data matrix"
   ]
  },
  {
   "cell_type": "code",
   "execution_count": null,
   "id": "001a51cd",
   "metadata": {},
   "outputs": [],
   "source": [
    "u,s,vt = np.linalg.svd(demogx, 0)\n",
    "v = vt.T"
   ]
  },
  {
   "cell_type": "markdown",
   "id": "bf7cbc09",
   "metadata": {},
   "source": [
    "For biplots, the singular values are partitioned between the left\n",
    "and right singular vectors. alpha = 1 gives a distance\n",
    "interpretation for rows (counties), alpha = 0 gives a distance\n",
    "interpretation for columns (demographic categories), alpha = 0.5\n",
    "does not have a strict distance interpretation."
   ]
  },
  {
   "cell_type": "code",
   "execution_count": null,
   "id": "a51110f0",
   "metadata": {},
   "outputs": [],
   "source": [
    "alpha = 0.5\n",
    "uu = np.dot(u, np.diag(s**alpha))\n",
    "vv = np.dot(v, np.diag(s**(1-alpha)))"
   ]
  },
  {
   "cell_type": "markdown",
   "id": "b3405cbe",
   "metadata": {},
   "source": [
    "Remove outlier counties to make the plot easier to read."
   ]
  },
  {
   "cell_type": "code",
   "execution_count": null,
   "id": "e5e94d94",
   "metadata": {},
   "outputs": [],
   "source": [
    "for j in range(2):\n",
    "    qq = np.quantile(uu[:, j], [0.25, 0.5, 0.75])\n",
    "    iqr = qq[2] - qq[1]\n",
    "    ii = np.flatnonzero(np.abs(uu[:, j] - qq[1]) < 5*iqr)\n",
    "    print(\"Dropping %d outliers in biplot\" % (uu.shape[0] - len(ii)))\n",
    "    uu = uu[ii, :]"
   ]
  },
  {
   "cell_type": "markdown",
   "id": "6c7b8237",
   "metadata": {},
   "source": [
    "Specify some parameters for plotting."
   ]
  },
  {
   "cell_type": "code",
   "execution_count": null,
   "id": "940398e8",
   "metadata": {},
   "outputs": [],
   "source": [
    "colors = {\"A\": \"purple\", \"B\": \"orange\", \"N\": \"lime\", \"W\": \"red\"}\n",
    "lt = {\"F\": \"-\", \"M\": \":\"}\n",
    "sym = {\"H\": \"s\", \"N\": \"o\"}\n",
    "ages = range(0, 19)"
   ]
  },
  {
   "cell_type": "code",
   "execution_count": null,
   "id": "1fbb936d",
   "metadata": {
    "lines_to_next_cell": 1
   },
   "outputs": [],
   "source": [
    "pdf = PdfPages(\"biplots_py.pdf\")"
   ]
  },
  {
   "cell_type": "code",
   "execution_count": null,
   "id": "2c6f72aa",
   "metadata": {
    "lines_to_next_cell": 1
   },
   "outputs": [],
   "source": [
    "def generate_biplot(uu, vv, c, title):\n",
    "    \"\"\"\n",
    "    Produce a biplot based on the row scores in 'uu' and the column\n",
    "    scores in vv.  The column labels are in 'c' and the plot is given\n",
    "    the title 'title'.\n",
    "    \"\"\"\n",
    "\n",
    "    plt.clf()\n",
    "    plt.figure(figsize=(10, 8))\n",
    "    ax = plt.axes([0.1, 0.1, 0.76, 0.8])\n",
    "    ax.grid(True)\n",
    "\n",
    "    # Plot the counties as grey points\n",
    "    plt.plot(uu[:, 0], uu[:, 1], 'o', color=\"grey\", alpha=0.3)\n",
    "\n",
    "    # Plot the demographic categories as colored points, joined\n",
    "    # by lines connecting the age groups.\n",
    "    for race in [\"A\", \"B\", \"N\", \"W\"]:\n",
    "        for eth in [\"N\", \"H\"]:\n",
    "            la = \"%s_%s_%s\" % (race, eth, sex)\n",
    "            ii = [i for (i,x) in enumerate(c) if x.startswith(la)]\n",
    "            ax.plot(vv[ii,0], vv[ii,1], \"-o\", color=colors[race], label=la, ms=3)\n",
    "            ax.text(vv[ii[-1],0], vv[ii[-1],1], eth, ha=\"left\", va=\"top\", color=colors[race])\n",
    "\n",
    "    ax.set_xlabel(\"Component 1\", size=18)\n",
    "    ax.set_ylabel(\"Component 2\", size=18)\n",
    "\n",
    "    ha, lb = ax.get_legend_handles_labels()\n",
    "    leg = plt.figlegend(ha, lb, loc=\"center right\")\n",
    "    leg.draw_frame(False)\n",
    "    ax.set_title(title)\n",
    "\n",
    "    pdf.savefig()\n",
    "    plt.show()"
   ]
  },
  {
   "cell_type": "markdown",
   "id": "613a39e0",
   "metadata": {},
   "source": [
    "The demographic category labels"
   ]
  },
  {
   "cell_type": "code",
   "execution_count": null,
   "id": "ed5ed7d9",
   "metadata": {},
   "outputs": [],
   "source": [
    "c = demog.columns.to_list()\n",
    "cx = [x.split(\"_\") for x in c]"
   ]
  },
  {
   "cell_type": "markdown",
   "id": "0c4388b8",
   "metadata": {},
   "source": [
    "To reduce overplotting, produce separate biplots for females and for\n",
    "males."
   ]
  },
  {
   "cell_type": "code",
   "execution_count": null,
   "id": "85760214",
   "metadata": {},
   "outputs": [],
   "source": [
    "for sex in [\"F\", \"M\"]:\n",
    "    ii = [i for (i,x) in enumerate(cx) if x[2] == sex]\n",
    "    ii = np.asarray(ii, dtype=int)\n",
    "    generate_biplot(uu, vv[ii, :], [c[i] for i in ii], \"Female\" if sex == \"F\" else \"Male\")"
   ]
  },
  {
   "cell_type": "code",
   "execution_count": null,
   "id": "55101aeb",
   "metadata": {},
   "outputs": [],
   "source": [
    "pdf.close()"
   ]
  }
 ],
 "metadata": {
  "jupytext": {
   "cell_metadata_filter": "-all",
   "main_language": "python",
   "notebook_metadata_filter": "-all"
  },
  "kernelspec": {
   "display_name": "Python 3 (ipykernel)",
   "language": "python",
   "name": "python3"
  },
  "language_info": {
   "codemirror_mode": {
    "name": "ipython",
    "version": 3
   },
   "file_extension": ".py",
   "mimetype": "text/x-python",
   "name": "python",
   "nbconvert_exporter": "python",
   "pygments_lexer": "ipython3",
   "version": "3.10.9"
  }
 },
 "nbformat": 4,
 "nbformat_minor": 5
}
