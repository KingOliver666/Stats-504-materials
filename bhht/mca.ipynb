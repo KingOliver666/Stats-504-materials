{
 "cells": [
  {
   "cell_type": "markdown",
   "id": "0a2c52a4",
   "metadata": {},
   "source": [
    "# Using Multiple Correspondence Analysis to understand the relationships among characteristics of notable people\n",
    "\n",
    "Multiple Correspondence Analysis (MCA) is a type of biplot for categorical data. Here we use it to understand the relationships among nominal (categorical) characteristics of notable people.  These data can be thought of as a 4-way contingency table (sex x occupation x birth era x region).  The goal of MCA is to visualize the structure of this contingency table as a graph."
   ]
  },
  {
   "cell_type": "code",
   "execution_count": null,
   "id": "5281008f",
   "metadata": {},
   "outputs": [],
   "source": [
    "import pandas as pd\n",
    "import numpy as np\n",
    "from pathlib import Path\n",
    "import prince\n",
    "import matplotlib.pyplot as plt"
   ]
  },
  {
   "cell_type": "markdown",
   "id": "8eca9c93",
   "metadata": {},
   "source": [
    "Modify the path below to point to the data file as needed."
   ]
  },
  {
   "cell_type": "code",
   "execution_count": null,
   "id": "2b2e2753",
   "metadata": {},
   "outputs": [],
   "source": [
    "pa = Path(\"/home/kshedden/data/Teaching/bhht\")"
   ]
  },
  {
   "cell_type": "markdown",
   "id": "d40fbf56",
   "metadata": {},
   "source": [
    "The entire dataset is around 2.3 million rows.  You can restrict to the first million rows when exploring, then switch to the whole dataset for final analyses."
   ]
  },
  {
   "cell_type": "code",
   "execution_count": null,
   "id": "b1a9bc10",
   "metadata": {},
   "outputs": [],
   "source": [
    "ca = [\"birth\", \"death\", \"gender\", \"un_region\", \"level1_main_occ\", \"name\"]\n",
    "df = pd.read_csv(pa / Path(\"cross-verified-database.csv.gz\"), usecols=ca, encoding=\"latin-1\", nrows=1000000)"
   ]
  },
  {
   "cell_type": "markdown",
   "id": "89aa7b83",
   "metadata": {},
   "source": [
    "Rename the variables so that they fit on the plot."
   ]
  },
  {
   "cell_type": "code",
   "execution_count": null,
   "id": "e42fdb3e",
   "metadata": {},
   "outputs": [],
   "source": [
    "df = df.rename({\"level1_main_occ\": \"occ\", \"gender\": \"sex\", \"un_region\": \"reg\"}, axis=1)\n",
    "df = df[[\"birth\", \"occ\", \"sex\", \"reg\", \"name\"]].dropna()"
   ]
  },
  {
   "cell_type": "markdown",
   "id": "b8f4a98d",
   "metadata": {},
   "source": [
    "Since very few people in the dataset lived priort to 1500 we exclude them here."
   ]
  },
  {
   "cell_type": "code",
   "execution_count": null,
   "id": "19809272",
   "metadata": {},
   "outputs": [],
   "source": [
    "df = df.query(\"birth >= 1500\")"
   ]
  },
  {
   "cell_type": "markdown",
   "id": "fe1ac575",
   "metadata": {},
   "source": [
    "Remove very infrequent or difficult to interpret categories"
   ]
  },
  {
   "cell_type": "code",
   "execution_count": null,
   "id": "be3c0ba0",
   "metadata": {},
   "outputs": [],
   "source": [
    "df = df.loc[df.occ != \"Other\", :]\n",
    "df = df.loc[df.occ != \"Missing\", :]\n",
    "df = df.loc[df.sex != \"Other\", :]"
   ]
  },
  {
   "cell_type": "markdown",
   "id": "0297d548",
   "metadata": {},
   "source": [
    "Create a century of birth variable, make it a string so that it is interpreted as a nominal variable."
   ]
  },
  {
   "cell_type": "code",
   "execution_count": null,
   "id": "32c4a732",
   "metadata": {},
   "outputs": [],
   "source": [
    "df.loc[:, \"era\"] = df.birth.round(-2)\n",
    "df = df.drop(\"birth\", axis=1)\n",
    "df.loc[:, \"era\"] = [\"%d\" % x for x in df.era]\n",
    "df.head()"
   ]
  },
  {
   "cell_type": "markdown",
   "id": "4b068a18",
   "metadata": {},
   "source": [
    "The goal of MCA is to visualize the contingency table below."
   ]
  },
  {
   "cell_type": "code",
   "execution_count": null,
   "id": "f3a555ae",
   "metadata": {},
   "outputs": [],
   "source": [
    "df.groupby([\"sex\", \"reg\", \"occ\", \"era\"]).count().unstack().fillna(0)"
   ]
  },
  {
   "cell_type": "markdown",
   "id": "87dd234a",
   "metadata": {},
   "source": [
    "Fit multiple correspondence analysis"
   ]
  },
  {
   "cell_type": "code",
   "execution_count": null,
   "id": "2642974e",
   "metadata": {},
   "outputs": [],
   "source": [
    "mca = prince.MCA(n_components=4)\n",
    "df = df.drop(columns=[\"name\"])\n",
    "mca = mca.fit(df)\n",
    "mca.transform(df)"
   ]
  },
  {
   "cell_type": "code",
   "execution_count": null,
   "id": "4a0bd162",
   "metadata": {},
   "outputs": [],
   "source": [
    "cols = {\"occ\": \"orange\", \"sex\": \"purple\", \"reg\": \"lime\", \"era\": \"navy\"}"
   ]
  },
  {
   "cell_type": "markdown",
   "id": "3e3da937",
   "metadata": {},
   "source": [
    "Plot the category scores.  There are so many object scores that a scatterplot of object scores would be difficult to interpret."
   ]
  },
  {
   "cell_type": "code",
   "execution_count": null,
   "id": "0ce3facd",
   "metadata": {},
   "outputs": [],
   "source": [
    "def mca_plot(mca, cols, jx, jy):\n",
    "    cc = mca.column_coordinates(df)\n",
    "    xmin, xmax = cc.iloc[:, jx].min(), cc.iloc[:, jx].max()\n",
    "    d = xmax - xmin\n",
    "    xmin -= 0.1*d\n",
    "    xmax += 0.1*d\n",
    "    ymin, ymax = cc.iloc[:, jy].min(), cc.iloc[:, jy].max()\n",
    "    d = ymax - ymin\n",
    "    ymin -= 0.1*d\n",
    "    ymax += 0.1*d\n",
    "\n",
    "    plt.clf()\n",
    "    plt.grid(True)\n",
    "    for k in cols.keys():\n",
    "        cx = cc[cc.index.str.startswith(k)]\n",
    "        if k == \"era\":\n",
    "            plt.plot(cx.iloc[:, jx], cx.iloc[:, jy], \"-\", color=cols[k])\n",
    "        for i in range(cx.shape[0]):\n",
    "            plt.text(cx.iloc[i, jx], cx.iloc[i, jy], cx.index[i], color=cols[k],\n",
    "                     ha=\"center\", va=\"center\")\n",
    "    plt.xlabel(\"Component %d\" % (jx + 1))\n",
    "    plt.ylabel(\"Component %d\" % (jy + 1))\n",
    "    plt.xlim(xmin, xmax)\n",
    "    plt.ylim(ymin, ymax)"
   ]
  },
  {
   "cell_type": "code",
   "execution_count": null,
   "id": "566742e4",
   "metadata": {},
   "outputs": [],
   "source": [
    "mca_plot(mca, cols, 0, 1)"
   ]
  },
  {
   "cell_type": "code",
   "execution_count": null,
   "id": "1f6f06bf",
   "metadata": {},
   "outputs": [],
   "source": [
    "mca_plot(mca, cols, 2, 3)"
   ]
  },
  {
   "cell_type": "markdown",
   "id": "6d9d8452",
   "metadata": {},
   "source": [
    "In an MCA plot, information about the variables is encoded both in the angles between variable scores, and in the magnitudes of the variable scores.  Variables that are uncorrelated with all other variables have very short magnitudes.  To demonstrate this, we create a variable that is independent of the others and include it in the MCA."
   ]
  },
  {
   "cell_type": "code",
   "execution_count": null,
   "id": "221540be",
   "metadata": {},
   "outputs": [],
   "source": [
    "df[\"fake\"] = np.random.choice([0, 1], df.shape[0])\n",
    "cols1 = cols.copy()\n",
    "cols1[\"fake\"] = \"red\"\n",
    "\n",
    "mca1 = prince.MCA(n_components=4)\n",
    "mca1 = mca1.fit(df)\n",
    "mca1.transform(df)\n",
    "mca_plot(mca1, cols1, 0, 1)"
   ]
  }
 ],
 "metadata": {
  "jupytext": {
   "cell_metadata_filter": "-all",
   "main_language": "python",
   "notebook_metadata_filter": "-all"
  },
  "kernelspec": {
   "display_name": "Python 3 (ipykernel)",
   "language": "python",
   "name": "python3"
  },
  "language_info": {
   "codemirror_mode": {
    "name": "ipython",
    "version": 3
   },
   "file_extension": ".py",
   "mimetype": "text/x-python",
   "name": "python",
   "nbconvert_exporter": "python",
   "pygments_lexer": "ipython3",
   "version": "3.10.9"
  }
 },
 "nbformat": 4,
 "nbformat_minor": 5
}
