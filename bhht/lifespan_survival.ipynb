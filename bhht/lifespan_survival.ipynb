{
 "cells": [
  {
   "cell_type": "markdown",
   "id": "aa1bf609",
   "metadata": {},
   "source": [
    "# Understanding variation in lifespans of notable people using the BHHT data\n",
    "\n",
    "The BHHT (Brief History of Human Time) project provides a dataset about \"notable people\" based mainly on wikipedia biography articles.\n",
    "\n",
    "The analyses below focus on lifespans of the people in the BHHT dataset, aiming to understand how lifespans vary based on factors including era of birth, the geographic region where the person lived, and the person's sex and occupation.\n",
    "\n",
    "This analysis uses survival analysis methods, allowing us to use information from still-living people."
   ]
  },
  {
   "cell_type": "code",
   "execution_count": null,
   "id": "beedc93c",
   "metadata": {},
   "outputs": [],
   "source": [
    "import pandas as pd\n",
    "import numpy as np\n",
    "import matplotlib.pyplot as plt\n",
    "import statsmodels.api as sm\n",
    "from pathlib import Path\n",
    "from scipy.stats.distributions import chi2"
   ]
  },
  {
   "cell_type": "markdown",
   "id": "ed1fdb25",
   "metadata": {},
   "source": [
    "Change the path below as needed to point to the directory holding the data file."
   ]
  },
  {
   "cell_type": "code",
   "execution_count": null,
   "id": "e280589e",
   "metadata": {},
   "outputs": [],
   "source": [
    "pa = Path(\"/home/kshedden/mynfs/data/Teaching/bhht\")"
   ]
  },
  {
   "cell_type": "markdown",
   "id": "38aeacc2",
   "metadata": {},
   "source": [
    "Load the dataset.  Use the latin-1 encoding since there is some non-UTF data in the file.  Add \"nrows=####\" when developing to reduce the run time, but always use the complete data to get final results."
   ]
  },
  {
   "cell_type": "code",
   "execution_count": null,
   "id": "699d6116",
   "metadata": {},
   "outputs": [],
   "source": [
    "df = pd.read_csv(pa / Path(\"cross-verified-database.csv.gz\"), encoding=\"latin-1\", nrows=200000)"
   ]
  },
  {
   "cell_type": "markdown",
   "id": "d5d64f48",
   "metadata": {},
   "source": [
    "Create a lifespan variable (years of life).  It will be missing for people who are currently living."
   ]
  },
  {
   "cell_type": "code",
   "execution_count": null,
   "id": "bc0c2f23",
   "metadata": {},
   "outputs": [],
   "source": [
    "df[\"lifespan\"] = df[\"death\"] - df[\"birth\"]"
   ]
  },
  {
   "cell_type": "markdown",
   "id": "11dbaaf7",
   "metadata": {},
   "source": [
    "Exclude people born before 1500, there is too little data to gain a meaningful understanding of the trends in lifespan prior to this year."
   ]
  },
  {
   "cell_type": "code",
   "execution_count": null,
   "id": "e6b4358c",
   "metadata": {},
   "outputs": [],
   "source": [
    "dx = df.query(\"birth >= 1500\")"
   ]
  },
  {
   "cell_type": "markdown",
   "id": "a7f9a90e",
   "metadata": {},
   "source": [
    "Retain only variables to be analyzed below."
   ]
  },
  {
   "cell_type": "code",
   "execution_count": null,
   "id": "d66a0875",
   "metadata": {},
   "outputs": [],
   "source": [
    "dx = dx[[\"birth\", \"lifespan\", \"gender\", \"un_region\", \"level1_main_occ\"]]\n",
    "dx.head()"
   ]
  },
  {
   "cell_type": "markdown",
   "id": "48259c0b",
   "metadata": {},
   "source": [
    "There are a small number of people with missing or \"Other\" gender but it is too small of a sample to draw conclusions."
   ]
  },
  {
   "cell_type": "code",
   "execution_count": null,
   "id": "8e99c6b8",
   "metadata": {},
   "outputs": [],
   "source": [
    "print(dx.gender.value_counts())\n",
    "dx = dx.loc[dx[\"gender\"].isin([\"Female\", \"Male\"]), :]"
   ]
  },
  {
   "cell_type": "markdown",
   "id": "b76edd47",
   "metadata": {},
   "source": [
    "Drop uninformative occupation codes."
   ]
  },
  {
   "cell_type": "code",
   "execution_count": null,
   "id": "d33b7837",
   "metadata": {},
   "outputs": [],
   "source": [
    "dx = dx.loc[~dx[\"level1_main_occ\"].isin([\"Missing\", \"Other\"]), :]"
   ]
  },
  {
   "cell_type": "markdown",
   "id": "6c448190",
   "metadata": {},
   "source": [
    "Censor lifespans at 2022"
   ]
  },
  {
   "cell_type": "code",
   "execution_count": null,
   "id": "bf652273",
   "metadata": {},
   "outputs": [],
   "source": [
    "censor_year = 2022\n",
    "dx[\"clifespan\"] = dx[\"lifespan\"].fillna(censor_year - dx[\"birth\"])\n",
    "dx[\"died\"] = 1 - 1*dx[\"lifespan\"].isnull()"
   ]
  },
  {
   "cell_type": "markdown",
   "id": "57a56d00",
   "metadata": {},
   "source": [
    "Now we can drop all rows with missing data"
   ]
  },
  {
   "cell_type": "code",
   "execution_count": null,
   "id": "277c3a99",
   "metadata": {},
   "outputs": [],
   "source": [
    "dx = dx.drop(\"lifespan\", axis=1)\n",
    "dx = dx.dropna()\n",
    "dx.head()"
   ]
  },
  {
   "cell_type": "markdown",
   "id": "ec2e7398",
   "metadata": {},
   "source": [
    "Create a categorical variable indicating the century in which a person was born."
   ]
  },
  {
   "cell_type": "code",
   "execution_count": null,
   "id": "d68a3a0f",
   "metadata": {},
   "outputs": [],
   "source": [
    "dx[\"era\"] = np.floor((dx[\"birth\"] - 1500) / 100)"
   ]
  },
  {
   "cell_type": "markdown",
   "id": "16d36182",
   "metadata": {},
   "source": [
    "One of the factors we will consider as a predictor of lifespan is occupation, which has the levels and frequencies shown below:"
   ]
  },
  {
   "cell_type": "code",
   "execution_count": null,
   "id": "23c567bf",
   "metadata": {},
   "outputs": [],
   "source": [
    "dx[\"level1_main_occ\"].value_counts()"
   ]
  },
  {
   "cell_type": "markdown",
   "id": "a0b71c30",
   "metadata": {},
   "source": [
    "Another factor of interest is the region where the person lived, which has five levels coded as follows:"
   ]
  },
  {
   "cell_type": "code",
   "execution_count": null,
   "id": "a28ff174",
   "metadata": {},
   "outputs": [],
   "source": [
    "dx[\"un_region\"].value_counts()"
   ]
  },
  {
   "cell_type": "markdown",
   "id": "b137f90b",
   "metadata": {},
   "source": [
    "Plot the marginal survival functions for people born in each century.  These survival functions are estimated using the product limit (Kaplan-Meier) method."
   ]
  },
  {
   "cell_type": "code",
   "execution_count": null,
   "id": "7b17b86d",
   "metadata": {},
   "outputs": [],
   "source": [
    "plt.figure(figsize=(8, 5))\n",
    "plt.clf()\n",
    "plt.axes([0.1, 0.1, 0.75, 0.8])\n",
    "plt.grid(True)\n",
    "for k,g in dx.groupby(\"era\"):\n",
    "    if k == 5:\n",
    "        continue\n",
    "    sf = sm.SurvfuncRight(g.clifespan, g.died)\n",
    "    la = \"%.0f\" % (1500 + k*100)\n",
    "    plt.plot(sf.surv_times, sf.surv_prob, label=la)\n",
    "plt.xlabel(\"Age\", size=15)\n",
    "plt.ylabel(\"Proportion alive\", size=15)\n",
    "ha, lb = plt.gca().get_legend_handles_labels()\n",
    "leg = plt.figlegend(ha, lb, loc=\"right\")\n",
    "leg.draw_frame(False)"
   ]
  },
  {
   "cell_type": "markdown",
   "id": "256fdb28",
   "metadata": {},
   "source": [
    "Create a translated birth year setting year 1500 as year zero.  This makes it easier to interpret the proportional hazard regression models so that effects are relative to 1500 as a reference year."
   ]
  },
  {
   "cell_type": "code",
   "execution_count": null,
   "id": "e9d0e65e",
   "metadata": {},
   "outputs": [],
   "source": [
    "dx[\"birth1500\"] = dx[\"birth\"] - 1500"
   ]
  },
  {
   "cell_type": "markdown",
   "id": "c8c1535a",
   "metadata": {},
   "source": [
    "Fit a proportional hazards regression model"
   ]
  },
  {
   "cell_type": "code",
   "execution_count": null,
   "id": "f6776497",
   "metadata": {},
   "outputs": [],
   "source": [
    "fml = \"clifespan ~ birth1500 + gender + level1_main_occ + un_region\"\n",
    "m0 = sm.PHReg.from_formula(fml, dx, status=\"died\")\n",
    "r0 = m0.fit()\n",
    "r0.summary()"
   ]
  },
  {
   "cell_type": "markdown",
   "id": "150f6d55",
   "metadata": {},
   "source": [
    "Plot the partial effect of birth year."
   ]
  },
  {
   "cell_type": "code",
   "execution_count": null,
   "id": "196c3f7d",
   "metadata": {},
   "outputs": [],
   "source": [
    "def plot_birthyear_partial(dx, rr):\n",
    "    dp = dx.iloc[0:100, :].copy()\n",
    "    dp[\"gender\"] = \"Female\"\n",
    "    # Occupation and region are arbitrary but must be fixed\n",
    "    dp[\"level1_main_occ\"] = \"Leadership\"\n",
    "    dp[\"un_region\"] = \"Asia\"\n",
    "    dp[\"birth\"] = np.linspace(1500, 2000, 100)\n",
    "    dp[\"birth1500\"] = dp[\"birth\"] - 1500\n",
    "    lhr = rr.predict(exog=dp).predicted_values\n",
    "\n",
    "    plt.clf()\n",
    "    plt.grid(True)\n",
    "    plt.plot(dp[\"birth\"], lhr)\n",
    "    plt.xlabel(\"Birth year (transformed)\", size=15)\n",
    "    plt.ylabel(\"Contribtution to the log hazard\", size=15)"
   ]
  },
  {
   "cell_type": "markdown",
   "id": "4b8ba769",
   "metadata": {},
   "source": [
    "In the first model, there is a linear main effect for birth year.  The hazard of death is decreasing as year of birth increases."
   ]
  },
  {
   "cell_type": "code",
   "execution_count": null,
   "id": "cafeeda4",
   "metadata": {},
   "outputs": [],
   "source": [
    "plot_birthyear_partial(dx, r0)"
   ]
  },
  {
   "cell_type": "markdown",
   "id": "71fa90c7",
   "metadata": {},
   "source": [
    "Next we include a quadratic effect for birth year, to see if the relationship between year of birth and log mortality hazard might be curved (parabolic), holding all other variables fixed. "
   ]
  },
  {
   "cell_type": "code",
   "execution_count": null,
   "id": "6c7ec0e5",
   "metadata": {},
   "outputs": [],
   "source": [
    "fml = \"clifespan ~ birth1500 + I(birth1500**2) + gender + level1_main_occ + un_region\"\n",
    "m1 = sm.PHReg.from_formula(fml, dx, status=\"died\")\n",
    "r1 = m1.fit()\n",
    "r1.summary()"
   ]
  },
  {
   "cell_type": "markdown",
   "id": "8e3c30f4",
   "metadata": {},
   "source": [
    "Since the quadratic term for year of birth is statistically significant, there is evidence for curvature in the relationship between birth year and mortality hazard.  However this model could be mis-specified -- the true relationship might be non-quadratic."
   ]
  },
  {
   "cell_type": "code",
   "execution_count": null,
   "id": "06920c1c",
   "metadata": {},
   "outputs": [],
   "source": [
    "plot_birthyear_partial(dx, r1)"
   ]
  },
  {
   "cell_type": "markdown",
   "id": "e34dfd6f",
   "metadata": {},
   "source": [
    "Next we add a cubic term to the model."
   ]
  },
  {
   "cell_type": "code",
   "execution_count": null,
   "id": "5dfece68",
   "metadata": {},
   "outputs": [],
   "source": [
    "fml = \"clifespan ~ birth1500 + I(birth1500**2) + I(birth1500**3) + gender + level1_main_occ + un_region\"\n",
    "m2 = sm.PHReg.from_formula(fml, dx, status=\"died\")\n",
    "r2 = m2.fit()\n",
    "r2.summary()"
   ]
  },
  {
   "cell_type": "markdown",
   "id": "a4965f6c",
   "metadata": {},
   "source": [
    "Based on this model, the mortality hazard was fairly constant until around 1800, then it began to drop."
   ]
  },
  {
   "cell_type": "code",
   "execution_count": null,
   "id": "e240efe8",
   "metadata": {},
   "outputs": [],
   "source": [
    "plot_birthyear_partial(dx, r2)"
   ]
  },
  {
   "cell_type": "markdown",
   "id": "910f7a32",
   "metadata": {},
   "source": [
    "High order polynomials make poor basis functions.  A more effective approach is polynomial splines, which are piecewise polynomials.  Below we use a cubic spline basis with four degrees of freedom to capture the birth year effect."
   ]
  },
  {
   "cell_type": "code",
   "execution_count": null,
   "id": "308a332c",
   "metadata": {},
   "outputs": [],
   "source": [
    "fml = \"clifespan ~ bs(birth1500, 4) + gender + level1_main_occ + un_region\"\n",
    "m3 = sm.PHReg.from_formula(fml, dx, status=\"died\")\n",
    "r3 = m3.fit()\n",
    "r3.summary()"
   ]
  },
  {
   "cell_type": "code",
   "execution_count": null,
   "id": "f26c006f",
   "metadata": {},
   "outputs": [],
   "source": [
    "plot_birthyear_partial(dx, r3)"
   ]
  },
  {
   "cell_type": "markdown",
   "id": "67fa4916",
   "metadata": {},
   "source": [
    "Above we found that year of birth is a strong predictor of the mortality hazard.  We also have a strong sex difference, with males having a much greater hazard.  Next we consider whether tyear of birth effect differs by sex."
   ]
  },
  {
   "cell_type": "code",
   "execution_count": null,
   "id": "969d40fd",
   "metadata": {},
   "outputs": [],
   "source": [
    "fml = \"clifespan ~ bs(birth1500, 4) * gender + level1_main_occ + un_region\"\n",
    "m4 = sm.PHReg.from_formula(fml, dx, status=\"died\")\n",
    "r4 = m4.fit()\n",
    "r4.summary()"
   ]
  },
  {
   "cell_type": "markdown",
   "id": "f42c283f",
   "metadata": {},
   "source": [
    "To assess whether the birthyear x gender interaction is significant, we can use a log-likelihood ratio test:"
   ]
  },
  {
   "cell_type": "code",
   "execution_count": null,
   "id": "010094b5",
   "metadata": {},
   "outputs": [],
   "source": [
    "stat = 2*(r4.llf - r3.llf)\n",
    "dof = len(r4.params) - len(r3.params)\n",
    "1 - chi2(dof).cdf(stat)"
   ]
  },
  {
   "cell_type": "markdown",
   "id": "90690906",
   "metadata": {},
   "source": [
    "To understand the meaning of the interaction, we plot below the sex-specific contributions of year of birth to the log hazard."
   ]
  },
  {
   "cell_type": "code",
   "execution_count": null,
   "id": "0877aa09",
   "metadata": {},
   "outputs": [],
   "source": [
    "def plot_birthyear_partial_sexdiff(dx, rr):\n",
    "    dp = dx.iloc[0:200, :].copy()\n",
    "    dp[\"gender\"] = np.concatenate(([\"Female\"]*100, [\"Male\"]*100))\n",
    "    dp[\"level1_main_occ\"] = \"Leadership\"\n",
    "    dp[\"un_region\"] = \"Asia\"\n",
    "    b = np.linspace(1500, 2000, 100)\n",
    "    dp[\"birth\"] = np.concatenate((b, b))\n",
    "    dp[\"birth1500\"] = dp[\"birth\"] - 1500\n",
    "    lhr = rr.predict(exog=dp).predicted_values\n",
    "\n",
    "    plt.figure(figsize=(8, 5))\n",
    "    plt.clf()\n",
    "    plt.axes([0.1, 0.1, 0.75, 0.8])\n",
    "    plt.grid(True)\n",
    "    plt.plot(dp.iloc[0:100, :][\"birth\"], lhr[0:100], label=\"Female\")\n",
    "    plt.plot(dp.iloc[100:200, :][\"birth\"], lhr[100:200], label=\"Male\")\n",
    "    ha, lb = plt.gca().get_legend_handles_labels()\n",
    "    leg = plt.figlegend(ha, lb, loc=\"center right\")\n",
    "    leg.draw_frame(False)\n",
    "    plt.xlabel(\"Birth year (transformed)\", size=15)\n",
    "    plt.ylabel(\"Contribtution to the log hazard\", size=15)"
   ]
  },
  {
   "cell_type": "code",
   "execution_count": null,
   "id": "ad7911fb",
   "metadata": {},
   "outputs": [],
   "source": [
    "plot_birthyear_partial_sexdiff(dx, r4)"
   ]
  },
  {
   "cell_type": "markdown",
   "id": "dd04ab2c",
   "metadata": {},
   "source": [
    "## Baseline hazard functions\n",
    "\n",
    "The estimated baseline cumulative hazard function reflects the age-specific hazard of death.  The  cumulative hazard is easy to estimate but not straightforward to interpret."
   ]
  },
  {
   "cell_type": "code",
   "execution_count": null,
   "id": "c5f884c8",
   "metadata": {},
   "outputs": [],
   "source": [
    "ti, cumhaz, surv = r0.baseline_cumulative_hazard[0]\n",
    "\n",
    "plt.clf()\n",
    "plt.grid(True)\n",
    "plt.plot(ti, cumhaz)\n",
    "plt.xlabel(\"Age\", size=15)\n",
    "plt.ylabel(\"Cumulative hazard\", size=15)"
   ]
  },
  {
   "cell_type": "markdown",
   "id": "583bc02d",
   "metadata": {},
   "source": [
    "Estimate and plot the baseline cumulative hazard function on the log scale"
   ]
  },
  {
   "cell_type": "code",
   "execution_count": null,
   "id": "fd68f2da",
   "metadata": {},
   "outputs": [],
   "source": [
    "ti, cumhaz, surv = r0.baseline_cumulative_hazard[0]\n",
    "\n",
    "plt.clf()\n",
    "plt.grid(True)\n",
    "plt.plot(ti, np.log(np.clip(cumhaz, 1e-4, np.inf)))\n",
    "plt.xlabel(\"Age\", size=15)\n",
    "plt.ylabel(\"Log cumulative hazard\", size=15)"
   ]
  },
  {
   "cell_type": "markdown",
   "id": "fe48b951",
   "metadata": {},
   "source": [
    "Next we estimate and plot the baseline hazard function using numerical differentiation"
   ]
  },
  {
   "cell_type": "code",
   "execution_count": null,
   "id": "f10098a5",
   "metadata": {},
   "outputs": [],
   "source": [
    "ti, chaz, surv = r0.baseline_cumulative_hazard[0]\n",
    "haz = np.diff(chaz) / np.diff(ti)\n",
    "shaz = sm.nonparametric.lowess(np.log(haz), ti[0:-1])\n",
    "\n",
    "plt.clf()\n",
    "plt.grid(True)\n",
    "plt.plot(shaz[:, 0], shaz[:, 1])\n",
    "plt.xlabel(\"Age\", size=15)\n",
    "plt.ylabel(\"log hazard\", size=15)"
   ]
  },
  {
   "cell_type": "markdown",
   "id": "b727f86c",
   "metadata": {},
   "source": [
    "Fit a sex-stratified proportional hazards regression model"
   ]
  },
  {
   "cell_type": "code",
   "execution_count": null,
   "id": "e4cddc93",
   "metadata": {},
   "outputs": [],
   "source": [
    "fml = \"clifespan ~ bs(birth, 4) + level1_main_occ + un_region\"\n",
    "m4 = sm.PHReg.from_formula(fml, dx, status=\"died\", strata=\"gender\")\n",
    "r4 = m4.fit()\n",
    "r4.summary()"
   ]
  },
  {
   "cell_type": "markdown",
   "id": "2967bd41",
   "metadata": {},
   "source": [
    "Plot the baseline hazard function for each sex"
   ]
  },
  {
   "cell_type": "code",
   "execution_count": null,
   "id": "fcf3c0b9",
   "metadata": {},
   "outputs": [],
   "source": [
    "bh = r4.baseline_cumulative_hazard\n",
    "snames = m4.surv.stratum_names\n",
    "\n",
    "plt.clf()\n",
    "plt.figure(figsize=(8, 5))\n",
    "plt.axes([0.1, 0.1, 0.75, 0.8])\n",
    "plt.grid(True)\n",
    "for k in 0,1:\n",
    "    ti = bh[k][0]\n",
    "    chaz = bh[k][1]\n",
    "    haz = np.diff(chaz) / np.diff(ti)\n",
    "    shaz = sm.nonparametric.lowess(np.log(haz), ti[0:-1])\n",
    "    plt.plot(shaz[:,0], shaz[:,1], label=snames[k])\n",
    "plt.xlabel(\"Age\", size=15)\n",
    "plt.ylabel(\"Log hazard\", size=15)\n",
    "ha, lb = plt.gca().get_legend_handles_labels()\n",
    "leg = plt.figlegend(ha, lb, loc=\"right\")\n",
    "leg.draw_frame(False)"
   ]
  }
 ],
 "metadata": {
  "jupytext": {
   "cell_metadata_filter": "-all",
   "main_language": "python",
   "notebook_metadata_filter": "-all"
  },
  "kernelspec": {
   "display_name": "Python 3 (ipykernel)",
   "language": "python",
   "name": "python3"
  },
  "language_info": {
   "codemirror_mode": {
    "name": "ipython",
    "version": 3
   },
   "file_extension": ".py",
   "mimetype": "text/x-python",
   "name": "python",
   "nbconvert_exporter": "python",
   "pygments_lexer": "ipython3",
   "version": "3.10.9"
  }
 },
 "nbformat": 4,
 "nbformat_minor": 5
}
