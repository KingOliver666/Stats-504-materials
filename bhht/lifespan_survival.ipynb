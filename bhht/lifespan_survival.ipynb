{
 "cells": [
  {
   "cell_type": "markdown",
   "id": "0",
   "metadata": {},
   "source": [
    "# Understanding variation in lifespans of notable people using the BHHT data\n",
    "\n",
    "The BHHT (Brief History of Human Time) project provides a dataset about \"notable people\" based mainly on wikipedia biography articles.\n",
    "\n",
    "The analyses below focus on lifespans of the people in the BHHT dataset, aiming to understand how lifespans vary based on factors including era of birth, the geographic region where the person lived, and the person's sex and occupation (occupation is usually tied to the reason that the person is \"notable\").\n",
    "\n",
    "This analysis uses survival analysis methods, allowing us to use information from still-living people."
   ]
  },
  {
   "cell_type": "code",
   "execution_count": null,
   "id": "1",
   "metadata": {},
   "outputs": [],
   "source": [
    "import pandas as pd\n",
    "import numpy as np\n",
    "import matplotlib.pyplot as plt\n",
    "import statsmodels.api as sm\n",
    "from pathlib import Path\n",
    "from scipy.stats.distributions import chi2"
   ]
  },
  {
   "cell_type": "markdown",
   "id": "2",
   "metadata": {},
   "source": [
    "Change the path below as needed to point to the directory containing the data file."
   ]
  },
  {
   "cell_type": "code",
   "execution_count": null,
   "id": "3",
   "metadata": {},
   "outputs": [],
   "source": [
    "pa = Path(\"/home/kshedden/mynfs/data/Teaching/bhht\")"
   ]
  },
  {
   "cell_type": "markdown",
   "id": "4",
   "metadata": {},
   "source": [
    "Load the dataset.  Use the latin-1 encoding since there is some non-UTF data in the file.  Add \"nrows=####\" when developing to reduce the run time, but always use the complete data to get final results."
   ]
  },
  {
   "cell_type": "code",
   "execution_count": null,
   "id": "5",
   "metadata": {},
   "outputs": [],
   "source": [
    "df = pd.read_csv(pa / Path(\"cross-verified-database.csv.gz\"), encoding=\"latin-1\")#, nrows=200000)"
   ]
  },
  {
   "cell_type": "markdown",
   "id": "6",
   "metadata": {},
   "source": [
    "Create a lifespan variable (years of life).  It will be missing for people who are currently living."
   ]
  },
  {
   "cell_type": "code",
   "execution_count": null,
   "id": "7",
   "metadata": {},
   "outputs": [],
   "source": [
    "df[\"lifespan\"] = df[\"death\"] - df[\"birth\"]"
   ]
  },
  {
   "cell_type": "markdown",
   "id": "8",
   "metadata": {},
   "source": [
    "Exclude people born before 1500, there is too little data to gain a meaningful understanding of the trends in lifespan prior to this year."
   ]
  },
  {
   "cell_type": "code",
   "execution_count": null,
   "id": "9",
   "metadata": {},
   "outputs": [],
   "source": [
    "dx = df.query(\"birth >= 1500\")"
   ]
  },
  {
   "cell_type": "markdown",
   "id": "10",
   "metadata": {},
   "source": [
    "Retain only variables to be analyzed below."
   ]
  },
  {
   "cell_type": "code",
   "execution_count": null,
   "id": "11",
   "metadata": {},
   "outputs": [],
   "source": [
    "dx = dx[[\"birth\", \"lifespan\", \"gender\", \"un_region\", \"level1_main_occ\"]]\n",
    "dx.head()"
   ]
  },
  {
   "cell_type": "markdown",
   "id": "12",
   "metadata": {},
   "source": [
    "There are a small number of people with missing or \"Other\" gender but it is too small of a sample to draw conclusions."
   ]
  },
  {
   "cell_type": "code",
   "execution_count": null,
   "id": "13",
   "metadata": {},
   "outputs": [],
   "source": [
    "print(dx.gender.value_counts())\n",
    "dx = dx.loc[dx[\"gender\"].isin([\"Female\", \"Male\"]), :]"
   ]
  },
  {
   "cell_type": "markdown",
   "id": "14",
   "metadata": {},
   "source": [
    "Drop uninformative occupation codes."
   ]
  },
  {
   "cell_type": "code",
   "execution_count": null,
   "id": "15",
   "metadata": {},
   "outputs": [],
   "source": [
    "dx = dx.loc[~dx[\"level1_main_occ\"].isin([\"Missing\", \"Other\"]), :]"
   ]
  },
  {
   "cell_type": "markdown",
   "id": "16",
   "metadata": {},
   "source": [
    "Censor lifespans at 2022"
   ]
  },
  {
   "cell_type": "code",
   "execution_count": null,
   "id": "17",
   "metadata": {},
   "outputs": [],
   "source": [
    "censor_year = 2022\n",
    "dx[\"clifespan\"] = dx[\"lifespan\"].fillna(censor_year - dx[\"birth\"])\n",
    "dx[\"died\"] = 1 - 1*dx[\"lifespan\"].isnull()\n",
    "dx.head()"
   ]
  },
  {
   "cell_type": "markdown",
   "id": "18",
   "metadata": {},
   "source": [
    "Now we can drop all rows with missing data"
   ]
  },
  {
   "cell_type": "code",
   "execution_count": null,
   "id": "19",
   "metadata": {},
   "outputs": [],
   "source": [
    "dx = dx.drop(\"lifespan\", axis=1)\n",
    "dx = dx.dropna()\n",
    "dx.head()"
   ]
  },
  {
   "cell_type": "markdown",
   "id": "20",
   "metadata": {},
   "source": [
    "Create a categorical variable indicating the century in which a person was born."
   ]
  },
  {
   "cell_type": "code",
   "execution_count": null,
   "id": "21",
   "metadata": {},
   "outputs": [],
   "source": [
    "dx[\"era\"] = np.floor((dx[\"birth\"] - 1500) / 100)\n",
    "dx.head()"
   ]
  },
  {
   "cell_type": "markdown",
   "id": "22",
   "metadata": {},
   "source": [
    "One of the factors we will consider as a predictor of lifespan is occupation, which has the levels and frequencies shown below:"
   ]
  },
  {
   "cell_type": "code",
   "execution_count": null,
   "id": "23",
   "metadata": {},
   "outputs": [],
   "source": [
    "dx[\"level1_main_occ\"].value_counts()"
   ]
  },
  {
   "cell_type": "markdown",
   "id": "24",
   "metadata": {},
   "source": [
    "Another factor of interest is the region where the person lived, which has five levels coded as follows:"
   ]
  },
  {
   "cell_type": "code",
   "execution_count": null,
   "id": "25",
   "metadata": {},
   "outputs": [],
   "source": [
    "dx[\"un_region\"].value_counts()"
   ]
  },
  {
   "cell_type": "markdown",
   "id": "26",
   "metadata": {},
   "source": [
    "Two other factors of interest are gender and era (of birth).  Marginal distributions for these variables are as below:"
   ]
  },
  {
   "cell_type": "code",
   "execution_count": null,
   "id": "27",
   "metadata": {},
   "outputs": [],
   "source": [
    "dx[\"gender\"].value_counts()"
   ]
  },
  {
   "cell_type": "code",
   "execution_count": null,
   "id": "28",
   "metadata": {},
   "outputs": [],
   "source": [
    "dx[\"era\"].value_counts()"
   ]
  },
  {
   "cell_type": "markdown",
   "id": "29",
   "metadata": {},
   "source": [
    "Plot the marginal survival functions for people born in each century.  These survival functions are estimated using the product limit (Kaplan-Meier) method."
   ]
  },
  {
   "cell_type": "code",
   "execution_count": null,
   "id": "30",
   "metadata": {},
   "outputs": [],
   "source": [
    "plt.figure(figsize=(8, 5))\n",
    "plt.clf()\n",
    "plt.axes([0.1, 0.1, 0.75, 0.8])\n",
    "plt.grid(True)\n",
    "for k,g in dx.groupby(\"era\"):\n",
    "    if k == 5:\n",
    "        # Exclude people born in the 21st century\n",
    "        continue\n",
    "    sf = sm.SurvfuncRight(g.clifespan, g.died)\n",
    "    la = \"%.0f\" % (1500 + k*100)\n",
    "    plt.plot(sf.surv_times, sf.surv_prob, label=la)\n",
    "plt.xlabel(\"Age\", size=15)\n",
    "plt.ylabel(\"Proportion alive\", size=15)\n",
    "ha, lb = plt.gca().get_legend_handles_labels()\n",
    "leg = plt.figlegend(ha, lb, loc=\"right\")\n",
    "leg.draw_frame(False)"
   ]
  },
  {
   "cell_type": "markdown",
   "id": "31",
   "metadata": {},
   "source": [
    "Create a translated birth year setting year 1500 as year zero.  This makes it easier to interpret the proportional hazard regression models so that effects are relative to 1500 as a reference year."
   ]
  },
  {
   "cell_type": "code",
   "execution_count": null,
   "id": "32",
   "metadata": {},
   "outputs": [],
   "source": [
    "dx[\"birth1500\"] = dx[\"birth\"] - 1500"
   ]
  },
  {
   "cell_type": "markdown",
   "id": "33",
   "metadata": {},
   "source": [
    "Fit a proportional hazards regression model"
   ]
  },
  {
   "cell_type": "code",
   "execution_count": null,
   "id": "34",
   "metadata": {},
   "outputs": [],
   "source": [
    "fml = \"clifespan ~ birth1500 + gender + level1_main_occ + un_region\"\n",
    "m0 = sm.PHReg.from_formula(fml, dx, status=\"died\")\n",
    "r0 = m0.fit()\n",
    "r0.summary()"
   ]
  },
  {
   "cell_type": "markdown",
   "id": "35",
   "metadata": {},
   "source": [
    "Plot the partial effect of birth year."
   ]
  },
  {
   "cell_type": "code",
   "execution_count": null,
   "id": "36",
   "metadata": {},
   "outputs": [],
   "source": [
    "def plot_birthyear_partial(dx, rr):\n",
    "    dp = dx.iloc[0:100, :].copy()\n",
    "    dp[\"gender\"] = \"Female\"\n",
    "    # Occupation and region are arbitrary but must be fixed\n",
    "    dp[\"level1_main_occ\"] = \"Leadership\"\n",
    "    dp[\"un_region\"] = \"Asia\"\n",
    "    dp[\"birth\"] = np.linspace(1500, 2000, 100)\n",
    "    dp[\"birth1500\"] = dp[\"birth\"] - 1500\n",
    "    lhr = rr.predict(exog=dp).predicted_values\n",
    "\n",
    "    plt.clf()\n",
    "    plt.grid(True)\n",
    "    plt.plot(dp[\"birth\"].values, lhr)\n",
    "    plt.xlabel(\"Birth year\", size=15)\n",
    "    plt.ylabel(\"Contribtution to the log hazard\", size=15)"
   ]
  },
  {
   "cell_type": "markdown",
   "id": "37",
   "metadata": {},
   "source": [
    "In the first model, there is a linear main effect for birth year.  The hazard of death is decreasing as year of birth increases."
   ]
  },
  {
   "cell_type": "code",
   "execution_count": null,
   "id": "38",
   "metadata": {},
   "outputs": [],
   "source": [
    "plot_birthyear_partial(dx, r0)"
   ]
  },
  {
   "cell_type": "markdown",
   "id": "39",
   "metadata": {},
   "source": [
    "Next we include a quadratic effect for birth year, to see if the relationship between year of birth and log mortality hazard might be curved (parabolic), holding all other variables fixed. "
   ]
  },
  {
   "cell_type": "code",
   "execution_count": null,
   "id": "40",
   "metadata": {},
   "outputs": [],
   "source": [
    "fml = \"clifespan ~ birth1500 + I(birth1500**2) + gender + level1_main_occ + un_region\"\n",
    "m1 = sm.PHReg.from_formula(fml, dx, status=\"died\")\n",
    "r1 = m1.fit()\n",
    "r1.summary()"
   ]
  },
  {
   "cell_type": "markdown",
   "id": "41",
   "metadata": {},
   "source": [
    "Since the quadratic term for year of birth is statistically significant, there is evidence for curvature in the relationship between birth year and mortality hazard.  However this model could be mis-specified -- the true relationship might be non-quadratic."
   ]
  },
  {
   "cell_type": "code",
   "execution_count": null,
   "id": "42",
   "metadata": {},
   "outputs": [],
   "source": [
    "plot_birthyear_partial(dx, r1)"
   ]
  },
  {
   "cell_type": "markdown",
   "id": "43",
   "metadata": {},
   "source": [
    "Next we add a cubic term to the model."
   ]
  },
  {
   "cell_type": "code",
   "execution_count": null,
   "id": "44",
   "metadata": {},
   "outputs": [],
   "source": [
    "fml = \"clifespan ~ birth1500 + I(birth1500**2) + I(birth1500**3) + gender + level1_main_occ + un_region\"\n",
    "m2 = sm.PHReg.from_formula(fml, dx, status=\"died\")\n",
    "r2 = m2.fit()\n",
    "r2.summary()"
   ]
  },
  {
   "cell_type": "markdown",
   "id": "45",
   "metadata": {},
   "source": [
    "Based on this model, the mortality hazard was fairly constant until around 1800, then it began to drop."
   ]
  },
  {
   "cell_type": "code",
   "execution_count": null,
   "id": "46",
   "metadata": {},
   "outputs": [],
   "source": [
    "plot_birthyear_partial(dx, r2)"
   ]
  },
  {
   "cell_type": "markdown",
   "id": "47",
   "metadata": {},
   "source": [
    "High order polynomials make poor basis functions.  A more effective approach is polynomial splines, which are piecewise polynomials.  Below we use a cubic spline basis with four degrees of freedom to capture the birth year effect."
   ]
  },
  {
   "cell_type": "code",
   "execution_count": null,
   "id": "48",
   "metadata": {},
   "outputs": [],
   "source": [
    "fml = \"clifespan ~ bs(birth1500, 4) + gender + level1_main_occ + un_region\"\n",
    "m3 = sm.PHReg.from_formula(fml, dx, status=\"died\")\n",
    "r3 = m3.fit()\n",
    "r3.summary()"
   ]
  },
  {
   "cell_type": "code",
   "execution_count": null,
   "id": "49",
   "metadata": {},
   "outputs": [],
   "source": [
    "plot_birthyear_partial(dx, r3)"
   ]
  },
  {
   "cell_type": "markdown",
   "id": "50",
   "metadata": {},
   "source": [
    "Above we found that year of birth is a strong predictor of the mortality hazard.  We also have a strong sex difference, with males having a much greater hazard.  Next we consider whether tyear of birth effect differs by sex."
   ]
  },
  {
   "cell_type": "code",
   "execution_count": null,
   "id": "51",
   "metadata": {},
   "outputs": [],
   "source": [
    "fml = \"clifespan ~ bs(birth1500, 4) * gender + level1_main_occ + un_region\"\n",
    "m4 = sm.PHReg.from_formula(fml, dx, status=\"died\")\n",
    "r4 = m4.fit()\n",
    "r4.summary()"
   ]
  },
  {
   "cell_type": "markdown",
   "id": "52",
   "metadata": {},
   "source": [
    "To assess whether the birthyear x gender interaction is significant, we can use a log-likelihood ratio test:"
   ]
  },
  {
   "cell_type": "code",
   "execution_count": null,
   "id": "53",
   "metadata": {},
   "outputs": [],
   "source": [
    "stat = 2*(r4.llf - r3.llf)\n",
    "dof = len(r4.params) - len(r3.params)\n",
    "print(\"stat=\", stat)\n",
    "print(\"dof=\", dof)\n",
    "1 - chi2(dof).cdf(stat)"
   ]
  },
  {
   "cell_type": "markdown",
   "id": "54",
   "metadata": {},
   "source": [
    "To understand the meaning of the interaction, we plot below the sex-specific contributions of year of birth to the log hazard."
   ]
  },
  {
   "cell_type": "code",
   "execution_count": null,
   "id": "55",
   "metadata": {},
   "outputs": [],
   "source": [
    "def plot_birthyear_partial_sexdiff(dx, rr):\n",
    "    dp = dx.iloc[0:200, :].copy()\n",
    "    dp[\"gender\"] = np.concatenate(([\"Female\"]*100, [\"Male\"]*100))\n",
    "    dp[\"female\"] = np.concatenate((np.ones(100), np.zeros(100)))\n",
    "    dp[\"level1_main_occ\"] = \"Leadership\"\n",
    "    dp[\"un_region\"] = \"Asia\"\n",
    "    b = np.linspace(1500, 2000, 100)\n",
    "    dp[\"birth\"] = np.concatenate((b, b))\n",
    "    dp[\"birth1500\"] = dp[\"birth\"] - 1500\n",
    "    lhr = rr.predict(exog=dp).predicted_values\n",
    "\n",
    "    plt.figure(figsize=(8, 5))\n",
    "    plt.clf()\n",
    "    plt.axes([0.1, 0.1, 0.75, 0.8])\n",
    "    plt.grid(True)\n",
    "    plt.plot(dp.iloc[0:100, :][\"birth\"].values, lhr[0:100], label=\"Female\")\n",
    "    plt.plot(dp.iloc[100:200, :][\"birth\"].values, lhr[100:200], label=\"Male\")\n",
    "    ha, lb = plt.gca().get_legend_handles_labels()\n",
    "    leg = plt.figlegend(ha, lb, loc=\"center right\")\n",
    "    leg.draw_frame(False)\n",
    "    plt.xlabel(\"Birth year (transformed)\", size=15)\n",
    "    plt.ylabel(\"Contribtution to the log hazard\", size=15)"
   ]
  },
  {
   "cell_type": "code",
   "execution_count": null,
   "id": "56",
   "metadata": {},
   "outputs": [],
   "source": [
    "plot_birthyear_partial_sexdiff(dx, r4)"
   ]
  },
  {
   "cell_type": "markdown",
   "id": "57",
   "metadata": {},
   "source": [
    "Above we considered an interaction between a categorical variable (gender) and a quantitative variable (birth1500).  Since the quantitative variable was modeled with splines, this createst an interaction between the gender indicator and each basis function of birth1500.  A more parsimonious way to model interactions involving splines is to model that main effect with a spline, but use only linear terms for the interaction.  This technique is illustrated below."
   ]
  },
  {
   "cell_type": "code",
   "execution_count": null,
   "id": "58",
   "metadata": {},
   "outputs": [],
   "source": [
    "dx[\"female\"] = (dx[\"gender\"] == \"Female\").astype(int)\n",
    "fml = \"clifespan ~ bs(birth1500, 4) + female + birth1500 : female + level1_main_occ + un_region\"\n",
    "m5 = sm.PHReg.from_formula(fml, dx, status=\"died\")\n",
    "r5 = m5.fit()\n",
    "r5.summary()"
   ]
  },
  {
   "cell_type": "code",
   "execution_count": null,
   "id": "59",
   "metadata": {},
   "outputs": [],
   "source": [
    "plot_birthyear_partial_sexdiff(dx, r5)"
   ]
  },
  {
   "cell_type": "markdown",
   "id": "60",
   "metadata": {},
   "source": [
    "## Baseline hazard functions\n",
    "\n",
    "The estimated baseline cumulative hazard function reflects the age-specific hazard of death.  The  cumulative hazard is easy to estimate but not straightforward to interpret."
   ]
  },
  {
   "cell_type": "code",
   "execution_count": null,
   "id": "61",
   "metadata": {},
   "outputs": [],
   "source": [
    "ti, cumhaz, surv = r0.baseline_cumulative_hazard[0]\n",
    "\n",
    "plt.clf()\n",
    "plt.grid(True)\n",
    "plt.plot(ti, cumhaz)\n",
    "plt.xlabel(\"Age\", size=15)\n",
    "plt.ylabel(\"Cumulative hazard\", size=15)"
   ]
  },
  {
   "cell_type": "markdown",
   "id": "62",
   "metadata": {},
   "source": [
    "Estimate and plot the baseline cumulative hazard function on the log scale"
   ]
  },
  {
   "cell_type": "code",
   "execution_count": null,
   "id": "63",
   "metadata": {},
   "outputs": [],
   "source": [
    "ti, cumhaz, surv = r0.baseline_cumulative_hazard[0]\n",
    "\n",
    "plt.clf()\n",
    "plt.grid(True)\n",
    "plt.plot(ti, np.log(np.clip(cumhaz, 1e-4, np.inf)))\n",
    "plt.xlabel(\"Age\", size=15)\n",
    "plt.ylabel(\"Log cumulative hazard\", size=15)"
   ]
  },
  {
   "cell_type": "markdown",
   "id": "64",
   "metadata": {},
   "source": [
    "Next we estimate and plot the baseline hazard function using numerical differentiation"
   ]
  },
  {
   "cell_type": "code",
   "execution_count": null,
   "id": "65",
   "metadata": {},
   "outputs": [],
   "source": [
    "ti, chaz, surv = r0.baseline_cumulative_hazard[0]\n",
    "haz = np.diff(chaz) / np.diff(ti)\n",
    "shaz = sm.nonparametric.lowess(np.log(haz), ti[0:-1])\n",
    "\n",
    "plt.clf()\n",
    "plt.grid(True)\n",
    "plt.plot(shaz[:, 0], shaz[:, 1])\n",
    "plt.xlabel(\"Age\", size=15)\n",
    "plt.ylabel(\"log hazard\", size=15)"
   ]
  },
  {
   "cell_type": "markdown",
   "id": "66",
   "metadata": {},
   "source": [
    "# Stratification"
   ]
  },
  {
   "cell_type": "markdown",
   "id": "67",
   "metadata": {},
   "source": [
    "Fit a sex-stratified proportional hazards regression model"
   ]
  },
  {
   "cell_type": "code",
   "execution_count": null,
   "id": "68",
   "metadata": {},
   "outputs": [],
   "source": [
    "fml = \"clifespan ~ bs(birth, 4) + level1_main_occ + un_region\"\n",
    "m6 = sm.PHReg.from_formula(fml, dx, status=\"died\", strata=\"gender\")\n",
    "r6 = m6.fit()\n",
    "r6.summary()"
   ]
  },
  {
   "cell_type": "markdown",
   "id": "69",
   "metadata": {},
   "source": [
    "Plot the estimated baseline hazard function for each sex:"
   ]
  },
  {
   "cell_type": "code",
   "execution_count": null,
   "id": "70",
   "metadata": {},
   "outputs": [],
   "source": [
    "bh = r6.baseline_cumulative_hazard\n",
    "snames = m6.surv.stratum_names\n",
    "\n",
    "plt.clf()\n",
    "plt.figure(figsize=(8, 5))\n",
    "plt.axes([0.1, 0.1, 0.75, 0.8])\n",
    "plt.grid(True)\n",
    "for k in 0,1:\n",
    "    ti = bh[k][0]\n",
    "    chaz = bh[k][1]\n",
    "    haz = np.diff(chaz) / np.diff(ti)\n",
    "    shaz = sm.nonparametric.lowess(np.log(haz), ti[0:-1], frac=0.5)\n",
    "    plt.plot(shaz[:,0], shaz[:,1], label=snames[k])\n",
    "plt.xlabel(\"Age\", size=15)\n",
    "plt.ylabel(\"Log hazard\", size=15)\n",
    "ha, lb = plt.gca().get_legend_handles_labels()\n",
    "leg = plt.figlegend(ha, lb, loc=\"right\")\n",
    "leg.draw_frame(False)"
   ]
  }
 ],
 "metadata": {
  "jupytext": {
   "cell_metadata_filter": "-all",
   "main_language": "python",
   "notebook_metadata_filter": "-all"
  },
  "kernelspec": {
   "display_name": "Python 3 (ipykernel)",
   "language": "python",
   "name": "python3"
  },
  "language_info": {
   "codemirror_mode": {
    "name": "ipython",
    "version": 3
   },
   "file_extension": ".py",
   "mimetype": "text/x-python",
   "name": "python",
   "nbconvert_exporter": "python",
   "pygments_lexer": "ipython3",
   "version": "3.10.9"
  }
 },
 "nbformat": 4,
 "nbformat_minor": 5
}
