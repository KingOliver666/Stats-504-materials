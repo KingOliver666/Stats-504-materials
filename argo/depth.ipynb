{
 "cells": [
  {
   "cell_type": "markdown",
   "id": "07023bee",
   "metadata": {},
   "source": [
    "# ARGO study\n",
    "\n",
    "This notebook demonstrates how we can use the concept of \"data depth\" to identify central and outlying points in the ARGO data.\n",
    "\n",
    "Quite a bit of processing is needed to prepare the data for these analyses.  You should review the get_data.py, prep.py, and read.py scripts to understand how this is done."
   ]
  },
  {
   "cell_type": "code",
   "execution_count": null,
   "id": "99f2db8a",
   "metadata": {},
   "outputs": [],
   "source": [
    "import numpy as np\n",
    "import cartopy.crs as ccrs\n",
    "from matplotlib.backends.backend_pdf import PdfPages\n",
    "import matplotlib.pyplot as plt\n",
    "from scipy.interpolate import interp1d\n",
    "from statsmodels.nonparametric.smoothers_lowess import lowess\n",
    "import pandas as pd\n",
    "from read import *"
   ]
  },
  {
   "cell_type": "markdown",
   "id": "3e2fff4b",
   "metadata": {},
   "source": [
    "The mean temperature and pressure are plotted below.  These are very simplistic and not very informative about the overall distribution of the data."
   ]
  },
  {
   "cell_type": "code",
   "execution_count": null,
   "id": "87b12af2",
   "metadata": {},
   "outputs": [],
   "source": [
    "plt.clf()\n",
    "plt.grid(True)\n",
    "plt.plot(pressure, temp.mean(1))\n",
    "plt.xlabel(\"Pressure (dbar)\", size=15)\n",
    "plt.ylabel(\"Mean temperature (C)\", size=15)"
   ]
  },
  {
   "cell_type": "code",
   "execution_count": null,
   "id": "fbd43f44",
   "metadata": {},
   "outputs": [],
   "source": [
    "plt.clf()\n",
    "plt.grid(True)\n",
    "plt.plot(pressure, psal.mean(1))\n",
    "plt.xlabel(\"Pressure (dbar)\", size=15)\n",
    "plt.ylabel(\"Mean salinity (psal)\", size=15)"
   ]
  },
  {
   "cell_type": "markdown",
   "id": "50163a64",
   "metadata": {},
   "source": [
    "Subset the data for speed."
   ]
  },
  {
   "cell_type": "code",
   "execution_count": null,
   "id": "a45e93ab",
   "metadata": {
    "lines_to_next_cell": 1
   },
   "outputs": [],
   "source": [
    "ii = np.random.choice(np.arange(temp.shape[1]), 5000, replace=False)\n",
    "tempx = temp[:, ii]\n",
    "psalx = psal[:, ii]\n",
    "latx = lat[ii]\n",
    "lonx = lon[ii]\n",
    "dayx = day[ii]"
   ]
  },
  {
   "cell_type": "markdown",
   "id": "e4136b77",
   "metadata": {},
   "source": [
    "Calculate the spatial depth of vector v relative to all columns of x."
   ]
  },
  {
   "cell_type": "code",
   "execution_count": null,
   "id": "66f6fd90",
   "metadata": {
    "lines_to_next_cell": 1
   },
   "outputs": [],
   "source": [
    "def sdepth(v, x):\n",
    "    p, n = x.shape\n",
    "    z = x - v[:, None]\n",
    "    zn = np.sqrt((z**2).sum(0))\n",
    "    zn[np.abs(zn) < 1e-12] = np.inf\n",
    "    z /= zn\n",
    "    u = z.mean(1)\n",
    "    return 1 - np.sqrt(np.sum(u**2))"
   ]
  },
  {
   "cell_type": "markdown",
   "id": "41a7292d",
   "metadata": {},
   "source": [
    "Calculate the L2 depth of vector v relative to all columns of x."
   ]
  },
  {
   "cell_type": "code",
   "execution_count": null,
   "id": "b393cbd0",
   "metadata": {
    "lines_to_next_cell": 1
   },
   "outputs": [],
   "source": [
    "def l2depth(v, x):\n",
    "    p, n = x.shape\n",
    "    z = x - v[:, None]\n",
    "    zn = np.sqrt((z**2).sum(0))\n",
    "    d = zn.mean()\n",
    "    return 1e6 / (1 + d)"
   ]
  },
  {
   "cell_type": "markdown",
   "id": "bdb1d821",
   "metadata": {},
   "source": [
    "Estimate the band depth of vector v relative to all columns of x, using 500 random draws to estimate the band depth."
   ]
  },
  {
   "cell_type": "code",
   "execution_count": null,
   "id": "81f23e35",
   "metadata": {
    "lines_to_next_cell": 1
   },
   "outputs": [],
   "source": [
    "def bdepth(v, x, m=500):\n",
    "    p, n = x.shape\n",
    "    t = 0.0\n",
    "    for k in range(m):\n",
    "        ii = np.random.choice(n, 3, replace=False)\n",
    "        z = x[:, ii]\n",
    "        mn = z.min(1)\n",
    "        mx = z.max(1)\n",
    "        t += np.mean((v >= mn) & (v <= mx))\n",
    "    t /= m\n",
    "    return t"
   ]
  },
  {
   "cell_type": "markdown",
   "id": "858ac4ee",
   "metadata": {},
   "source": [
    "Calculate the depth of every column of x relative to the other columns, using 'dfun' as the depth function."
   ]
  },
  {
   "cell_type": "code",
   "execution_count": null,
   "id": "a10d9de1",
   "metadata": {
    "lines_to_next_cell": 1
   },
   "outputs": [],
   "source": [
    "def depths(x, dfun, progress=False):\n",
    "    p, n = x.shape\n",
    "    d = np.zeros(n)\n",
    "    for i in range(n):\n",
    "        if progress and (i % 200 == 0):\n",
    "            print(i, end=\"\", flush=True)\n",
    "            print(\".\", end=\"\", flush=True)\n",
    "        d[i] = dfun(x[:, i], x)\n",
    "    if progress:\n",
    "        print(\"done\", flush=True)\n",
    "    return d"
   ]
  },
  {
   "cell_type": "markdown",
   "id": "3052dc2e",
   "metadata": {},
   "source": [
    "Plot a small random selection of profiles from each depth decile."
   ]
  },
  {
   "cell_type": "code",
   "execution_count": null,
   "id": "7615b43b",
   "metadata": {
    "lines_to_next_cell": 1
   },
   "outputs": [],
   "source": [
    "def depth_cut(dp, x, q, pressure, ylab):\n",
    "    dq = pd.qcut(dp, q)\n",
    "    for (i,iv) in enumerate(dq.categories):\n",
    "        ii = np.flatnonzero(dq == iv)\n",
    "        jj = np.random.choice(ii, 10)\n",
    "\n",
    "        plt.clf()\n",
    "        plt.figure(figsize=(6.4,4.8))\n",
    "        plt.grid(True)\n",
    "        plt.title(\"Depth quantile %d %s\" % (i + 1, str(iv)))\n",
    "        for j in jj:\n",
    "            plt.plot(pressure, x[:, j], \"-\", color=\"grey\")\n",
    "        if ylab == \"Temperature\":\n",
    "            plt.ylim(-5, 35)\n",
    "        else:\n",
    "            plt.ylim(32, 37)\n",
    "        plt.ylabel(ylab, size=15)\n",
    "        plt.xlabel(\"Pressure\", size=15)\n",
    "        plt.show()"
   ]
  },
  {
   "cell_type": "code",
   "execution_count": null,
   "id": "b33beddb",
   "metadata": {},
   "outputs": [],
   "source": [
    "dp_temp = depths(tempx, sdepth, progress=True)\n",
    "dp_psal = depths(psalx, sdepth, progress=True)"
   ]
  },
  {
   "cell_type": "code",
   "execution_count": null,
   "id": "2e360c00",
   "metadata": {
    "lines_to_next_cell": 1
   },
   "outputs": [],
   "source": [
    "q = 10\n",
    "depth_cut(dp_temp, tempx, q, pressure, \"Temperature\")"
   ]
  },
  {
   "cell_type": "code",
   "execution_count": null,
   "id": "b130aede",
   "metadata": {},
   "outputs": [],
   "source": [
    "depth_cut(dp_psal, psalx, q, pressure, \"Salinity\")"
   ]
  },
  {
   "cell_type": "markdown",
   "id": "96864770",
   "metadata": {},
   "source": [
    "Plot the estimated conditional mean depth relative to each explanatory variable. The bands in these plots are +/- f times the mean absolute deviation from the conditional mean."
   ]
  },
  {
   "cell_type": "code",
   "execution_count": null,
   "id": "62dc6233",
   "metadata": {
    "lines_to_next_cell": 1
   },
   "outputs": [],
   "source": [
    "def depth_correlates(dp, lat, lon, day, title, f=2):\n",
    "    dpx = pd.DataFrame({\"depth\": dp, \"lat\": lat, \"lon\": lon, \"day\": day})\n",
    "    vn = {\"lat\": \"Latitude\", \"lon\": \"Longitude\", \"day\": \"Day\"}\n",
    "    for v in [\"lat\", \"lon\", \"day\"]:\n",
    "\n",
    "        # A grid of 100 values covering the range of the\n",
    "        # explanatory variable.\n",
    "        xx = np.linspace(dpx[v].min(), dpx[v].max(), 100)\n",
    "\n",
    "        # Use loess to regress depth on the explanatory variable\n",
    "        m = lowess(dpx[\"depth\"], dpx[v])\n",
    "        dh = interp1d(m[:, 0], m[:, 1])(xx)\n",
    "\n",
    "        # Use loess to regress the absolute depth residuals\n",
    "        # on the explanatory variable\n",
    "        aresid = np.abs(m[:, 1] - dpx[\"depth\"])\n",
    "        r = lowess(aresid, dpx[v])\n",
    "        dq = interp1d(r[:, 0], r[:, 1])(xx)\n",
    "\n",
    "        plt.clf()\n",
    "        plt.title(title)\n",
    "        plt.grid(True)\n",
    "        plt.plot(xx, dh, \"-\")\n",
    "        plt.fill_between(xx, dh-f*dq, dh+f*dq, color=\"grey\", alpha=0.5)\n",
    "        plt.xlabel(vn[v], size=15)\n",
    "        plt.ylabel(\"Depth\", size=15)\n",
    "        plt.show()"
   ]
  },
  {
   "cell_type": "code",
   "execution_count": null,
   "id": "46b472ef",
   "metadata": {},
   "outputs": [],
   "source": [
    "depth_correlates(dp_temp, latx, lonx, dayx, \"Temperature\")"
   ]
  },
  {
   "cell_type": "code",
   "execution_count": null,
   "id": "63f7023d",
   "metadata": {},
   "outputs": [],
   "source": [
    "depth_correlates(dp_psal, latx, lonx, dayx, \"Salinity\")"
   ]
  },
  {
   "cell_type": "markdown",
   "id": "be5891db",
   "metadata": {},
   "source": [
    "Northern hemisphere"
   ]
  },
  {
   "cell_type": "code",
   "execution_count": null,
   "id": "8d6fb6d6",
   "metadata": {},
   "outputs": [],
   "source": [
    "ii = np.flatnonzero(latx > 0)\n",
    "depth_correlates(dp_temp[ii], latx[ii], lonx[ii], dayx[ii], \"Northern hemisphere temperature\")"
   ]
  },
  {
   "cell_type": "code",
   "execution_count": null,
   "id": "6f005c28",
   "metadata": {},
   "outputs": [],
   "source": [
    "depth_correlates(dp_psal[ii], latx[ii], lonx[ii], dayx[ii], \"Northern hemisphere salinity\")"
   ]
  },
  {
   "cell_type": "markdown",
   "id": "f2c44b41",
   "metadata": {},
   "source": [
    "Southern hemisphere"
   ]
  },
  {
   "cell_type": "code",
   "execution_count": null,
   "id": "332a8d43",
   "metadata": {
    "lines_to_next_cell": 1
   },
   "outputs": [],
   "source": [
    "ii = np.flatnonzero(latx < 0)\n",
    "depth_correlates(dp_temp[ii], latx[ii], lonx[ii], dayx[ii], \"Southern hemisphere temperature\")"
   ]
  },
  {
   "cell_type": "code",
   "execution_count": null,
   "id": "8311bf51",
   "metadata": {},
   "outputs": [],
   "source": [
    "depth_correlates(dp_psal[ii], latx[ii], lonx[ii], dayx[ii], \"Southern hemisphere salinity\")"
   ]
  },
  {
   "cell_type": "code",
   "execution_count": null,
   "id": "1e70bc4c",
   "metadata": {
    "lines_to_next_cell": 1
   },
   "outputs": [],
   "source": [
    "def plot_depth_map(dp, title):\n",
    "    plt.clf()\n",
    "    plt.figure(figsize=(8, 7.25))\n",
    "    ax = plt.axes([0.05, 0.05, 0.84, 0.88], projection=ccrs.PlateCarree(central_longitude=180))\n",
    "    ax.coastlines()\n",
    "    ax.set_extent([115, 290, -70, 60])\n",
    "\n",
    "    qq = np.argsort(np.argsort(dp)) / len(dp)\n",
    "    ii = np.flatnonzero(qq < 0.1)\n",
    "    plt.scatter(lonx[ii], latx[ii], s=8, color=\"red\", label=\"shallow\",\n",
    "                transform=ccrs.Geodetic())\n",
    "    ii = np.flatnonzero(qq > 0.9)\n",
    "    plt.scatter(lonx[ii], latx[ii], s=8, color=\"blue\", label=\"deep\",\n",
    "                transform=ccrs.Geodetic())\n",
    "\n",
    "    ha,lb = plt.gca().get_legend_handles_labels()\n",
    "    leg = plt.figlegend(ha, lb, loc=\"center right\", handletextpad=0.01)\n",
    "    leg.draw_frame(False)\n",
    "\n",
    "    plt.title(title)\n",
    "    plt.show()"
   ]
  },
  {
   "cell_type": "code",
   "execution_count": null,
   "id": "e45a84bf",
   "metadata": {},
   "outputs": [],
   "source": [
    "plot_depth_map(dp_temp, \"Temperature\")"
   ]
  },
  {
   "cell_type": "code",
   "execution_count": null,
   "id": "76ec01bc",
   "metadata": {},
   "outputs": [],
   "source": [
    "plot_depth_map(dp_psal, \"Salinity\")"
   ]
  }
 ],
 "metadata": {
  "jupytext": {
   "cell_metadata_filter": "-all",
   "main_language": "python",
   "notebook_metadata_filter": "-all"
  },
  "kernelspec": {
   "display_name": "Python 3 (ipykernel)",
   "language": "python",
   "name": "python3"
  },
  "language_info": {
   "codemirror_mode": {
    "name": "ipython",
    "version": 3
   },
   "file_extension": ".py",
   "mimetype": "text/x-python",
   "name": "python",
   "nbconvert_exporter": "python",
   "pygments_lexer": "ipython3",
   "version": "3.10.9"
  }
 },
 "nbformat": 4,
 "nbformat_minor": 5
}
