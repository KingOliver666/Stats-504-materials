{
 "cells": [
  {
   "cell_type": "markdown",
   "id": "56329e61",
   "metadata": {},
   "source": [
    "# Predictors of blood pressure in US adults\n",
    "\n",
    "This case study uses data from the National Health and Nutrition Examination Survey (NHANES) to identify predictors of blood pressure in US adults.  NHANES is a cross-sectional study so we have a single blood pressure measurement for each subject, along with many potential predictors that are acquired at the same point in time as the blood pressure is measured.  It is important to keep in mind that NHANES is an observational study, so relationships between variables identified using regression analysis may not be causal (e.g. they may reflect an unmeasured common cause).\n",
    "\n",
    "Blood pressure is a highly volatile trait, so a single measurement may reflect transient factors that are not reflected in the covariates.  However some fraction of blood pressure variation is explained by covariates.  For example, we will see strong differences in blood pressure related to age, sex, body dimensions (height, weight, BMI), and race.  The roles of these explanatory variables will turn out to be nonlinear and non-additive.\n",
    "\n",
    "All analyses below employ linear least squares (OLS).  Models fit using OLS are ideal in homoscedastic settings (where the variance is constant in the mean).  This is not strictly true, as demonstrated below, but holds in good approximation.  OLS can be employed in the presence of mild heteroscedasticity, but there may be a mild loss of precision (statistical power).\n"
   ]
  },
  {
   "cell_type": "code",
   "execution_count": null,
   "id": "299752c5",
   "metadata": {},
   "outputs": [],
   "source": [
    "import numpy as np\n",
    "import patsy\n",
    "import statsmodels.api as sm\n",
    "import matplotlib\n",
    "import matplotlib.pyplot as plt\n",
    "from read import df"
   ]
  },
  {
   "cell_type": "code",
   "execution_count": null,
   "id": "028432ae",
   "metadata": {},
   "outputs": [],
   "source": [
    "cm = matplotlib.colormaps[\"tab10\"]"
   ]
  },
  {
   "cell_type": "markdown",
   "id": "dedb60c1",
   "metadata": {},
   "source": [
    "Below we define four functions that plot fitted mean blood pressure as a function of age, for specific settings of other variables of interest."
   ]
  },
  {
   "cell_type": "code",
   "execution_count": null,
   "id": "f9966edb",
   "metadata": {},
   "outputs": [],
   "source": [
    "dp = df.iloc[0:50, :].copy()\n",
    "dp[\"RIDAGEYR\"] = np.linspace(18, 80, 50)\n",
    "dp[\"RIDRETH1\"] = \"MA\"\n",
    "\n",
    "db = df.iloc[0:50, :].copy()\n",
    "db[\"BMXBMI\"] = np.linspace(20, 50, 50)\n",
    "db[\"RIDRETH1\"] = \"MA\"\n",
    "db[\"RIDAGEYR\"] = 50"
   ]
  },
  {
   "cell_type": "code",
   "execution_count": null,
   "id": "29ae28ae",
   "metadata": {
    "lines_to_next_cell": 1
   },
   "outputs": [],
   "source": [
    "def plot1(rr, ii, dbands=False, bmi=25):\n",
    "    \"\"\"\"\n",
    "    Plot predicted SBP by sex at fixed BMI.  Optionally, broken lines at +/- 1 SD are also plotted.\n",
    "    \"\"\"\n",
    "    sigma = np.sqrt(rr.scale)\n",
    "    plt.figure(figsize=(5, 3))\n",
    "    plt.clf()\n",
    "    plt.axes([0.12, 0.12, 0.65, 0.8])\n",
    "    plt.grid(True)\n",
    "    for (jj,sex) in enumerate([\"F\", \"M\"]):\n",
    "        dp[\"RIAGENDR\"] = sex\n",
    "        dp[\"BMXBMI\"] = bmi\n",
    "        yh = rr.predict(exog=dp)\n",
    "        plt.plot(dp.RIDAGEYR, yh, color=cm(jj/10), label={\"F\": \"Female\", \"M\": \"Male\"}[sex])\n",
    "        if dbands:\n",
    "            plt.plot(dp.RIDAGEYR, yh + sigma, \":\", color=cm(jj/10))\n",
    "            plt.plot(dp.RIDAGEYR, yh - sigma, \":\", color=cm(jj/10))\n",
    "    plt.xlabel(\"Age\", size=14)\n",
    "    plt.ylabel(\"SBP\", size=14)\n",
    "    plt.title(\"Model %d\" % ii)\n",
    "    ha, lb = plt.gca().get_legend_handles_labels()\n",
    "    leg = plt.figlegend(ha, lb, loc=\"center right\")\n",
    "    leg.draw_frame(False)\n",
    "    plt.show()"
   ]
  },
  {
   "cell_type": "code",
   "execution_count": null,
   "id": "a13e8437",
   "metadata": {
    "lines_to_next_cell": 1
   },
   "outputs": [],
   "source": [
    "def plot2(rr, ii, bmis = [25, 30]):\n",
    "    \"\"\"\n",
    "    Plot predicted SBP by sex at two different BMI levels (25 versus 30).\n",
    "    \"\"\"\n",
    "    plt.figure(figsize=(5.5, 3))\n",
    "    plt.clf()\n",
    "    plt.axes([0.12, 0.12, 0.65, 0.8])\n",
    "    plt.grid(True)\n",
    "    for sex in [\"F\", \"M\"]:\n",
    "        for bmi in bmis:\n",
    "            dp[\"RIAGENDR\"] = sex\n",
    "            dp[\"BMXBMI\"] = bmi\n",
    "            yh = rr.predict(exog=dp)\n",
    "            plt.plot(dp.RIDAGEYR, yh, label=\"%s/%.0f\" %\n",
    "                     ({\"F\": \"Female\", \"M\": \"Male\"}[sex], bmi))\n",
    "    plt.xlabel(\"Age\", size=14)\n",
    "    plt.ylabel(\"SBP\", size=14)\n",
    "    plt.title(\"Model %d\" % ii)\n",
    "    ha, lb = plt.gca().get_legend_handles_labels()\n",
    "    leg = plt.figlegend(ha, lb, loc=\"center right\")\n",
    "    leg.draw_frame(False)\n",
    "    leg.set_title(\"Sex/BMI\")\n",
    "    plt.show()"
   ]
  },
  {
   "cell_type": "code",
   "execution_count": null,
   "id": "49a135f9",
   "metadata": {
    "lines_to_next_cell": 1
   },
   "outputs": [],
   "source": [
    "def plot3(rr, ii, bmi=25):\n",
    "    \"\"\"\n",
    "    Compare females and males at fixed BMI, for each age, with confidence bands.\n",
    "    \"\"\"\n",
    "    dp[\"BMXBMI\"] = bmi\n",
    "    yy, xm = [], []\n",
    "    for sex in [\"F\", \"M\"]:\n",
    "        dp[\"RIAGENDR\"] = sex\n",
    "        xx = patsy.dmatrix(rr.model.data.design_info, dp, return_type=\"dataframe\")\n",
    "        xm.append(xx)\n",
    "        y = rr.predict(exog=dp)\n",
    "        yy.append(y)\n",
    "    xd = xm[0] - xm[1]\n",
    "    vc = np.dot(xd, np.dot(rr.cov_params(), xd.T))\n",
    "    se = np.sqrt(np.diag(vc))\n",
    "    yd = yy[0] - yy[1]\n",
    "\n",
    "    plt.figure(figsize=(5, 3))\n",
    "    plt.clf()\n",
    "    plt.axes([0.12, 0.12, 0.65, 0.8])\n",
    "    plt.grid(True)\n",
    "    plt.fill_between(dp.RIDAGEYR, yd-2*se, yd+2*se, color=\"grey\")\n",
    "    plt.plot(dp.RIDAGEYR, yd, color=\"black\")\n",
    "    plt.xlabel(\"Age\", size=14)\n",
    "    plt.ylabel(\"SBP difference\", size=14)\n",
    "    plt.title(\"Model %d\" % ii)\n",
    "    plt.title(\"SBP difference based on sex (F-M) at BMI=25\")\n",
    "    plt.show()"
   ]
  },
  {
   "cell_type": "code",
   "execution_count": null,
   "id": "bb31f40a",
   "metadata": {
    "lines_to_next_cell": 1
   },
   "outputs": [],
   "source": [
    "def plot4(rr, ii, sex=\"F\"):\n",
    "    \"\"\"\n",
    "    Compare BMI 25 to BMI 30, for one sex only.\n",
    "    \"\"\"    \n",
    "    dp[\"RIAGENDR\"] = sex\n",
    "    yy, xm = [], []\n",
    "    for bmi in [30, 25]:\n",
    "        dp[\"BMXBMI\"] = bmi\n",
    "        xx = patsy.dmatrix(rr.model.data.design_info, dp, return_type=\"dataframe\")\n",
    "        xm.append(xx)\n",
    "        y = rr.predict(exog=dp)\n",
    "        yy.append(y)\n",
    "    xd = xm[0] - xm[1]\n",
    "    vc = np.dot(xd, np.dot(rr.cov_params(), xd.T))\n",
    "    se = np.sqrt(np.diag(vc))\n",
    "    yd = yy[0] - yy[1]\n",
    "\n",
    "    plt.figure(figsize=(5, 3))\n",
    "    plt.clf()\n",
    "    plt.axes([0.12, 0.12, 0.65, 0.8])\n",
    "    plt.grid(True)\n",
    "    plt.fill_between(dp.RIDAGEYR, yd-2*se, yd+2*se, color=\"grey\")\n",
    "    plt.plot(dp.RIDAGEYR, yd, color=\"black\")\n",
    "    plt.xlabel(\"Age\", size=14)\n",
    "    plt.ylabel(\"SBP\", size=14)\n",
    "    plt.title(\"Model %d\" % ii)\n",
    "    plt.title(\"SBP difference based on BMI (30-25) for females\")\n",
    "    plt.show()"
   ]
  },
  {
   "cell_type": "code",
   "execution_count": null,
   "id": "a1eb1161",
   "metadata": {},
   "outputs": [],
   "source": [
    "def plot5(rr, ii, ages = [40, 60]):\n",
    "    \"\"\"\n",
    "    Plot predicted SBP by BMI at two different age levels (40 and 60).\n",
    "    \"\"\"\n",
    "    plt.figure(figsize=(5.5, 3))\n",
    "    plt.clf()\n",
    "    plt.axes([0.12, 0.12, 0.65, 0.8])\n",
    "    plt.grid(True)\n",
    "    for sex in [\"F\", \"M\"]:\n",
    "        db[\"RIAGENDR\"] = sex\n",
    "        for age in ages:\n",
    "            db[\"RIDAGEYR\"] = age\n",
    "            yh = rr.predict(exog=db)\n",
    "            plt.plot(db.BMXBMI, yh, label=\"%s/%.0f\" %\n",
    "                     ({\"F\": \"Female\", \"M\": \"Male\"}[sex], age))\n",
    "    plt.xlabel(\"BMI\", size=14)\n",
    "    plt.ylabel(\"SBP\", size=14)\n",
    "    plt.title(\"Model %d\" % ii)\n",
    "    ha, lb = plt.gca().get_legend_handles_labels()\n",
    "    leg = plt.figlegend(ha, lb, loc=\"center right\")\n",
    "    leg.draw_frame(False)\n",
    "    leg.set_title(\"Sex/Age\")\n",
    "    plt.show()"
   ]
  },
  {
   "cell_type": "code",
   "execution_count": null,
   "id": "3a870814",
   "metadata": {
    "lines_to_next_cell": 1
   },
   "outputs": [],
   "source": [
    "def plot_all(rr, ii):\n",
    "    plot1(rr, ii, bmi=25)\n",
    "    plot1(rr, ii, dbands=True)\n",
    "    plot2(rr, ii, bmis=[25, 30])\n",
    "    plot3(rr, ii, bmi=25)\n",
    "    plot4(rr, ii, sex=\"F\")\n",
    "    plot5(rr, ii, ages=[40, 60])"
   ]
  },
  {
   "cell_type": "markdown",
   "id": "f8c8b72f",
   "metadata": {},
   "source": [
    "The first model is a very basic additive model expressing expected blood pressure as a linear function of age, sex, and BMI.  This is a \"linear mean structure model\" in the sense that blood pressure is modeled as a linear function of age for fixed values of sex and BMI.  It is also modeled as a linear function of BMI for fixed values of sex and age. "
   ]
  },
  {
   "cell_type": "code",
   "execution_count": null,
   "id": "05ecb5bb",
   "metadata": {},
   "outputs": [],
   "source": [
    "f0 = \"BPXSY1 ~ RIDAGEYR + RIAGENDR + BMXBMI\"\n",
    "m0 = sm.OLS.from_formula(f0, df)\n",
    "r0 = m0.fit()\n",
    "plot_all(r0, 0)"
   ]
  },
  {
   "cell_type": "markdown",
   "id": "8566484e",
   "metadata": {},
   "source": [
    "Model 1 allows the age slopes to differ by sex, while additively controlling for BMI."
   ]
  },
  {
   "cell_type": "code",
   "execution_count": null,
   "id": "eb70452e",
   "metadata": {},
   "outputs": [],
   "source": [
    "f1 = \"BPXSY1 ~ RIDAGEYR * RIAGENDR + BMXBMI\"\n",
    "m1 = sm.OLS.from_formula(f1, df)\n",
    "r1 = m1.fit()\n",
    "plot_all(r1, 1)"
   ]
  },
  {
   "cell_type": "markdown",
   "id": "b2d9f1ff",
   "metadata": {},
   "source": [
    "In model 2, we allow the BMI slopes to differ by sex, while additively controlling for age."
   ]
  },
  {
   "cell_type": "code",
   "execution_count": null,
   "id": "46333e94",
   "metadata": {},
   "outputs": [],
   "source": [
    "f2 = \"BPXSY1 ~ RIDAGEYR + RIAGENDR * BMXBMI\"\n",
    "m2 = sm.OLS.from_formula(f2, df)\n",
    "r2 = m2.fit()\n",
    "plot_all(r2, 2)"
   ]
  },
  {
   "cell_type": "markdown",
   "id": "ac05b874",
   "metadata": {},
   "source": [
    "Model 3 allows both the age and BMI slopes to differ by sex."
   ]
  },
  {
   "cell_type": "code",
   "execution_count": null,
   "id": "7511e959",
   "metadata": {},
   "outputs": [],
   "source": [
    "f3 = \"BPXSY1 ~ (RIDAGEYR + BMXBMI) * RIAGENDR\"\n",
    "m3 = sm.OLS.from_formula(f3, df)\n",
    "r3 = m3.fit()\n",
    "plot_all(r3, 3)"
   ]
  },
  {
   "cell_type": "markdown",
   "id": "1281367d",
   "metadata": {},
   "source": [
    "Model 4 has full interactions among age, BMI, and sex."
   ]
  },
  {
   "cell_type": "code",
   "execution_count": null,
   "id": "e0e8223d",
   "metadata": {},
   "outputs": [],
   "source": [
    "f4 = \"BPXSY1 ~ RIDAGEYR * BMXBMI * RIAGENDR\"\n",
    "m4 = sm.OLS.from_formula(f4, df)\n",
    "r4 = m4.fit()\n",
    "plot_all(r4, 4)"
   ]
  },
  {
   "cell_type": "markdown",
   "id": "634867d1",
   "metadata": {},
   "source": [
    "We can use the AIC to assess the goodness of fit of the models consider so far.  A lower AIC reflects a better fitting model."
   ]
  },
  {
   "cell_type": "code",
   "execution_count": null,
   "id": "915a79ad",
   "metadata": {},
   "outputs": [],
   "source": [
    "print(\"AIC for models 0-4:\")\n",
    "aic = np.asarray([x.aic for x in (r0, r1, r2, r3, r4)])\n",
    "aic -= aic.min()\n",
    "print(aic)"
   ]
  },
  {
   "cell_type": "markdown",
   "id": "3f31dff7",
   "metadata": {},
   "source": [
    "All models above treated quantitative variables (age and BMI) linearly.  Now we turn to the use of basis functions to capture nonlinear roles for these quantitative variables.  Model 5 allows for a nonlinear relationship between age and expected blood pressure, with additive control for sex and BMI."
   ]
  },
  {
   "cell_type": "code",
   "execution_count": null,
   "id": "48b00ada",
   "metadata": {},
   "outputs": [],
   "source": [
    "f5 = \"BPXSY1 ~ bs(RIDAGEYR, 5) + RIAGENDR + BMXBMI\"\n",
    "m5 = sm.OLS.from_formula(f5, df)\n",
    "r5 = m5.fit()\n",
    "plot_all(r5, 5)"
   ]
  },
  {
   "cell_type": "markdown",
   "id": "7a9182ff",
   "metadata": {},
   "source": [
    "Model 6 allows the age trends to differ by sex."
   ]
  },
  {
   "cell_type": "code",
   "execution_count": null,
   "id": "310a6e95",
   "metadata": {},
   "outputs": [],
   "source": [
    "f6 = \"BPXSY1 ~ bs(RIDAGEYR, 5) * RIAGENDR + BMXBMI\"\n",
    "m6 = sm.OLS.from_formula(f6, df)\n",
    "r6 = m6.fit()\n",
    "plot_all(r6, 6)"
   ]
  },
  {
   "cell_type": "markdown",
   "id": "28f63a2b",
   "metadata": {},
   "source": [
    "Model 7 allows BMI trends to differ by sex, but BMI trends remain linear while age is modeled nonlinearly."
   ]
  },
  {
   "cell_type": "code",
   "execution_count": null,
   "id": "c1153470",
   "metadata": {},
   "outputs": [],
   "source": [
    "# Allow BMI trends to differ by sex\n",
    "f7 = \"BPXSY1 ~ bs(RIDAGEYR, 5) + RIAGENDR * BMXBMI\"\n",
    "m7 = sm.OLS.from_formula(f7, df)\n",
    "r7 = m7.fit()\n",
    "plot_all(r7, 7)"
   ]
  },
  {
   "cell_type": "markdown",
   "id": "b4381ebc",
   "metadata": {},
   "source": [
    "Model 8 allows both the nonlinear age and linear BMI effects to differ by sex."
   ]
  },
  {
   "cell_type": "code",
   "execution_count": null,
   "id": "10ff024e",
   "metadata": {},
   "outputs": [],
   "source": [
    "f8 = \"BPXSY1 ~ (bs(RIDAGEYR, 5) + BMXBMI) * RIAGENDR\"\n",
    "m8 = sm.OLS.from_formula(f8, df)\n",
    "r8 = m8.fit()\n",
    "plot_all(r8, 8)"
   ]
  },
  {
   "cell_type": "markdown",
   "id": "75e986e3",
   "metadata": {},
   "source": [
    "Model 9 allows full interactions among nonlinear age, linear BMI, and sex."
   ]
  },
  {
   "cell_type": "code",
   "execution_count": null,
   "id": "4f63affe",
   "metadata": {},
   "outputs": [],
   "source": [
    "f9 = \"BPXSY1 ~ bs(RIDAGEYR, 5) * BMXBMI * RIAGENDR\"\n",
    "m9 = sm.OLS.from_formula(f9, df)\n",
    "r9 = m9.fit()\n",
    "plot_all(r9, 9)"
   ]
  },
  {
   "cell_type": "code",
   "execution_count": null,
   "id": "35775e81",
   "metadata": {},
   "outputs": [],
   "source": [
    "# Full interactions among nonlinear age, BMI, and sex with additive control for ethnicity\n",
    "f10 = \"BPXSY1 ~ bs(RIDAGEYR, 5) * BMXBMI * RIAGENDR + RIDRETH1\"\n",
    "m10 = sm.OLS.from_formula(f10, df)\n",
    "r10 = m10.fit()\n",
    "plot_all(r10, 10)"
   ]
  },
  {
   "cell_type": "markdown",
   "id": "117874cf",
   "metadata": {},
   "source": [
    "Model 11 has everything from model 10 and also includes main effects for ethnicity and an ethnicity x sex interaction."
   ]
  },
  {
   "cell_type": "code",
   "execution_count": null,
   "id": "5204a8d1",
   "metadata": {},
   "outputs": [],
   "source": [
    "f11 = \"BPXSY1 ~ (bs(RIDAGEYR, 5) * BMXBMI + RIDRETH1) * RIAGENDR\"\n",
    "m11 = sm.OLS.from_formula(f11, df)\n",
    "r11 = m11.fit()\n",
    "plot_all(r11, 11)"
   ]
  },
  {
   "cell_type": "markdown",
   "id": "907cb7aa",
   "metadata": {},
   "source": [
    "Model 12 has full interactions among nonlinear age, BMI, and sex, and between sex and ethnicity, and between linear age and ethnicity."
   ]
  },
  {
   "cell_type": "code",
   "execution_count": null,
   "id": "c2d1f606",
   "metadata": {},
   "outputs": [],
   "source": [
    "f12 = \"BPXSY1 ~ bs(RIDAGEYR, 5) * BMXBMI * RIAGENDR + (RIAGENDR + RIDAGEYR) * RIDRETH1\"\n",
    "m12 = sm.OLS.from_formula(f12, df)\n",
    "r12 = m12.fit()\n",
    "plot_all(r12, 12)"
   ]
  },
  {
   "cell_type": "markdown",
   "id": "47db5bf4",
   "metadata": {},
   "source": [
    "Model 13 has full interactions among nonlinear age, BMI, and sex, and between sex and ethnicity, and between nonlinear age and ethnicity."
   ]
  },
  {
   "cell_type": "code",
   "execution_count": null,
   "id": "3c361526",
   "metadata": {},
   "outputs": [],
   "source": [
    "f13 = \"BPXSY1 ~ bs(RIDAGEYR, 5) * BMXBMI * RIAGENDR + (RIAGENDR + bs(RIDAGEYR, 5)) * RIDRETH1\"\n",
    "m13 = sm.OLS.from_formula(f13, df)\n",
    "r13 = m13.fit()\n",
    "plot_all(r13, 13)"
   ]
  },
  {
   "cell_type": "markdown",
   "id": "78bbadf7",
   "metadata": {},
   "source": [
    "Model 14 has full interactions among nonlinear age, BMI, sex, and ethnicity."
   ]
  },
  {
   "cell_type": "code",
   "execution_count": null,
   "id": "ea2c7304",
   "metadata": {},
   "outputs": [],
   "source": [
    "f14 = \"BPXSY1 ~ bs(RIDAGEYR, 5) * BMXBMI * RIAGENDR * RIDRETH1\"\n",
    "m14 = sm.OLS.from_formula(f14, df)\n",
    "r14 = m14.fit()\n",
    "plot_all(r14, 14)"
   ]
  },
  {
   "cell_type": "markdown",
   "id": "fb3b0559",
   "metadata": {},
   "source": [
    "Check AICs"
   ]
  },
  {
   "cell_type": "code",
   "execution_count": null,
   "id": "2783b22f",
   "metadata": {},
   "outputs": [],
   "source": [
    "print(\"AIC for models 0-14:\")\n",
    "maic = [x.aic for x in (r0, r1, r2, r3, r4, r5, r6, r7, r8, r9, r10, r11, r12, r13, r14)]\n",
    "maic = np.asarray(maic)\n",
    "maic -= maic.min()\n",
    "print(maic)"
   ]
  },
  {
   "cell_type": "code",
   "execution_count": null,
   "id": "5e0a2a2e",
   "metadata": {},
   "outputs": [],
   "source": [
    "plt.grid(True)\n",
    "plt.plot(r12.fittedvalues, r12.resid, \"o\", alpha=0.2)\n",
    "plt.xlabel(\"Fitted values\", size=14)\n",
    "plt.ylabel(\"Residuals\", size=14)"
   ]
  },
  {
   "cell_type": "markdown",
   "id": "3eeede24",
   "metadata": {},
   "source": [
    "All models above were fit using ordinary least squares (OLS), which works best under homoscedasticity (no relationship between the conditional variance and conditional mean).  We can assess this using the plot below, which reveals an increasing mean/variance relationship.  Since the mean/variance relationship is not strong, especially up to 140 mm Hg where most of the data lie, we have decided to ignore this above."
   ]
  },
  {
   "cell_type": "code",
   "execution_count": null,
   "id": "7e957c1e",
   "metadata": {},
   "outputs": [],
   "source": [
    "from statsmodels.nonparametric.smoothers_lowess import lowess\n",
    "xl = lowess(np.abs(r12.resid), r12.fittedvalues, frac=0.1)\n",
    "\n",
    "plt.grid(True)\n",
    "plt.plot(r12.fittedvalues, np.abs(r12.resid), \"o\", alpha=0.2)\n",
    "plt.plot(xl[:, 0], xl[:, 1], \"-\", color=\"orange\")\n",
    "plt.xlabel(\"Fitted values\", size=14)\n",
    "plt.ylabel(\"Residuals\", size=14)"
   ]
  },
  {
   "cell_type": "markdown",
   "id": "907bd57b",
   "metadata": {
    "lines_to_next_cell": 2
   },
   "source": [
    "Many of the models above employed B-spline basis functions to capture the nonlinear relationships between quantitative predictors and expected blood pressure.  Below we plot the basis functions for different degrees of freedom.  This is a didactic plot intended to help us understand how the models work."
   ]
  },
  {
   "cell_type": "code",
   "execution_count": null,
   "id": "5e4a72a2",
   "metadata": {},
   "outputs": [],
   "source": [
    "df = df.sort_values(by=\"RIDAGEYR\")\n",
    "for j in [3, 5, 10]:\n",
    "    y = patsy.dmatrix(\"0 + bs(RIDAGEYR, %d)\" % j, df)\n",
    "    plt.clf()\n",
    "    plt.grid(True)\n",
    "    plt.title(\"%d dimensional cubic B-spline basis\" % j)\n",
    "    for k in range(j):\n",
    "        plt.plot(df[\"RIDAGEYR\"], y[:, k], \"-\", color=\"blue\", alpha=0.6)\n",
    "    plt.xlabel(\"RIDAGEYR\", size=15)\n",
    "    plt.ylabel(\"Basis function value\", size=15)\n",
    "    plt.show()"
   ]
  }
 ],
 "metadata": {
  "jupytext": {
   "cell_metadata_filter": "-all",
   "main_language": "python",
   "notebook_metadata_filter": "-all"
  },
  "kernelspec": {
   "display_name": "Python 3 (ipykernel)",
   "language": "python",
   "name": "python3"
  },
  "language_info": {
   "codemirror_mode": {
    "name": "ipython",
    "version": 3
   },
   "file_extension": ".py",
   "mimetype": "text/x-python",
   "name": "python",
   "nbconvert_exporter": "python",
   "pygments_lexer": "ipython3",
   "version": "3.10.9"
  }
 },
 "nbformat": 4,
 "nbformat_minor": 5
}
