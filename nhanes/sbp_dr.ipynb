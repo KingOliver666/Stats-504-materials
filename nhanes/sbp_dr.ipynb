{
 "cells": [
  {
   "cell_type": "markdown",
   "id": "99659fe2",
   "metadata": {},
   "source": [
    "# Blood pressure in US adults - analysis using dimension reduction regression\n",
    "\n",
    "This notebook demonstrates the use of dimension reduction regression to understand the predictors of adult systolic blood pressure in the NHANES data."
   ]
  },
  {
   "cell_type": "code",
   "execution_count": null,
   "id": "d7808ff2",
   "metadata": {},
   "outputs": [],
   "source": [
    "from statsmodels.regression.dimred import SIR\n",
    "import numpy as np\n",
    "import pandas as pd\n",
    "import matplotlib.pyplot as plt\n",
    "from scipy.interpolate import interp1d\n",
    "from statsmodels.nonparametric.smoothers_lowess import lowess\n",
    "from read import *"
   ]
  },
  {
   "cell_type": "markdown",
   "id": "d7bc6848",
   "metadata": {},
   "source": [
    "We will use 10 demographic and anthropometric predictors of systolic blood pressure (SBP)."
   ]
  },
  {
   "cell_type": "code",
   "execution_count": null,
   "id": "c8f277f4",
   "metadata": {},
   "outputs": [],
   "source": [
    "vx = [\"RIAGENDR\", \"RIDAGEYR\", \"BMXWT\", \"BMXHT\", \"BMXBMI\", \"BMXLEG\",\n",
    "      \"BMXARML\", \"BMXARMC\", \"BMXWAIST\", \"BMXHIP\"]\n",
    "vn = [\"BPXSY1\"] + vx"
   ]
  },
  {
   "cell_type": "code",
   "execution_count": null,
   "id": "b5c9e248",
   "metadata": {},
   "outputs": [],
   "source": [
    "dx = df.loc[:, vn].dropna()\n",
    "dx.head()"
   ]
  },
  {
   "cell_type": "markdown",
   "id": "efde8045",
   "metadata": {},
   "source": [
    "The code below requires numerically coded variables."
   ]
  },
  {
   "cell_type": "code",
   "execution_count": null,
   "id": "7deeae19",
   "metadata": {},
   "outputs": [],
   "source": [
    "dx[\"RIAGENDRx\"] = dx.RIAGENDR.replace({\"F\": 1, \"M\": -1})"
   ]
  },
  {
   "cell_type": "markdown",
   "id": "e2adfce0",
   "metadata": {},
   "source": [
    "Dimension reduction regression focuses on explaining deviations from the mean, so we mean center all variables here."
   ]
  },
  {
   "cell_type": "code",
   "execution_count": null,
   "id": "07a1389a",
   "metadata": {},
   "outputs": [],
   "source": [
    "for m in dx.columns:\n",
    "    if dx[m].dtype == np.float64:\n",
    "        dx[m] -= dx[m].mean()"
   ]
  },
  {
   "cell_type": "markdown",
   "id": "ea2b8c8e",
   "metadata": {},
   "source": [
    "Next we fit a dimension reduction (DR) regression model using sliced inverse regression (SIR)."
   ]
  },
  {
   "cell_type": "code",
   "execution_count": null,
   "id": "a7b06b32",
   "metadata": {
    "lines_to_next_cell": 1
   },
   "outputs": [],
   "source": [
    "y = np.asarray(dx[\"BPXSY1\"])\n",
    "vz = [x.replace(\"RIAGENDR\", \"RIAGENDRx\") for x in vx]\n",
    "X = np.asarray(dx[vz])\n",
    "m = SIR(y, X)\n",
    "r = m.fit()\n",
    "scores = np.dot(X, r.params)\n",
    "scores.shape\n",
    "r.params[:, 0:2]"
   ]
  },
  {
   "cell_type": "markdown",
   "id": "02318430",
   "metadata": {},
   "source": [
    "To understand the fitted DR regression model, we stratify on the j'th score, then plot the mean of SBP with respect to the k'th score."
   ]
  },
  {
   "cell_type": "code",
   "execution_count": null,
   "id": "562dcdd0",
   "metadata": {
    "lines_to_next_cell": 1
   },
   "outputs": [],
   "source": [
    "def plotstrat(j, k, scores):\n",
    "\n",
    "    dp = pd.DataFrame({\"strat\": scores[:, j], \"x\": scores[:, k], \"y\": dx.BPXSY1})\n",
    "    dp[\"strat\"] = pd.qcut(scores[:, j], 5)\n",
    "\n",
    "    plt.clf()\n",
    "    plt.figure(figsize=(7, 4))\n",
    "    plt.axes([0.12, 0.12, 0.65, 0.8])\n",
    "    plt.grid(True)\n",
    "    for ky, dv in dp.groupby(\"strat\"):\n",
    "        xx = np.linspace(dv.x.min(), dv.x.max(), 100)\n",
    "        m = lowess(dv.y, dv.x)\n",
    "        f = interp1d(m[:, 0], m[:, 1])\n",
    "        la = \"%.2f-%.2f\" % (ky.left, ky.right)\n",
    "        plt.plot(xx, f(xx), \"-\", label=la)\n",
    "\n",
    "    ha, lb = plt.gca().get_legend_handles_labels()\n",
    "    leg = plt.figlegend(ha, lb, loc=\"center right\")\n",
    "    leg.draw_frame(False)\n",
    "    leg.set_title(\"Score %d\" % (j + 1))\n",
    "\n",
    "    plt.xlabel(\"Score %d\" % (k + 1), size=15)\n",
    "    plt.ylabel(\"SBP (centered)\", size=15)\n",
    "    plt.show()"
   ]
  },
  {
   "cell_type": "markdown",
   "id": "c60eca37",
   "metadata": {},
   "source": [
    "We can stratify on score 2 then plot against score 1, and then we can stratify on score 1 and plot against score 2. \n",
    "\n",
    "From the first plot below (stratifying on score 2), we see that expected blood pressure is increasing in score 1 for every fixed value of score 2.  However, the rates of increase differ.  People with greater values of score 2 have a steeper increase of expected SBP with respect to score 1.\n",
    "\n",
    "From the second plot below (stratifying on score 1), we see that expected SBP can be either increasing or decreasing with respect to score 2, depending on the value of score 1.  For large values of score 1, expected SBP is increasing in score 2, while for small (negative) values of score 1, expected SBP is decreasing in score 2."
   ]
  },
  {
   "cell_type": "code",
   "execution_count": null,
   "id": "07d79c1a",
   "metadata": {},
   "outputs": [],
   "source": [
    "plotstrat(1, 0, scores)\n",
    "plotstrat(0, 1, scores)"
   ]
  },
  {
   "cell_type": "code",
   "execution_count": null,
   "id": "6b8629a2",
   "metadata": {},
   "outputs": [],
   "source": [
    "cols = {\"F\": \"orange\", \"M\": \"purple\"}"
   ]
  },
  {
   "cell_type": "markdown",
   "id": "c5f5273d",
   "metadata": {},
   "source": [
    "To undestand what the scores mean, we can plot each score against each covariate."
   ]
  },
  {
   "cell_type": "code",
   "execution_count": null,
   "id": "2020efe8",
   "metadata": {},
   "outputs": [],
   "source": [
    "for j in range(2):\n",
    "    for x in dx.columns:\n",
    "        if x in [\"RIAGENDR\",\"RIAGENDRx\"] :\n",
    "            continue\n",
    "        plt.figure(figsize=(7, 5))\n",
    "        plt.clf()\n",
    "        plt.grid(True)\n",
    "        if x != \"BPXSY1\":\n",
    "            plt.xlabel(x, size=15)\n",
    "            plt.ylabel(\"Score %d\" % (j + 1), size=15)\n",
    "            dp = pd.DataFrame({\"x\": dx[x], \"y\": scores[:,j], \"sex\": dx[\"RIAGENDR\"]})\n",
    "            for sex in \"F\", \"M\":\n",
    "                ii = dp.sex == sex\n",
    "                dz = dp.loc[ii, :]\n",
    "                lw = lowess(dz[\"y\"], dz[\"x\"])\n",
    "                plt.plot(dz[\"x\"], dz[\"y\"], \"o\", mfc=\"none\", alpha=0.2, color=cols[sex],\n",
    "                         label=sex, rasterized=True)\n",
    "                plt.plot(lw[:, 0], lw[:, 1], \"-\", color=cols[sex])\n",
    "        else:\n",
    "            plt.ylabel(x, size=15)\n",
    "            plt.xlabel(\"Score %d\" % (j + 1), size=15)\n",
    "            dp = pd.DataFrame({\"y\": dx[x], \"x\": scores[:,j], \"sex\": dx[\"RIAGENDR\"]})\n",
    "            for sex in \"F\", \"M\":\n",
    "                ii = dp.sex == sex\n",
    "                dz = dp.loc[ii, :]\n",
    "                lw = lowess(dz[\"y\"], dz[\"x\"])\n",
    "                plt.plot(dz[\"x\"], dz[\"y\"], \"o\", mfc=\"none\", color=cols[sex],\n",
    "                         alpha=0.2, label=sex, rasterized=True)\n",
    "                plt.plot(lw[:, 0], lw[:, 1], \"-\", color=cols[sex])\n",
    "        ha, lb = plt.gca().get_legend_handles_labels()\n",
    "        leg = plt.figlegend(ha, lb, loc=\"center right\")\n",
    "        leg.draw_frame(False)\n"
   ]
  },
  {
   "cell_type": "markdown",
   "id": "2bcfe004",
   "metadata": {},
   "source": [
    "Here is one way of understanding the results above:\n",
    "\n",
    "Score 1 appears to be \"sex adjusted age\".  The relationship between score 1 and age is nearly perfectly linear, and there is a difference in intercept but not in the slope based on sex.  Score 1 increases linearly in age, at around 0.5 points per decade of life, and males are about 0.5 units greater than females at the same age. \n",
    "\n",
    "Score 1 also has associations with other variables, but the interpretation of score 1 as \"sex adjusted age\" seems most straightforward, as there is much more scatter in the other relationships.  Score 1 associates positively with SBP, so arguably score 1 capture much of the role of sex and age in relation to blood pressure.\n",
    "\n",
    "Score 2 also plays an important role, in that it moderates the relationship between SBP and score 1.  People with a greater positive value of score 2 will have a steeper slope between SBP and score 1, while people with a negative value of score 2 will have a weaker (but still positive) relationship between SBP and score 1.\n",
    "\n",
    "Score 2 is related to several of the anthropometric measures, but is most strongly related to BMI and arm circumference.  People with greater BMI and arm circumference have lower values of score 2, which as noted above moderates the relationship between SBP and score 1 (age/sex).  People with greater body fat have greater SBP at earlier ages, but their SBP increases more slowly with age.\n",
    "\n",
    "Also of note is that score 2 on its own has minimal association with SBP and only a modest association with age."
   ]
  }
 ],
 "metadata": {
  "jupytext": {
   "cell_metadata_filter": "-all",
   "main_language": "python",
   "notebook_metadata_filter": "-all"
  },
  "kernelspec": {
   "display_name": "Python 3 (ipykernel)",
   "language": "python",
   "name": "python3"
  },
  "language_info": {
   "codemirror_mode": {
    "name": "ipython",
    "version": 3
   },
   "file_extension": ".py",
   "mimetype": "text/x-python",
   "name": "python",
   "nbconvert_exporter": "python",
   "pygments_lexer": "ipython3",
   "version": "3.10.9"
  }
 },
 "nbformat": 4,
 "nbformat_minor": 5
}
